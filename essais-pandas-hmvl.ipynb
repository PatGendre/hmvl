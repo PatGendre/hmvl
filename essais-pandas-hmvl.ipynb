{
 "cells": [
  {
   "cell_type": "code",
   "execution_count": 1,
   "metadata": {},
   "outputs": [],
   "source": [
    "import pandas as pd\n",
    "import matplotlib\n",
    "import psycopg2"
   ]
  },
  {
   "cell_type": "code",
   "execution_count": 3,
   "metadata": {},
   "outputs": [],
   "source": [
    "host=\"localhost\"\n",
    "port=5432\n",
    "dbname=\"hmvl\"\n",
    "username=\"dirmed\"\n",
    "#pwd=\"votremotdepasse\""
   ]
  },
  {
   "cell_type": "code",
   "execution_count": 4,
   "metadata": {},
   "outputs": [],
   "source": [
    "# mise à jour 29/04 : suppression des fichiers en doublon avant l'import en base,\n",
    "# import 25,26,27 avril\n",
    "# l'import est rapide pour une journée, mais moins pour les 2 suivantes, 6M de lignes (40',80',120' !)\n",
    "# la lecture dans pandas prend 1' sur un pc standard avec 8Go de ram\n",
    "conn = psycopg2.connect(\"host='{}' port={} dbname='{}' user={} password={}\".format(host, port, dbname, username, pwd))\n",
    "sql = \"select * from hmvl;\"\n",
    "hmvl = pd.read_sql_query(sql, conn)\n",
    "conn = None"
   ]
  },
  {
   "cell_type": "code",
   "execution_count": 5,
   "metadata": {},
   "outputs": [],
   "source": [
    "hmvl[\"hdt\"] = pd.to_datetime(hmvl[\"hdt\"],utc=True)"
   ]
  },
  {
   "cell_type": "code",
   "execution_count": 6,
   "metadata": {},
   "outputs": [
    {
     "data": {
      "text/plain": [
       "id                           int64\n",
       "horodate_id                 object\n",
       "hdt            datetime64[ns, UTC]\n",
       "station                     object\n",
       "status                      object\n",
       "voie                        object\n",
       "vitesse                    float64\n",
       "longueur                   float64\n",
       "statuttr                    object\n",
       "dtype: object"
      ]
     },
     "execution_count": 6,
     "metadata": {},
     "output_type": "execute_result"
    }
   ],
   "source": [
    "hmvl.dtypes"
   ]
  },
  {
   "cell_type": "code",
   "execution_count": 7,
   "metadata": {},
   "outputs": [
    {
     "name": "stdout",
     "output_type": "stream",
     "text": [
      "B    2882296\n",
      "@    1890562\n",
      "H     426441\n",
      "J     247350\n",
      "b         62\n",
      "I         21\n",
      "          11\n",
      "Name: statuttr, dtype: int64\n",
      "Empty DataFrame\n",
      "Columns: [id, horodate_id, hdt, station, status, voie, vitesse, longueur, statuttr]\n",
      "Index: []\n"
     ]
    },
    {
     "data": {
      "text/html": [
       "<div>\n",
       "<style scoped>\n",
       "    .dataframe tbody tr th:only-of-type {\n",
       "        vertical-align: middle;\n",
       "    }\n",
       "\n",
       "    .dataframe tbody tr th {\n",
       "        vertical-align: top;\n",
       "    }\n",
       "\n",
       "    .dataframe thead th {\n",
       "        text-align: right;\n",
       "    }\n",
       "</style>\n",
       "<table border=\"1\" class=\"dataframe\">\n",
       "  <thead>\n",
       "    <tr style=\"text-align: right;\">\n",
       "      <th></th>\n",
       "      <th>id</th>\n",
       "      <th>horodate_id</th>\n",
       "      <th>hdt</th>\n",
       "      <th>station</th>\n",
       "      <th>status</th>\n",
       "      <th>voie</th>\n",
       "      <th>vitesse</th>\n",
       "      <th>longueur</th>\n",
       "      <th>statuttr</th>\n",
       "    </tr>\n",
       "  </thead>\n",
       "  <tbody>\n",
       "    <tr>\n",
       "      <th>18</th>\n",
       "      <td>19</td>\n",
       "      <td>Sat Apr 25 08:40:18 2020</td>\n",
       "      <td>2020-04-25 06:40:18+00:00</td>\n",
       "      <td>M1c</td>\n",
       "      <td>0</td>\n",
       "      <td>None</td>\n",
       "      <td>NaN</td>\n",
       "      <td>NaN</td>\n",
       "      <td>H</td>\n",
       "    </tr>\n",
       "    <tr>\n",
       "      <th>25</th>\n",
       "      <td>26</td>\n",
       "      <td>Sat Apr 25 08:40:18 2020</td>\n",
       "      <td>2020-04-25 06:40:29.570000+00:00</td>\n",
       "      <td>M1b</td>\n",
       "      <td>0</td>\n",
       "      <td>0</td>\n",
       "      <td>115.0</td>\n",
       "      <td>5.4</td>\n",
       "      <td>H</td>\n",
       "    </tr>\n",
       "    <tr>\n",
       "      <th>26</th>\n",
       "      <td>27</td>\n",
       "      <td>Sat Apr 25 08:40:18 2020</td>\n",
       "      <td>2020-04-25 06:40:29.800000+00:00</td>\n",
       "      <td>M1b</td>\n",
       "      <td>0</td>\n",
       "      <td>1</td>\n",
       "      <td>111.0</td>\n",
       "      <td>4.3</td>\n",
       "      <td>H</td>\n",
       "    </tr>\n",
       "    <tr>\n",
       "      <th>98</th>\n",
       "      <td>99</td>\n",
       "      <td>Sat Apr 25 08:40:18 2020</td>\n",
       "      <td>2020-04-25 06:40:31.690000+00:00</td>\n",
       "      <td>M1h</td>\n",
       "      <td>0</td>\n",
       "      <td>0</td>\n",
       "      <td>113.0</td>\n",
       "      <td>3.2</td>\n",
       "      <td>H</td>\n",
       "    </tr>\n",
       "    <tr>\n",
       "      <th>99</th>\n",
       "      <td>100</td>\n",
       "      <td>Sat Apr 25 08:40:18 2020</td>\n",
       "      <td>2020-04-25 06:40:34.510000+00:00</td>\n",
       "      <td>M1h</td>\n",
       "      <td>0</td>\n",
       "      <td>0</td>\n",
       "      <td>84.0</td>\n",
       "      <td>3.1</td>\n",
       "      <td>H</td>\n",
       "    </tr>\n",
       "    <tr>\n",
       "      <th>114</th>\n",
       "      <td>115</td>\n",
       "      <td>Sat Apr 25 08:40:18 2020</td>\n",
       "      <td>2020-04-25 06:40:31.960000+00:00</td>\n",
       "      <td>M1B</td>\n",
       "      <td>0</td>\n",
       "      <td>1</td>\n",
       "      <td>84.0</td>\n",
       "      <td>3.9</td>\n",
       "      <td>H</td>\n",
       "    </tr>\n",
       "    <tr>\n",
       "      <th>153</th>\n",
       "      <td>154</td>\n",
       "      <td>Sat Apr 25 08:40:18 2020</td>\n",
       "      <td>2020-04-25 06:40:18+00:00</td>\n",
       "      <td>M3x</td>\n",
       "      <td>0</td>\n",
       "      <td>None</td>\n",
       "      <td>NaN</td>\n",
       "      <td>NaN</td>\n",
       "      <td>H</td>\n",
       "    </tr>\n",
       "    <tr>\n",
       "      <th>164</th>\n",
       "      <td>165</td>\n",
       "      <td>Sat Apr 25 08:40:18 2020</td>\n",
       "      <td>2020-04-25 06:40:31.690000+00:00</td>\n",
       "      <td>M7j</td>\n",
       "      <td>0</td>\n",
       "      <td>0</td>\n",
       "      <td>85.0</td>\n",
       "      <td>11.5</td>\n",
       "      <td>H</td>\n",
       "    </tr>\n",
       "    <tr>\n",
       "      <th>165</th>\n",
       "      <td>166</td>\n",
       "      <td>Sat Apr 25 08:40:18 2020</td>\n",
       "      <td>2020-04-25 06:40:32.600000+00:00</td>\n",
       "      <td>M7j</td>\n",
       "      <td>0</td>\n",
       "      <td>1</td>\n",
       "      <td>101.0</td>\n",
       "      <td>4.4</td>\n",
       "      <td>H</td>\n",
       "    </tr>\n",
       "    <tr>\n",
       "      <th>166</th>\n",
       "      <td>167</td>\n",
       "      <td>Sat Apr 25 08:40:18 2020</td>\n",
       "      <td>2020-04-25 06:40:33.240000+00:00</td>\n",
       "      <td>M7j</td>\n",
       "      <td>0</td>\n",
       "      <td>0</td>\n",
       "      <td>85.0</td>\n",
       "      <td>5.7</td>\n",
       "      <td>H</td>\n",
       "    </tr>\n",
       "    <tr>\n",
       "      <th>176</th>\n",
       "      <td>177</td>\n",
       "      <td>Sat Apr 25 08:40:18 2020</td>\n",
       "      <td>2020-04-25 06:40:33.920000+00:00</td>\n",
       "      <td>M7r</td>\n",
       "      <td>0</td>\n",
       "      <td>0</td>\n",
       "      <td>100.0</td>\n",
       "      <td>4.0</td>\n",
       "      <td>H</td>\n",
       "    </tr>\n",
       "    <tr>\n",
       "      <th>180</th>\n",
       "      <td>181</td>\n",
       "      <td>Sat Apr 25 08:40:18 2020</td>\n",
       "      <td>2020-04-25 06:40:32.170000+00:00</td>\n",
       "      <td>M3X</td>\n",
       "      <td>0</td>\n",
       "      <td>0</td>\n",
       "      <td>78.0</td>\n",
       "      <td>5.5</td>\n",
       "      <td>H</td>\n",
       "    </tr>\n",
       "    <tr>\n",
       "      <th>185</th>\n",
       "      <td>186</td>\n",
       "      <td>Sat Apr 25 08:40:18 2020</td>\n",
       "      <td>2020-04-25 06:40:32.550000+00:00</td>\n",
       "      <td>M7t</td>\n",
       "      <td>0</td>\n",
       "      <td>0</td>\n",
       "      <td>124.0</td>\n",
       "      <td>4.3</td>\n",
       "      <td>H</td>\n",
       "    </tr>\n",
       "    <tr>\n",
       "      <th>192</th>\n",
       "      <td>193</td>\n",
       "      <td>Sat Apr 25 08:40:18 2020</td>\n",
       "      <td>2020-04-25 06:40:18+00:00</td>\n",
       "      <td>M7P</td>\n",
       "      <td>0</td>\n",
       "      <td>None</td>\n",
       "      <td>NaN</td>\n",
       "      <td>NaN</td>\n",
       "      <td>H</td>\n",
       "    </tr>\n",
       "    <tr>\n",
       "      <th>220</th>\n",
       "      <td>221</td>\n",
       "      <td>Sat Apr 25 08:40:24 2020</td>\n",
       "      <td>2020-04-25 06:40:24+00:00</td>\n",
       "      <td>M1c</td>\n",
       "      <td>0</td>\n",
       "      <td>None</td>\n",
       "      <td>NaN</td>\n",
       "      <td>NaN</td>\n",
       "      <td>H</td>\n",
       "    </tr>\n",
       "    <tr>\n",
       "      <th>232</th>\n",
       "      <td>233</td>\n",
       "      <td>Sat Apr 25 08:40:24 2020</td>\n",
       "      <td>2020-04-25 06:40:39.400000+00:00</td>\n",
       "      <td>M1b</td>\n",
       "      <td>0</td>\n",
       "      <td>1</td>\n",
       "      <td>108.0</td>\n",
       "      <td>6.7</td>\n",
       "      <td>H</td>\n",
       "    </tr>\n",
       "    <tr>\n",
       "      <th>233</th>\n",
       "      <td>234</td>\n",
       "      <td>Sat Apr 25 08:40:24 2020</td>\n",
       "      <td>2020-04-25 06:40:40.310000+00:00</td>\n",
       "      <td>M1b</td>\n",
       "      <td>0</td>\n",
       "      <td>1</td>\n",
       "      <td>109.0</td>\n",
       "      <td>3.8</td>\n",
       "      <td>H</td>\n",
       "    </tr>\n",
       "    <tr>\n",
       "      <th>337</th>\n",
       "      <td>338</td>\n",
       "      <td>Sat Apr 25 08:40:24 2020</td>\n",
       "      <td>2020-04-25 06:40:24+00:00</td>\n",
       "      <td>M3x</td>\n",
       "      <td>0</td>\n",
       "      <td>None</td>\n",
       "      <td>NaN</td>\n",
       "      <td>NaN</td>\n",
       "      <td>H</td>\n",
       "    </tr>\n",
       "    <tr>\n",
       "      <th>345</th>\n",
       "      <td>346</td>\n",
       "      <td>Sat Apr 25 08:40:24 2020</td>\n",
       "      <td>2020-04-25 06:40:24+00:00</td>\n",
       "      <td>M7j</td>\n",
       "      <td>0</td>\n",
       "      <td>None</td>\n",
       "      <td>NaN</td>\n",
       "      <td>NaN</td>\n",
       "      <td>H</td>\n",
       "    </tr>\n",
       "    <tr>\n",
       "      <th>358</th>\n",
       "      <td>359</td>\n",
       "      <td>Sat Apr 25 08:40:24 2020</td>\n",
       "      <td>2020-04-25 06:40:24+00:00</td>\n",
       "      <td>M7r</td>\n",
       "      <td>0</td>\n",
       "      <td>None</td>\n",
       "      <td>NaN</td>\n",
       "      <td>NaN</td>\n",
       "      <td>H</td>\n",
       "    </tr>\n",
       "  </tbody>\n",
       "</table>\n",
       "</div>"
      ],
      "text/plain": [
       "      id               horodate_id                              hdt station  \\\n",
       "18    19  Sat Apr 25 08:40:18 2020        2020-04-25 06:40:18+00:00     M1c   \n",
       "25    26  Sat Apr 25 08:40:18 2020 2020-04-25 06:40:29.570000+00:00     M1b   \n",
       "26    27  Sat Apr 25 08:40:18 2020 2020-04-25 06:40:29.800000+00:00     M1b   \n",
       "98    99  Sat Apr 25 08:40:18 2020 2020-04-25 06:40:31.690000+00:00     M1h   \n",
       "99   100  Sat Apr 25 08:40:18 2020 2020-04-25 06:40:34.510000+00:00     M1h   \n",
       "114  115  Sat Apr 25 08:40:18 2020 2020-04-25 06:40:31.960000+00:00     M1B   \n",
       "153  154  Sat Apr 25 08:40:18 2020        2020-04-25 06:40:18+00:00     M3x   \n",
       "164  165  Sat Apr 25 08:40:18 2020 2020-04-25 06:40:31.690000+00:00     M7j   \n",
       "165  166  Sat Apr 25 08:40:18 2020 2020-04-25 06:40:32.600000+00:00     M7j   \n",
       "166  167  Sat Apr 25 08:40:18 2020 2020-04-25 06:40:33.240000+00:00     M7j   \n",
       "176  177  Sat Apr 25 08:40:18 2020 2020-04-25 06:40:33.920000+00:00     M7r   \n",
       "180  181  Sat Apr 25 08:40:18 2020 2020-04-25 06:40:32.170000+00:00     M3X   \n",
       "185  186  Sat Apr 25 08:40:18 2020 2020-04-25 06:40:32.550000+00:00     M7t   \n",
       "192  193  Sat Apr 25 08:40:18 2020        2020-04-25 06:40:18+00:00     M7P   \n",
       "220  221  Sat Apr 25 08:40:24 2020        2020-04-25 06:40:24+00:00     M1c   \n",
       "232  233  Sat Apr 25 08:40:24 2020 2020-04-25 06:40:39.400000+00:00     M1b   \n",
       "233  234  Sat Apr 25 08:40:24 2020 2020-04-25 06:40:40.310000+00:00     M1b   \n",
       "337  338  Sat Apr 25 08:40:24 2020        2020-04-25 06:40:24+00:00     M3x   \n",
       "345  346  Sat Apr 25 08:40:24 2020        2020-04-25 06:40:24+00:00     M7j   \n",
       "358  359  Sat Apr 25 08:40:24 2020        2020-04-25 06:40:24+00:00     M7r   \n",
       "\n",
       "    status  voie  vitesse  longueur statuttr  \n",
       "18       0  None      NaN       NaN        H  \n",
       "25       0     0    115.0       5.4        H  \n",
       "26       0     1    111.0       4.3        H  \n",
       "98       0     0    113.0       3.2        H  \n",
       "99       0     0     84.0       3.1        H  \n",
       "114      0     1     84.0       3.9        H  \n",
       "153      0  None      NaN       NaN        H  \n",
       "164      0     0     85.0      11.5        H  \n",
       "165      0     1    101.0       4.4        H  \n",
       "166      0     0     85.0       5.7        H  \n",
       "176      0     0    100.0       4.0        H  \n",
       "180      0     0     78.0       5.5        H  \n",
       "185      0     0    124.0       4.3        H  \n",
       "192      0  None      NaN       NaN        H  \n",
       "220      0  None      NaN       NaN        H  \n",
       "232      0     1    108.0       6.7        H  \n",
       "233      0     1    109.0       3.8        H  \n",
       "337      0  None      NaN       NaN        H  \n",
       "345      0  None      NaN       NaN        H  \n",
       "358      0  None      NaN       NaN        H  "
      ]
     },
     "execution_count": 7,
     "metadata": {},
     "output_type": "execute_result"
    }
   ],
   "source": [
    "print(hmvl[\"statuttr\"].value_counts())\n",
    "# a priori on garde les statuts B et @\n",
    "# pour H que fait-on ? en principe c'est une erreur interne mais les valeurs ont l'air correctes\n",
    "# de même pour J... et les autres valeurs ne sont pas documentées\n",
    "# par exemple avec le statuttr J il n'y a aucune ligne avec le status 2\n",
    "print(hmvl[(hmvl[\"status\"]==\"2\") & (hmvl[\"statuttr\"]==\"J\")])\n",
    "# -> a priori le Status TR n'apporte pas d'info permettant d'éliminer des mesures\n",
    "hmvl[hmvl[\"statuttr\"]==\"H\"][:20]\n"
   ]
  },
  {
   "cell_type": "code",
   "execution_count": 20,
   "metadata": {},
   "outputs": [
    {
     "name": "stdout",
     "output_type": "stream",
     "text": [
      "0    5278057\n",
      "2     609726\n",
      "Name: status, dtype: int64\n"
     ]
    },
    {
     "data": {
      "text/plain": [
       "609726"
      ]
     },
     "execution_count": 20,
     "metadata": {},
     "output_type": "execute_result"
    }
   ],
   "source": [
    "print(hmvl[\"status\"].value_counts())\n",
    "# il reste 20% de données avec le status 2\n",
    "# pour toutes les données avec les status 2, voie est None, longueur et vitesse sont Nan\n",
    "hmvl[hmvl[\"status\"]==\"2\"][\"longueur\"].isnull().sum()"
   ]
  },
  {
   "cell_type": "code",
   "execution_count": 31,
   "metadata": {},
   "outputs": [
    {
     "name": "stdout",
     "output_type": "stream",
     "text": [
      "1112140\n",
      "1111390\n",
      "1111390\n"
     ]
    }
   ],
   "source": [
    "print(hmvl[hmvl[\"status\"]==\"0\"][\"longueur\"].isnull().sum())\n",
    "print(hmvl[hmvl[\"status\"]==\"0\"][\"vitesse\"].isnull().sum())\n",
    "print(hmvl[hmvl[\"status\"]==\"0\"][\"voie\"].isnull().sum())\n",
    "# pour les données de status 0 (Ok) il y a 20% de mesures vides"
   ]
  },
  {
   "cell_type": "code",
   "execution_count": 47,
   "metadata": {},
   "outputs": [
    {
     "data": {
      "text/plain": [
       "<matplotlib.axes._subplots.AxesSubplot at 0x7f5ba0ae2250>"
      ]
     },
     "execution_count": 47,
     "metadata": {},
     "output_type": "execute_result"
    },
    {
     "data": {
      "image/png": "[encoded data removed]",
      "text/plain": [
       "<Figure size 432x288 with 1 Axes>"
      ]
     },
     "metadata": {
      "needs_background": "light"
     },
     "output_type": "display_data"
    }
   ],
   "source": [
    "hmvl[hmvl[\"status\"]==\"0\"][\"station\"].value_counts().plot()\n",
    "hmvl[(hmvl[\"status\"]==\"0\") & (hmvl[\"vitesse\"].isnull())][\"station\"].value_counts().plot()\n",
    "hmvl[hmvl[\"status\"]==\"2\"][\"station\"].value_counts().plot()\n",
    "# une dizaine de stations a beaucoup de mesures vides, il faudrait calculer un indicateur \n",
    "# par ex. nb de status 2 par jour, heure, station\n"
   ]
  },
  {
   "cell_type": "code",
   "execution_count": 45,
   "metadata": {},
   "outputs": [
    {
     "data": {
      "text/html": [
       "<div>\n",
       "<style scoped>\n",
       "    .dataframe tbody tr th:only-of-type {\n",
       "        vertical-align: middle;\n",
       "    }\n",
       "\n",
       "    .dataframe tbody tr th {\n",
       "        vertical-align: top;\n",
       "    }\n",
       "\n",
       "    .dataframe thead th {\n",
       "        text-align: right;\n",
       "    }\n",
       "</style>\n",
       "<table border=\"1\" class=\"dataframe\">\n",
       "  <thead>\n",
       "    <tr style=\"text-align: right;\">\n",
       "      <th></th>\n",
       "      <th>id</th>\n",
       "      <th>horodate_id</th>\n",
       "      <th>hdt</th>\n",
       "      <th>station</th>\n",
       "      <th>status</th>\n",
       "      <th>voie</th>\n",
       "      <th>vitesse</th>\n",
       "      <th>longueur</th>\n",
       "      <th>statuttr</th>\n",
       "    </tr>\n",
       "  </thead>\n",
       "  <tbody>\n",
       "    <tr>\n",
       "      <th>6</th>\n",
       "      <td>7</td>\n",
       "      <td>Sat Apr 25 08:40:18 2020</td>\n",
       "      <td>2020-04-25 06:40:18+00:00</td>\n",
       "      <td>M3b</td>\n",
       "      <td>0</td>\n",
       "      <td>None</td>\n",
       "      <td>NaN</td>\n",
       "      <td>NaN</td>\n",
       "      <td>@</td>\n",
       "    </tr>\n",
       "    <tr>\n",
       "      <th>7</th>\n",
       "      <td>8</td>\n",
       "      <td>Sat Apr 25 08:40:18 2020</td>\n",
       "      <td>2020-04-25 06:40:18+00:00</td>\n",
       "      <td>M3c</td>\n",
       "      <td>0</td>\n",
       "      <td>None</td>\n",
       "      <td>NaN</td>\n",
       "      <td>NaN</td>\n",
       "      <td>@</td>\n",
       "    </tr>\n",
       "    <tr>\n",
       "      <th>9</th>\n",
       "      <td>10</td>\n",
       "      <td>Sat Apr 25 08:40:18 2020</td>\n",
       "      <td>2020-04-25 06:40:18+00:00</td>\n",
       "      <td>M7n</td>\n",
       "      <td>0</td>\n",
       "      <td>None</td>\n",
       "      <td>NaN</td>\n",
       "      <td>NaN</td>\n",
       "      <td>@</td>\n",
       "    </tr>\n",
       "    <tr>\n",
       "      <th>10</th>\n",
       "      <td>11</td>\n",
       "      <td>Sat Apr 25 08:40:18 2020</td>\n",
       "      <td>2020-04-25 06:40:18+00:00</td>\n",
       "      <td>M7o</td>\n",
       "      <td>0</td>\n",
       "      <td>None</td>\n",
       "      <td>NaN</td>\n",
       "      <td>NaN</td>\n",
       "      <td>@</td>\n",
       "    </tr>\n",
       "    <tr>\n",
       "      <th>18</th>\n",
       "      <td>19</td>\n",
       "      <td>Sat Apr 25 08:40:18 2020</td>\n",
       "      <td>2020-04-25 06:40:18+00:00</td>\n",
       "      <td>M1c</td>\n",
       "      <td>0</td>\n",
       "      <td>None</td>\n",
       "      <td>NaN</td>\n",
       "      <td>NaN</td>\n",
       "      <td>H</td>\n",
       "    </tr>\n",
       "    <tr>\n",
       "      <th>...</th>\n",
       "      <td>...</td>\n",
       "      <td>...</td>\n",
       "      <td>...</td>\n",
       "      <td>...</td>\n",
       "      <td>...</td>\n",
       "      <td>...</td>\n",
       "      <td>...</td>\n",
       "      <td>...</td>\n",
       "      <td>...</td>\n",
       "    </tr>\n",
       "    <tr>\n",
       "      <th>6026573</th>\n",
       "      <td>8824144</td>\n",
       "      <td>Mon Apr 27 22:23:24 2020</td>\n",
       "      <td>2020-04-27 20:23:24+00:00</td>\n",
       "      <td>M4b</td>\n",
       "      <td>0</td>\n",
       "      <td>None</td>\n",
       "      <td>NaN</td>\n",
       "      <td>NaN</td>\n",
       "      <td>@</td>\n",
       "    </tr>\n",
       "    <tr>\n",
       "      <th>6026576</th>\n",
       "      <td>8824147</td>\n",
       "      <td>Mon Apr 27 22:23:24 2020</td>\n",
       "      <td>2020-04-27 20:23:24+00:00</td>\n",
       "      <td>M4g</td>\n",
       "      <td>0</td>\n",
       "      <td>None</td>\n",
       "      <td>NaN</td>\n",
       "      <td>NaN</td>\n",
       "      <td>@</td>\n",
       "    </tr>\n",
       "    <tr>\n",
       "      <th>6026577</th>\n",
       "      <td>8824148</td>\n",
       "      <td>Mon Apr 27 22:23:24 2020</td>\n",
       "      <td>2020-04-27 20:23:24+00:00</td>\n",
       "      <td>M4j</td>\n",
       "      <td>0</td>\n",
       "      <td>None</td>\n",
       "      <td>NaN</td>\n",
       "      <td>NaN</td>\n",
       "      <td>@</td>\n",
       "    </tr>\n",
       "    <tr>\n",
       "      <th>6026578</th>\n",
       "      <td>8824149</td>\n",
       "      <td>Mon Apr 27 22:23:24 2020</td>\n",
       "      <td>2020-04-27 20:23:24+00:00</td>\n",
       "      <td>M4n</td>\n",
       "      <td>0</td>\n",
       "      <td>None</td>\n",
       "      <td>NaN</td>\n",
       "      <td>NaN</td>\n",
       "      <td>@</td>\n",
       "    </tr>\n",
       "    <tr>\n",
       "      <th>6026582</th>\n",
       "      <td>8824153</td>\n",
       "      <td>Mon Apr 27 22:23:24 2020</td>\n",
       "      <td>2020-04-27 20:23:24+00:00</td>\n",
       "      <td>M4B</td>\n",
       "      <td>0</td>\n",
       "      <td>None</td>\n",
       "      <td>NaN</td>\n",
       "      <td>NaN</td>\n",
       "      <td>B</td>\n",
       "    </tr>\n",
       "  </tbody>\n",
       "</table>\n",
       "<p>1111390 rows × 9 columns</p>\n",
       "</div>"
      ],
      "text/plain": [
       "              id               horodate_id                       hdt station  \\\n",
       "6              7  Sat Apr 25 08:40:18 2020 2020-04-25 06:40:18+00:00     M3b   \n",
       "7              8  Sat Apr 25 08:40:18 2020 2020-04-25 06:40:18+00:00     M3c   \n",
       "9             10  Sat Apr 25 08:40:18 2020 2020-04-25 06:40:18+00:00     M7n   \n",
       "10            11  Sat Apr 25 08:40:18 2020 2020-04-25 06:40:18+00:00     M7o   \n",
       "18            19  Sat Apr 25 08:40:18 2020 2020-04-25 06:40:18+00:00     M1c   \n",
       "...          ...                       ...                       ...     ...   \n",
       "6026573  8824144  Mon Apr 27 22:23:24 2020 2020-04-27 20:23:24+00:00     M4b   \n",
       "6026576  8824147  Mon Apr 27 22:23:24 2020 2020-04-27 20:23:24+00:00     M4g   \n",
       "6026577  8824148  Mon Apr 27 22:23:24 2020 2020-04-27 20:23:24+00:00     M4j   \n",
       "6026578  8824149  Mon Apr 27 22:23:24 2020 2020-04-27 20:23:24+00:00     M4n   \n",
       "6026582  8824153  Mon Apr 27 22:23:24 2020 2020-04-27 20:23:24+00:00     M4B   \n",
       "\n",
       "        status  voie  vitesse  longueur statuttr  \n",
       "6            0  None      NaN       NaN        @  \n",
       "7            0  None      NaN       NaN        @  \n",
       "9            0  None      NaN       NaN        @  \n",
       "10           0  None      NaN       NaN        @  \n",
       "18           0  None      NaN       NaN        H  \n",
       "...        ...   ...      ...       ...      ...  \n",
       "6026573      0  None      NaN       NaN        @  \n",
       "6026576      0  None      NaN       NaN        @  \n",
       "6026577      0  None      NaN       NaN        @  \n",
       "6026578      0  None      NaN       NaN        @  \n",
       "6026582      0  None      NaN       NaN        B  \n",
       "\n",
       "[1111390 rows x 9 columns]"
      ]
     },
     "execution_count": 45,
     "metadata": {},
     "output_type": "execute_result"
    }
   ],
   "source": [
    "hmvl[(hmvl[\"status\"]==\"0\") &(hmvl[\"voie\"].isnull())]"
   ]
  },
  {
   "cell_type": "code",
   "execution_count": 8,
   "metadata": {},
   "outputs": [
    {
     "name": "stdout",
     "output_type": "stream",
     "text": [
      "Series([], Name: longueur, dtype: int64)\n",
      "Series([], Name: station, dtype: int64)\n",
      "Series([], Name: station, dtype: int64)\n"
     ]
    }
   ],
   "source": [
    "print(hmvl[hmvl[\"status\"]==\"2\"][\"longueur\"].value_counts())\n",
    "# n'affiche rien:\n",
    "# c'est rassurant, quand le status est 2, il n'y a pasde mesures de vitesse ni de longueur\n",
    "# on peut donc garder les stats de status 2 par station des diagnostics, \n",
    "# et on peut les enlever pour les traitements ultérieurs\n",
    "x=hmvl[hmvl[\"status\"]==\"2\"][\"station\"].value_counts()[0:15]\n",
    "print(x)\n",
    "print(hmvl[\"station\"].value_counts()[x.keys()])\n",
    "# on voit que certaines stations M3S, M8Q... n'ont aucune mesure"
   ]
  },
  {
   "cell_type": "code",
   "execution_count": 29,
   "metadata": {},
   "outputs": [
    {
     "ename": "TypeError",
     "evalue": "index is not a valid DatetimeIndex or PeriodIndex",
     "output_type": "error",
     "traceback": [
      "\u001b[0;31m---------------------------------------------------------------------------\u001b[0m",
      "\u001b[0;31mTypeError\u001b[0m                                 Traceback (most recent call last)",
      "\u001b[0;32m<ipython-input-29-3db670234e85>\u001b[0m in \u001b[0;36m<module>\u001b[0;34m\u001b[0m\n\u001b[1;32m      1\u001b[0m \u001b[0mhmvl\u001b[0m\u001b[0;34m[\u001b[0m\u001b[0;34m\"hdt\"\u001b[0m\u001b[0;34m]\u001b[0m\u001b[0;34m.\u001b[0m\u001b[0mmin\u001b[0m\u001b[0;34m(\u001b[0m\u001b[0;34m)\u001b[0m \u001b[0;34m,\u001b[0m \u001b[0mhmvl\u001b[0m\u001b[0;34m[\u001b[0m\u001b[0;34m\"hdt\"\u001b[0m\u001b[0;34m]\u001b[0m\u001b[0;34m.\u001b[0m\u001b[0mmax\u001b[0m\u001b[0;34m(\u001b[0m\u001b[0;34m)\u001b[0m\u001b[0;34m,\u001b[0m \u001b[0mhmvl\u001b[0m\u001b[0;34m[\u001b[0m\u001b[0;34m\"hdt\"\u001b[0m\u001b[0;34m]\u001b[0m\u001b[0;34m.\u001b[0m\u001b[0mmax\u001b[0m\u001b[0;34m(\u001b[0m\u001b[0;34m)\u001b[0m\u001b[0;34m-\u001b[0m\u001b[0mhmvl\u001b[0m\u001b[0;34m[\u001b[0m\u001b[0;34m\"hdt\"\u001b[0m\u001b[0;34m]\u001b[0m\u001b[0;34m.\u001b[0m\u001b[0mmin\u001b[0m\u001b[0;34m(\u001b[0m\u001b[0;34m)\u001b[0m\u001b[0;34m\u001b[0m\u001b[0;34m\u001b[0m\u001b[0m\n\u001b[1;32m      2\u001b[0m \u001b[0;31m# les horodates sont OK mais attention on est en UTC donc la journée commence la veille à 22H en heures d'été\u001b[0m\u001b[0;34m\u001b[0m\u001b[0;34m\u001b[0m\u001b[0;34m\u001b[0m\u001b[0m\n\u001b[0;32m----> 3\u001b[0;31m \u001b[0mhmvl\u001b[0m\u001b[0;34m[\u001b[0m\u001b[0;34m\"hdt\"\u001b[0m\u001b[0;34m]\u001b[0m\u001b[0;34m.\u001b[0m\u001b[0mtz_convert\u001b[0m\u001b[0;34m(\u001b[0m\u001b[0;34m'Europe/Paris'\u001b[0m\u001b[0;34m)\u001b[0m\u001b[0;34m\u001b[0m\u001b[0;34m\u001b[0m\u001b[0m\n\u001b[0m",
      "\u001b[0;32m~/miniconda3/envs/hmvl/lib/python3.8/site-packages/pandas/core/generic.py\u001b[0m in \u001b[0;36mtz_convert\u001b[0;34m(self, tz, axis, level, copy)\u001b[0m\n\u001b[1;32m   9353\u001b[0m             \u001b[0;32mif\u001b[0m \u001b[0mlevel\u001b[0m \u001b[0;32mnot\u001b[0m \u001b[0;32min\u001b[0m \u001b[0;34m(\u001b[0m\u001b[0;32mNone\u001b[0m\u001b[0;34m,\u001b[0m \u001b[0;36m0\u001b[0m\u001b[0;34m,\u001b[0m \u001b[0max\u001b[0m\u001b[0;34m.\u001b[0m\u001b[0mname\u001b[0m\u001b[0;34m)\u001b[0m\u001b[0;34m:\u001b[0m\u001b[0;34m\u001b[0m\u001b[0;34m\u001b[0m\u001b[0m\n\u001b[1;32m   9354\u001b[0m                 \u001b[0;32mraise\u001b[0m \u001b[0mValueError\u001b[0m\u001b[0;34m(\u001b[0m\u001b[0;34mf\"The level {level} is not valid\"\u001b[0m\u001b[0;34m)\u001b[0m\u001b[0;34m\u001b[0m\u001b[0;34m\u001b[0m\u001b[0m\n\u001b[0;32m-> 9355\u001b[0;31m             \u001b[0max\u001b[0m \u001b[0;34m=\u001b[0m \u001b[0m_tz_convert\u001b[0m\u001b[0;34m(\u001b[0m\u001b[0max\u001b[0m\u001b[0;34m,\u001b[0m \u001b[0mtz\u001b[0m\u001b[0;34m)\u001b[0m\u001b[0;34m\u001b[0m\u001b[0;34m\u001b[0m\u001b[0m\n\u001b[0m\u001b[1;32m   9356\u001b[0m \u001b[0;34m\u001b[0m\u001b[0m\n\u001b[1;32m   9357\u001b[0m         \u001b[0mresult\u001b[0m \u001b[0;34m=\u001b[0m \u001b[0mself\u001b[0m\u001b[0;34m.\u001b[0m\u001b[0m_constructor\u001b[0m\u001b[0;34m(\u001b[0m\u001b[0mself\u001b[0m\u001b[0;34m.\u001b[0m\u001b[0m_data\u001b[0m\u001b[0;34m,\u001b[0m \u001b[0mcopy\u001b[0m\u001b[0;34m=\u001b[0m\u001b[0mcopy\u001b[0m\u001b[0;34m)\u001b[0m\u001b[0;34m\u001b[0m\u001b[0;34m\u001b[0m\u001b[0m\n",
      "\u001b[0;32m~/miniconda3/envs/hmvl/lib/python3.8/site-packages/pandas/core/generic.py\u001b[0m in \u001b[0;36m_tz_convert\u001b[0;34m(ax, tz)\u001b[0m\n\u001b[1;32m   9335\u001b[0m                 \u001b[0;32mif\u001b[0m \u001b[0mlen\u001b[0m\u001b[0;34m(\u001b[0m\u001b[0max\u001b[0m\u001b[0;34m)\u001b[0m \u001b[0;34m>\u001b[0m \u001b[0;36m0\u001b[0m\u001b[0;34m:\u001b[0m\u001b[0;34m\u001b[0m\u001b[0;34m\u001b[0m\u001b[0m\n\u001b[1;32m   9336\u001b[0m                     \u001b[0max_name\u001b[0m \u001b[0;34m=\u001b[0m \u001b[0mself\u001b[0m\u001b[0;34m.\u001b[0m\u001b[0m_get_axis_name\u001b[0m\u001b[0;34m(\u001b[0m\u001b[0maxis\u001b[0m\u001b[0;34m)\u001b[0m\u001b[0;34m\u001b[0m\u001b[0;34m\u001b[0m\u001b[0m\n\u001b[0;32m-> 9337\u001b[0;31m                     raise TypeError(\n\u001b[0m\u001b[1;32m   9338\u001b[0m                         \u001b[0;34mf\"{ax_name} is not a valid DatetimeIndex or PeriodIndex\"\u001b[0m\u001b[0;34m\u001b[0m\u001b[0;34m\u001b[0m\u001b[0m\n\u001b[1;32m   9339\u001b[0m                     )\n",
      "\u001b[0;31mTypeError\u001b[0m: index is not a valid DatetimeIndex or PeriodIndex"
     ]
    }
   ],
   "source": [
    "hmvl[\"hdt\"].min() , hmvl[\"hdt\"].max(), hmvl[\"hdt\"].max()-hmvl[\"hdt\"].min()\n",
    "# les horodates sont OK mais attention on est en UTC donc la journée commence la veille à 22H en heures d'été\n",
    "hmvl[\"hdt\"].tz_convert('Europe/Paris')"
   ]
  },
  {
   "cell_type": "code",
   "execution_count": 11,
   "metadata": {},
   "outputs": [
    {
     "data": {
      "text/plain": [
       "2020-04-02    1760148\n",
       "2020-04-03      57418\n",
       "2020-04-01      20348\n",
       "Name: hdt, dtype: int64"
      ]
     },
     "execution_count": 11,
     "metadata": {},
     "output_type": "execute_result"
    }
   ],
   "source": [
    "hmvl[\"hdt\"].dt.date.value_counts()"
   ]
  },
  {
   "cell_type": "code",
   "execution_count": 11,
   "metadata": {},
   "outputs": [
    {
     "data": {
      "text/plain": [
       "2020-04-02    937665\n",
       "Thu Apr  2    776415\n",
       "Fri Feb 21     80058\n",
       "Wed Apr  1     47275\n",
       "Thu Dec 26      5246\n",
       "Name: horodate_id, dtype: int64"
      ]
     },
     "execution_count": 11,
     "metadata": {},
     "output_type": "execute_result"
    }
   ],
   "source": [
    "listedates=hmvl[\"horodate_id\"].str[:10]\n",
    "listedates.value_counts()"
   ]
  },
  {
   "cell_type": "code",
   "execution_count": 35,
   "metadata": {},
   "outputs": [
    {
     "data": {
      "text/plain": [
       "0"
      ]
     },
     "execution_count": 35,
     "metadata": {},
     "output_type": "execute_result"
    }
   ],
   "source": [
    "len(hmvl[pd.isna(hmvl[\"status\"])])+len(hmvl[hmvl[\"status\"]==\"0\"])-len(hmvl[\"status\"])"
   ]
  },
  {
   "cell_type": "code",
   "execution_count": 19,
   "metadata": {},
   "outputs": [],
   "source": [
    "hmvl2=hmvl[hmvl[\"status\"]==\"0\"][[\"id\",\"hdt\",\"station\",\"voie\",\"vitesse\",\"longueur\"]]\n",
    "# en fait hmvl2 correspond aux seuls données VRU car pour les Labocom le status est vide (pd.isna est True)"
   ]
  },
  {
   "cell_type": "code",
   "execution_count": 36,
   "metadata": {},
   "outputs": [
    {
     "data": {
      "text/plain": [
       "<matplotlib.axes._subplots.AxesSubplot at 0x7f46d34f97f0>"
      ]
     },
     "execution_count": 36,
     "metadata": {},
     "output_type": "execute_result"
    },
    {
     "data": {
      "image/png": "[encoded data removed]",
      "text/plain": [
       "<Figure size 432x288 with 1 Axes>"
      ]
     },
     "metadata": {
      "needs_background": "light"
     },
     "output_type": "display_data"
    }
   ],
   "source": [
    "hmvl.boxplot(column=[\"vitesse\"],by=\"station\")\n",
    "# ça semble raisonnable de prendre 280 (voire 240) comme valeur seuil de vitesse"
   ]
  },
  {
   "cell_type": "code",
   "execution_count": 37,
   "metadata": {},
   "outputs": [
    {
     "data": {
      "text/plain": [
       "<matplotlib.axes._subplots.AxesSubplot at 0x7f46daa0d520>"
      ]
     },
     "execution_count": 37,
     "metadata": {},
     "output_type": "execute_result"
    },
    {
     "data": {
      "image/png": "[encoded data removed]",
      "text/plain": [
       "<Figure size 432x288 with 1 Axes>"
      ]
     },
     "metadata": {
      "needs_background": "light"
     },
     "output_type": "display_data"
    }
   ],
   "source": [
    "hmvl.boxplot(column=[\"longueur\"],by=\"station\")\n",
    "# ça semble raisonnable de prendre 25 comme valeur seuil de longueur, \n",
    "# mais il y a peut être valeur plus pertinente pour le métier, à cause des Transports Exceptionnels par exemple?\n",
    "# ou pour voir passer les convois ITER s'ils empruntent le réseau DIRMED?"
   ]
  },
  {
   "cell_type": "code",
   "execution_count": 38,
   "metadata": {},
   "outputs": [
    {
     "name": "stdout",
     "output_type": "stream",
     "text": [
      "0    686694\n",
      "2    515413\n",
      "1    385004\n",
      "3    118886\n",
      "4     26448\n",
      "5      4998\n",
      "*       227\n",
      "9       118\n",
      "8        46\n",
      "7         6\n",
      "6         2\n",
      "Name: voie, dtype: int64\n"
     ]
    },
    {
     "data": {
      "text/plain": [
       "86320"
      ]
     },
     "execution_count": 38,
     "metadata": {},
     "output_type": "execute_result"
    }
   ],
   "source": [
    "print(hmvl['voie'].value_counts())\n",
    "# cette fonction n'affiche pas les valeurs vides mais il y en a (291838)\n",
    "# cf. hmvl2['voie'].unique()\n",
    "sum(pd.isna(hmvl2['voie']))"
   ]
  },
  {
   "cell_type": "code",
   "execution_count": 16,
   "metadata": {},
   "outputs": [
    {
     "data": {
      "text/plain": [
       "1846659"
      ]
     },
     "execution_count": 16,
     "metadata": {},
     "output_type": "execute_result"
    }
   ],
   "source": [
    "len(hmvl)\n",
    "# 1,8 M de lignes pour hmvl, dont 0,9 VRU et autant labocom? \n",
    "#(peut être parce que les labocom sont sur 24H  et 2 sens?)"
   ]
  },
  {
   "cell_type": "code",
   "execution_count": 17,
   "metadata": {},
   "outputs": [
    {
     "data": {
      "text/plain": [
       "908994"
      ]
     },
     "execution_count": 17,
     "metadata": {},
     "output_type": "execute_result"
    }
   ],
   "source": [
    " len(hmvl2)"
   ]
  },
  {
   "cell_type": "code",
   "execution_count": 39,
   "metadata": {},
   "outputs": [
    {
     "data": {
      "text/plain": [
       "(1846659, 9)"
      ]
     },
     "execution_count": 39,
     "metadata": {},
     "output_type": "execute_result"
    }
   ],
   "source": [
    "hmvl.shape"
   ]
  },
  {
   "cell_type": "code",
   "execution_count": 50,
   "metadata": {},
   "outputs": [
    {
     "data": {
      "text/plain": [
       "109019"
      ]
     },
     "execution_count": 50,
     "metadata": {},
     "output_type": "execute_result"
    }
   ],
   "source": [
    "sum(pd.isna(hmvl['voie']))\n",
    "# 100k sur 1800k mesures n'ont pas de voie dont sont inutilisables?"
   ]
  },
  {
   "cell_type": "code",
   "execution_count": 43,
   "metadata": {},
   "outputs": [
    {
     "data": {
      "text/plain": [
       "135"
      ]
     },
     "execution_count": 43,
     "metadata": {},
     "output_type": "execute_result"
    }
   ],
   "source": []
  },
  {
   "cell_type": "code",
   "execution_count": 39,
   "metadata": {},
   "outputs": [],
   "source": []
  },
  {
   "cell_type": "code",
   "execution_count": 40,
   "metadata": {},
   "outputs": [
    {
     "data": {
      "text/plain": [
       "634902"
      ]
     },
     "execution_count": 40,
     "metadata": {},
     "output_type": "execute_result"
    }
   ],
   "source": []
  },
  {
   "cell_type": "code",
   "execution_count": null,
   "metadata": {},
   "outputs": [],
   "source": []
  },
  {
   "cell_type": "code",
   "execution_count": 45,
   "metadata": {},
   "outputs": [
    {
     "data": {
      "text/html": [
       "<div>\n",
       "<style scoped>\n",
       "    .dataframe tbody tr th:only-of-type {\n",
       "        vertical-align: middle;\n",
       "    }\n",
       "\n",
       "    .dataframe tbody tr th {\n",
       "        vertical-align: top;\n",
       "    }\n",
       "\n",
       "    .dataframe thead th {\n",
       "        text-align: right;\n",
       "    }\n",
       "</style>\n",
       "<table border=\"1\" class=\"dataframe\">\n",
       "  <thead>\n",
       "    <tr style=\"text-align: right;\">\n",
       "      <th></th>\n",
       "      <th>id</th>\n",
       "      <th>hdt</th>\n",
       "      <th>station</th>\n",
       "      <th>voie</th>\n",
       "      <th>vitesse</th>\n",
       "      <th>longueur</th>\n",
       "    </tr>\n",
       "  </thead>\n",
       "  <tbody>\n",
       "    <tr>\n",
       "      <th>176</th>\n",
       "      <td>101555</td>\n",
       "      <td>2020-04-02 12:49:22.140000+00:00</td>\n",
       "      <td>M8i</td>\n",
       "      <td>2</td>\n",
       "      <td>NaN</td>\n",
       "      <td>NaN</td>\n",
       "    </tr>\n",
       "    <tr>\n",
       "      <th>177</th>\n",
       "      <td>101556</td>\n",
       "      <td>2020-04-02 12:49:22.480000+00:00</td>\n",
       "      <td>M8i</td>\n",
       "      <td>0</td>\n",
       "      <td>70.0</td>\n",
       "      <td>4.5</td>\n",
       "    </tr>\n",
       "    <tr>\n",
       "      <th>178</th>\n",
       "      <td>101557</td>\n",
       "      <td>2020-04-02 12:49:22.610000+00:00</td>\n",
       "      <td>M8i</td>\n",
       "      <td>1</td>\n",
       "      <td>82.0</td>\n",
       "      <td>5.4</td>\n",
       "    </tr>\n",
       "    <tr>\n",
       "      <th>179</th>\n",
       "      <td>101558</td>\n",
       "      <td>2020-04-02 12:49:22.640000+00:00</td>\n",
       "      <td>M8i</td>\n",
       "      <td>2</td>\n",
       "      <td>78.0</td>\n",
       "      <td>4.1</td>\n",
       "    </tr>\n",
       "    <tr>\n",
       "      <th>180</th>\n",
       "      <td>101559</td>\n",
       "      <td>2020-04-02 12:49:23.510000+00:00</td>\n",
       "      <td>M8i</td>\n",
       "      <td>1</td>\n",
       "      <td>65.0</td>\n",
       "      <td>4.6</td>\n",
       "    </tr>\n",
       "  </tbody>\n",
       "</table>\n",
       "</div>"
      ],
      "text/plain": [
       "         id                              hdt station voie  vitesse  longueur\n",
       "176  101555 2020-04-02 12:49:22.140000+00:00     M8i    2      NaN       NaN\n",
       "177  101556 2020-04-02 12:49:22.480000+00:00     M8i    0     70.0       4.5\n",
       "178  101557 2020-04-02 12:49:22.610000+00:00     M8i    1     82.0       5.4\n",
       "179  101558 2020-04-02 12:49:22.640000+00:00     M8i    2     78.0       4.1\n",
       "180  101559 2020-04-02 12:49:23.510000+00:00     M8i    1     65.0       4.6"
      ]
     },
     "execution_count": 45,
     "metadata": {},
     "output_type": "execute_result"
    }
   ],
   "source": [
    "M8i=hmvl2[hmvl2[\"station\"]==\"M8i\"]\n",
    "M8i.head(5)"
   ]
  },
  {
   "cell_type": "code",
   "execution_count": 46,
   "metadata": {},
   "outputs": [
    {
     "data": {
      "text/plain": [
       "16066"
      ]
     },
     "execution_count": 46,
     "metadata": {},
     "output_type": "execute_result"
    }
   ],
   "source": [
    "len(M8i[\"hdt\"])\n",
    "# 16066 mesures dans la journée"
   ]
  },
  {
   "cell_type": "code",
   "execution_count": 47,
   "metadata": {},
   "outputs": [],
   "source": [
    "idu=hmvl.groupby(\"hdt\")[\"id\"].unique()\n",
    "# sur 2,8M mesures, seulement 52092 correspondent à une seule horodate"
   ]
  },
  {
   "cell_type": "code",
   "execution_count": 14,
   "metadata": {},
   "outputs": [
    {
     "data": {
      "text/plain": [
       "1    1600029\n",
       "2      64326\n",
       "4         43\n",
       "3         14\n",
       "Name: id, dtype: int64"
      ]
     },
     "execution_count": 14,
     "metadata": {},
     "output_type": "execute_result"
    }
   ],
   "source": [
    "id_hv=hmvl.groupby([\"hdt\",\"station\",\"voie\"])[\"id\"].unique()\n",
    "id_hv.apply(len).value_counts()\n",
    "# sur 1,8M mesures, il y désormais très peu de doublons, qui correspondent aux dates incorrectes, d'ailleurs?\n",
    "# cf. ci-dessous mesures du 26/12 -> il faudrait donc vérifier dans le fichier (RD - pas possible dans le labocom)\n",
    "# que l'horodate dans l'en-tête est bien à la date du jour à importer en base"
   ]
  },
  {
   "cell_type": "code",
   "execution_count": 16,
   "metadata": {},
   "outputs": [],
   "source": [
    "\n",
    "# lecture des logs pour comprendre d'où viennent les répliques\n",
    "conn = psycopg2.connect(\"host='{}' port={} dbname='{}' user={} password={}\".format(host, port, dbname, username, pwd))\n",
    "sql = \"select * from log_imports;\"\n",
    "logs= pd.read_sql_query(sql, conn)\n",
    "conn = None"
   ]
  },
  {
   "cell_type": "code",
   "execution_count": 12,
   "metadata": {},
   "outputs": [],
   "source": [
    "def mesures_répliquées(i):\n",
    "# afficher les mesures pour une ligne de id_hv\n",
    "    for x in id_hv.iloc[i]:\n",
    "        fichier=logs[(logs['firstid']<=x) & (logs['lastid']>=x)].iloc[0]['fichier'][17:]\n",
    "        print (fichier)\n",
    "        print (hmvl2[hmvl2[\"id\"]==x][[\"id\",\"hdt\",\"voie\",\"vitesse\",\"longueur\"]])\n"
   ]
  },
  {
   "cell_type": "code",
   "execution_count": 22,
   "metadata": {},
   "outputs": [
    {
     "name": "stdout",
     "output_type": "stream",
     "text": [
      "ocom/09_MPH_1.csv\n",
      "Empty DataFrame\n",
      "Columns: [id, hdt, voie, vitesse, longueur]\n",
      "Index: []\n"
     ]
    }
   ],
   "source": [
    "mesures_répliquées(565)\n",
    "# après utilisation de duplicates.py pour supprimer les fichiers en doublon :  plus de doublons dans le dataframe"
   ]
  },
  {
   "cell_type": "code",
   "execution_count": null,
   "metadata": {},
   "outputs": [],
   "source": []
  },
  {
   "cell_type": "code",
   "execution_count": 82,
   "metadata": {},
   "outputs": [],
   "source": []
  },
  {
   "cell_type": "code",
   "execution_count": 23,
   "metadata": {},
   "outputs": [
    {
     "data": {
      "text/plain": [
       "hdt                               station  voie\n",
       "2020-04-01 22:00:00.300000+00:00  MPH      2                [3069332]\n",
       "2020-04-01 22:00:00.890000+00:00  MPG      0                [2731256]\n",
       "2020-04-01 22:00:01.230000+00:00  MBS      2       [3033582, 3434455]\n",
       "2020-04-01 22:00:01.380000+00:00  MPB      2                [3222253]\n",
       "2020-04-01 22:00:02.530000+00:00  MPF      0                [3305511]\n",
       "Name: id, dtype: object"
      ]
     },
     "execution_count": 23,
     "metadata": {},
     "output_type": "execute_result"
    }
   ],
   "source": [
    "id_hv.head()"
   ]
  },
  {
   "cell_type": "code",
   "execution_count": 24,
   "metadata": {},
   "outputs": [],
   "source": [
    "sansdouble=hmvl2.groupby([\"hdt\",\"station\",\"voie\"])"
   ]
  },
  {
   "cell_type": "code",
   "execution_count": 25,
   "metadata": {},
   "outputs": [
    {
     "data": {
      "text/plain": [
       "776010"
      ]
     },
     "execution_count": 25,
     "metadata": {},
     "output_type": "execute_result"
    }
   ],
   "source": [
    "len(sansdouble)"
   ]
  },
  {
   "cell_type": "code",
   "execution_count": 26,
   "metadata": {},
   "outputs": [
    {
     "data": {
      "text/plain": [
       "841365"
      ]
     },
     "execution_count": 26,
     "metadata": {},
     "output_type": "execute_result"
    }
   ],
   "source": [
    "len(hmvl2)\n",
    "# il reste des doublons!"
   ]
  },
  {
   "cell_type": "code",
   "execution_count": 28,
   "metadata": {},
   "outputs": [
    {
     "data": {
      "text/plain": [
       "pandas.core.groupby.generic.DataFrameGroupBy"
      ]
     },
     "execution_count": 28,
     "metadata": {},
     "output_type": "execute_result"
    }
   ],
   "source": [
    "type(sansdouble)\n",
    "# DataFrameGroupBy type\n",
    "#sansdouble.groups est un dict de triplets hdt,station,voie"
   ]
  },
  {
   "cell_type": "code",
   "execution_count": 33,
   "metadata": {},
   "outputs": [
    {
     "data": {
      "text/plain": [
       "hdt                               station  voie\n",
       "2020-04-02 12:29:22.840000+00:00  M8k      0       1\n",
       "2020-04-02 13:23:14.640000+00:00  M4m      0       1\n",
       "2020-04-02 13:23:14.740000+00:00  M3i      0       1\n",
       "                                  M5f      3       1\n",
       "2020-04-02 13:23:14.790000+00:00  M7i      0       1\n",
       "                                                  ..\n",
       "2020-04-02 06:02:58.810000+00:00  M8O      0       4\n",
       "2020-04-02 06:10:22.560000+00:00  M8n      1       4\n",
       "2020-04-02 06:24:00.500000+00:00  M7i      0       4\n",
       "2020-04-02 06:16:24.210000+00:00  M3j      4       4\n",
       "2020-04-02 06:12:49.750000+00:00  M8G      0       4\n",
       "Length: 694818, dtype: int64"
      ]
     },
     "execution_count": 33,
     "metadata": {},
     "output_type": "execute_result"
    }
   ],
   "source": [
    "sansdouble.size().sort_values()"
   ]
  },
  {
   "cell_type": "code",
   "execution_count": 35,
   "metadata": {},
   "outputs": [
    {
     "data": {
      "text/html": [
       "<div>\n",
       "<style scoped>\n",
       "    .dataframe tbody tr th:only-of-type {\n",
       "        vertical-align: middle;\n",
       "    }\n",
       "\n",
       "    .dataframe tbody tr th {\n",
       "        vertical-align: top;\n",
       "    }\n",
       "\n",
       "    .dataframe thead th {\n",
       "        text-align: right;\n",
       "    }\n",
       "</style>\n",
       "<table border=\"1\" class=\"dataframe\">\n",
       "  <thead>\n",
       "    <tr style=\"text-align: right;\">\n",
       "      <th></th>\n",
       "      <th>id</th>\n",
       "      <th>hdt</th>\n",
       "      <th>station</th>\n",
       "      <th>voie</th>\n",
       "      <th>vitesse</th>\n",
       "      <th>longueur</th>\n",
       "    </tr>\n",
       "  </thead>\n",
       "  <tbody>\n",
       "    <tr>\n",
       "      <th>1576712</th>\n",
       "      <td>3883723</td>\n",
       "      <td>2020-04-02 06:12:49.750000+00:00</td>\n",
       "      <td>M8G</td>\n",
       "      <td>0</td>\n",
       "      <td>77.0</td>\n",
       "      <td>7.7</td>\n",
       "    </tr>\n",
       "    <tr>\n",
       "      <th>1589568</th>\n",
       "      <td>3896579</td>\n",
       "      <td>2020-04-02 06:12:49.750000+00:00</td>\n",
       "      <td>M8G</td>\n",
       "      <td>0</td>\n",
       "      <td>120.0</td>\n",
       "      <td>5.5</td>\n",
       "    </tr>\n",
       "    <tr>\n",
       "      <th>1700672</th>\n",
       "      <td>4054958</td>\n",
       "      <td>2020-04-02 06:12:49.750000+00:00</td>\n",
       "      <td>M8G</td>\n",
       "      <td>0</td>\n",
       "      <td>77.0</td>\n",
       "      <td>7.7</td>\n",
       "    </tr>\n",
       "    <tr>\n",
       "      <th>1713521</th>\n",
       "      <td>4067807</td>\n",
       "      <td>2020-04-02 06:12:49.750000+00:00</td>\n",
       "      <td>M8G</td>\n",
       "      <td>0</td>\n",
       "      <td>120.0</td>\n",
       "      <td>5.5</td>\n",
       "    </tr>\n",
       "  </tbody>\n",
       "</table>\n",
       "</div>"
      ],
      "text/plain": [
       "              id                              hdt station voie  vitesse  \\\n",
       "1576712  3883723 2020-04-02 06:12:49.750000+00:00     M8G    0     77.0   \n",
       "1589568  3896579 2020-04-02 06:12:49.750000+00:00     M8G    0    120.0   \n",
       "1700672  4054958 2020-04-02 06:12:49.750000+00:00     M8G    0     77.0   \n",
       "1713521  4067807 2020-04-02 06:12:49.750000+00:00     M8G    0    120.0   \n",
       "\n",
       "         longueur  \n",
       "1576712       7.7  \n",
       "1589568       5.5  \n",
       "1700672       7.7  \n",
       "1713521       5.5  "
      ]
     },
     "execution_count": 35,
     "metadata": {},
     "output_type": "execute_result"
    }
   ],
   "source": [
    "sansdouble.get_group(('2020-04-02 06:12:49.750000+00:00','M8G','0'))\n",
    "# on a encore des doublons, exemple 2 fois les mêmes mesures v,l, 2 fois des mesures différentes?"
   ]
  },
  {
   "cell_type": "code",
   "execution_count": 49,
   "metadata": {},
   "outputs": [
    {
     "data": {
      "text/plain": [
       "(1837914, 841365, 776010)"
      ]
     },
     "execution_count": 49,
     "metadata": {},
     "output_type": "execute_result"
    }
   ],
   "source": [
    "len(hmvl),len(hmvl2),len(sansdouble)"
   ]
  },
  {
   "cell_type": "code",
   "execution_count": 41,
   "metadata": {},
   "outputs": [
    {
     "data": {
      "text/plain": [
       "pandas._libs.tslibs.timestamps.Timestamp"
      ]
     },
     "execution_count": 41,
     "metadata": {},
     "output_type": "execute_result"
    }
   ],
   "source": [
    "type(hmvl['hdt'])\n",
    "type(hmvl['hdt'].loc[1])"
   ]
  },
  {
   "cell_type": "code",
   "execution_count": 38,
   "metadata": {},
   "outputs": [
    {
     "data": {
      "text/plain": [
       "pandas.core.frame.DataFrame"
      ]
     },
     "execution_count": 38,
     "metadata": {},
     "output_type": "execute_result"
    }
   ],
   "source": [
    "type(hmvl)"
   ]
  },
  {
   "cell_type": "code",
   "execution_count": 42,
   "metadata": {},
   "outputs": [],
   "source": [
    "hmvl['datetime'] = pd.to_datetime(hmvl['hdt'])\n",
    "# Set the datetime column as the index\n",
    "hmvl.index = hmvl['hdt'] "
   ]
  },
  {
   "cell_type": "code",
   "execution_count": 45,
   "metadata": {},
   "outputs": [],
   "source": [
    "v6=hmvl['vitesse'].resample('6T').mean() \n",
    "qv6=hmvl['vitesse'].resample('6T').count()\n",
    "l6=hmvl['longueur'].resample('6T').mean()\n",
    "ql6=hmvl['longueur'].resample('6T').count()\n",
    "# calcul naïf de l'agrégation 6 minutes\n",
    "# le débit n'est pas le même selon qu'on prend en compte les vitesses non vides ou les longueurs non vides\n",
    "# on pourrait facilement renvoyer ça dans un table t6m"
   ]
  },
  {
   "cell_type": "code",
   "execution_count": 46,
   "metadata": {},
   "outputs": [
    {
     "data": {
      "text/plain": [
       "(hdt\n",
       " 2020-04-01 22:00:00+00:00     94.267624\n",
       " 2020-04-01 22:06:00+00:00     95.419825\n",
       " 2020-04-01 22:12:00+00:00     94.747619\n",
       " 2020-04-01 22:18:00+00:00     95.798387\n",
       " 2020-04-01 22:24:00+00:00     94.212851\n",
       "                                 ...    \n",
       " 2020-04-03 14:54:00+00:00     98.070136\n",
       " 2020-04-03 15:00:00+00:00    100.558753\n",
       " 2020-04-03 15:06:00+00:00    100.552463\n",
       " 2020-04-03 15:12:00+00:00    100.022936\n",
       " 2020-04-03 15:18:00+00:00     98.719298\n",
       " Freq: 6T, Name: vitesse, Length: 414, dtype: float64,\n",
       " hdt\n",
       " 2020-04-01 22:00:00+00:00    766\n",
       " 2020-04-01 22:06:00+00:00    686\n",
       " 2020-04-01 22:12:00+00:00    630\n",
       " 2020-04-01 22:18:00+00:00    744\n",
       " 2020-04-01 22:24:00+00:00    747\n",
       "                             ... \n",
       " 2020-04-03 14:54:00+00:00    442\n",
       " 2020-04-03 15:00:00+00:00    417\n",
       " 2020-04-03 15:06:00+00:00    467\n",
       " 2020-04-03 15:12:00+00:00    436\n",
       " 2020-04-03 15:18:00+00:00    285\n",
       " Freq: 6T, Name: vitesse, Length: 414, dtype: int64,\n",
       " hdt\n",
       " 2020-04-01 22:00:00+00:00    11.230949\n",
       " 2020-04-01 22:06:00+00:00    10.958153\n",
       " 2020-04-01 22:12:00+00:00    10.852524\n",
       " 2020-04-01 22:18:00+00:00    10.940000\n",
       " 2020-04-01 22:24:00+00:00    11.326365\n",
       "                                ...    \n",
       " 2020-04-03 14:54:00+00:00     7.503160\n",
       " 2020-04-03 15:00:00+00:00     7.460911\n",
       " 2020-04-03 15:06:00+00:00     7.133974\n",
       " 2020-04-03 15:12:00+00:00     6.675229\n",
       " 2020-04-03 15:18:00+00:00     6.954895\n",
       " Freq: 6T, Name: longueur, Length: 414, dtype: float64,\n",
       " hdt\n",
       " 2020-04-01 22:00:00+00:00    769\n",
       " 2020-04-01 22:06:00+00:00    693\n",
       " 2020-04-01 22:12:00+00:00    634\n",
       " 2020-04-01 22:18:00+00:00    745\n",
       " 2020-04-01 22:24:00+00:00    751\n",
       "                             ... \n",
       " 2020-04-03 14:54:00+00:00    443\n",
       " 2020-04-03 15:00:00+00:00    417\n",
       " 2020-04-03 15:06:00+00:00    468\n",
       " 2020-04-03 15:12:00+00:00    436\n",
       " 2020-04-03 15:18:00+00:00    286\n",
       " Freq: 6T, Name: longueur, Length: 414, dtype: int64)"
      ]
     },
     "execution_count": 46,
     "metadata": {},
     "output_type": "execute_result"
    }
   ],
   "source": [
    "v6,qv6,l6,ql6"
   ]
  },
  {
   "cell_type": "code",
   "execution_count": 51,
   "metadata": {},
   "outputs": [],
   "source": [
    "# conclusion provisoire : faire une procédure pour chaque jour\n",
    "# 0. vérifier qu'il n'y a pas d'horodate différentes de la date du jour (attention à la timezone de Paris)\n",
    "# 1. re-tester les doublons, il ne devrait plus y en avoir\n",
    "# 2. supprimer les valeurs aberrantes de l et v, et les voies, longueur ou vitesse vides\n",
    "# 3. agréger les données\n",
    "# PS il faut aussi faire un diagnostic sur le taux de mesures valides par station"
   ]
  },
  {
   "cell_type": "code",
   "execution_count": null,
   "metadata": {},
   "outputs": [],
   "source": []
  }
 ],
 "metadata": {
  "kernelspec": {
   "display_name": "Python 3",
   "language": "python",
   "name": "python3"
  },
  "language_info": {
   "codemirror_mode": {
    "name": "ipython",
    "version": 3
   },
   "file_extension": ".py",
   "mimetype": "text/x-python",
   "name": "python",
   "nbconvert_exporter": "python",
   "pygments_lexer": "ipython3",
   "version": "3.8.2"
  }
 },
 "nbformat": 4,
 "nbformat_minor": 4
}
