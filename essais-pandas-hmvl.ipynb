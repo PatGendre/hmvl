{
 "cells": [
  {
   "cell_type": "markdown",
   "metadata": {},
   "source": [
    "## CONNEXION à la Base postgres et lecture de 3 jours de données"
   ]
  },
  {
   "cell_type": "code",
   "execution_count": 1,
   "metadata": {},
   "outputs": [],
   "source": [
    "import pandas as pd\n",
    "import matplotlib\n",
    "import psycopg2"
   ]
  },
  {
   "cell_type": "code",
   "execution_count": 2,
   "metadata": {},
   "outputs": [],
   "source": [
    "host=\"localhost\"\n",
    "port=5432\n",
    "dbname=\"hmvl\"\n",
    "username=\"dirmed\"\n",
    "#pwd=\"votremotdepasse\""
   ]
  },
  {
   "cell_type": "code",
   "execution_count": 3,
   "metadata": {},
   "outputs": [],
   "source": [
    "# mise à jour 29/04 : suppression des fichiers en doublon avant l'import en base,\n",
    "# import 25,26,27 avril\n",
    "# mise à jour 14/5 : import via csv plus rapide, la table log_imports n'est plus alimentée\n",
    "conn = psycopg2.connect(\"host='{}' port={} dbname='{}' user={} password={}\".format(host, port, dbname, username, pwd))\n",
    "sql = \"select * from hmvl;\"\n",
    "hmvl = pd.read_sql_query(sql, conn)\n",
    "conn = None"
   ]
  },
  {
   "cell_type": "code",
   "execution_count": 4,
   "metadata": {},
   "outputs": [],
   "source": [
    "hmvl[\"hdt\"] = pd.to_datetime(hmvl[\"hdt\"],utc=True)"
   ]
  },
  {
   "cell_type": "markdown",
   "metadata": {},
   "source": [
    "## rapide examen des données"
   ]
  },
  {
   "cell_type": "code",
   "execution_count": 5,
   "metadata": {},
   "outputs": [
    {
     "data": {
      "text/plain": [
       "id                           int64\n",
       "horodate_id                 object\n",
       "hdt            datetime64[ns, UTC]\n",
       "station                     object\n",
       "status                      object\n",
       "voie                        object\n",
       "vitesse                    float64\n",
       "longueur                   float64\n",
       "statuttr                    object\n",
       "dtype: object"
      ]
     },
     "execution_count": 5,
     "metadata": {},
     "output_type": "execute_result"
    }
   ],
   "source": [
    "hmvl.dtypes"
   ]
  },
  {
   "cell_type": "code",
   "execution_count": 6,
   "metadata": {},
   "outputs": [
    {
     "name": "stdout",
     "output_type": "stream",
     "text": [
      "B    2995816\n",
      "@    1940697\n",
      "H     431897\n",
      "J     248979\n",
      "4        483\n",
      "1         65\n",
      "b         62\n",
      "I         21\n",
      "          11\n",
      "3          3\n",
      "Name: statuttr, dtype: int64\n",
      "Empty DataFrame\n",
      "Columns: [id, horodate_id, hdt, station, status, voie, vitesse, longueur, statuttr]\n",
      "Index: []\n"
     ]
    },
    {
     "data": {
      "text/html": [
       "<div>\n",
       "<style scoped>\n",
       "    .dataframe tbody tr th:only-of-type {\n",
       "        vertical-align: middle;\n",
       "    }\n",
       "\n",
       "    .dataframe tbody tr th {\n",
       "        vertical-align: top;\n",
       "    }\n",
       "\n",
       "    .dataframe thead th {\n",
       "        text-align: right;\n",
       "    }\n",
       "</style>\n",
       "<table border=\"1\" class=\"dataframe\">\n",
       "  <thead>\n",
       "    <tr style=\"text-align: right;\">\n",
       "      <th></th>\n",
       "      <th>id</th>\n",
       "      <th>horodate_id</th>\n",
       "      <th>hdt</th>\n",
       "      <th>station</th>\n",
       "      <th>status</th>\n",
       "      <th>voie</th>\n",
       "      <th>vitesse</th>\n",
       "      <th>longueur</th>\n",
       "      <th>statuttr</th>\n",
       "    </tr>\n",
       "  </thead>\n",
       "  <tbody>\n",
       "    <tr>\n",
       "      <th>18</th>\n",
       "      <td>19</td>\n",
       "      <td>Sat Apr 25 08:40:18 2020</td>\n",
       "      <td>2020-04-25 06:40:18+00:00</td>\n",
       "      <td>M1c</td>\n",
       "      <td>0</td>\n",
       "      <td>None</td>\n",
       "      <td>NaN</td>\n",
       "      <td>NaN</td>\n",
       "      <td>H</td>\n",
       "    </tr>\n",
       "    <tr>\n",
       "      <th>25</th>\n",
       "      <td>26</td>\n",
       "      <td>Sat Apr 25 08:40:18 2020</td>\n",
       "      <td>2020-04-25 06:40:29.570000+00:00</td>\n",
       "      <td>M1b</td>\n",
       "      <td>0</td>\n",
       "      <td>0</td>\n",
       "      <td>115.0</td>\n",
       "      <td>5.4</td>\n",
       "      <td>H</td>\n",
       "    </tr>\n",
       "    <tr>\n",
       "      <th>26</th>\n",
       "      <td>27</td>\n",
       "      <td>Sat Apr 25 08:40:18 2020</td>\n",
       "      <td>2020-04-25 06:40:29.800000+00:00</td>\n",
       "      <td>M1b</td>\n",
       "      <td>0</td>\n",
       "      <td>1</td>\n",
       "      <td>111.0</td>\n",
       "      <td>4.3</td>\n",
       "      <td>H</td>\n",
       "    </tr>\n",
       "    <tr>\n",
       "      <th>99</th>\n",
       "      <td>100</td>\n",
       "      <td>Sat Apr 25 08:40:18 2020</td>\n",
       "      <td>2020-04-25 06:40:31.690000+00:00</td>\n",
       "      <td>M1h</td>\n",
       "      <td>0</td>\n",
       "      <td>0</td>\n",
       "      <td>113.0</td>\n",
       "      <td>3.2</td>\n",
       "      <td>H</td>\n",
       "    </tr>\n",
       "    <tr>\n",
       "      <th>100</th>\n",
       "      <td>101</td>\n",
       "      <td>Sat Apr 25 08:40:18 2020</td>\n",
       "      <td>2020-04-25 06:40:34.510000+00:00</td>\n",
       "      <td>M1h</td>\n",
       "      <td>0</td>\n",
       "      <td>0</td>\n",
       "      <td>84.0</td>\n",
       "      <td>3.1</td>\n",
       "      <td>H</td>\n",
       "    </tr>\n",
       "    <tr>\n",
       "      <th>115</th>\n",
       "      <td>116</td>\n",
       "      <td>Sat Apr 25 08:40:18 2020</td>\n",
       "      <td>2020-04-25 06:40:31.960000+00:00</td>\n",
       "      <td>M1B</td>\n",
       "      <td>0</td>\n",
       "      <td>1</td>\n",
       "      <td>84.0</td>\n",
       "      <td>3.9</td>\n",
       "      <td>H</td>\n",
       "    </tr>\n",
       "    <tr>\n",
       "      <th>154</th>\n",
       "      <td>155</td>\n",
       "      <td>Sat Apr 25 08:40:18 2020</td>\n",
       "      <td>2020-04-25 06:40:18+00:00</td>\n",
       "      <td>M3x</td>\n",
       "      <td>0</td>\n",
       "      <td>None</td>\n",
       "      <td>NaN</td>\n",
       "      <td>NaN</td>\n",
       "      <td>H</td>\n",
       "    </tr>\n",
       "    <tr>\n",
       "      <th>165</th>\n",
       "      <td>166</td>\n",
       "      <td>Sat Apr 25 08:40:18 2020</td>\n",
       "      <td>2020-04-25 06:40:31.690000+00:00</td>\n",
       "      <td>M7j</td>\n",
       "      <td>0</td>\n",
       "      <td>0</td>\n",
       "      <td>85.0</td>\n",
       "      <td>11.5</td>\n",
       "      <td>H</td>\n",
       "    </tr>\n",
       "    <tr>\n",
       "      <th>166</th>\n",
       "      <td>167</td>\n",
       "      <td>Sat Apr 25 08:40:18 2020</td>\n",
       "      <td>2020-04-25 06:40:32.600000+00:00</td>\n",
       "      <td>M7j</td>\n",
       "      <td>0</td>\n",
       "      <td>1</td>\n",
       "      <td>101.0</td>\n",
       "      <td>4.4</td>\n",
       "      <td>H</td>\n",
       "    </tr>\n",
       "    <tr>\n",
       "      <th>167</th>\n",
       "      <td>168</td>\n",
       "      <td>Sat Apr 25 08:40:18 2020</td>\n",
       "      <td>2020-04-25 06:40:33.240000+00:00</td>\n",
       "      <td>M7j</td>\n",
       "      <td>0</td>\n",
       "      <td>0</td>\n",
       "      <td>85.0</td>\n",
       "      <td>5.7</td>\n",
       "      <td>H</td>\n",
       "    </tr>\n",
       "    <tr>\n",
       "      <th>177</th>\n",
       "      <td>178</td>\n",
       "      <td>Sat Apr 25 08:40:18 2020</td>\n",
       "      <td>2020-04-25 06:40:33.920000+00:00</td>\n",
       "      <td>M7r</td>\n",
       "      <td>0</td>\n",
       "      <td>0</td>\n",
       "      <td>100.0</td>\n",
       "      <td>4.0</td>\n",
       "      <td>H</td>\n",
       "    </tr>\n",
       "    <tr>\n",
       "      <th>181</th>\n",
       "      <td>182</td>\n",
       "      <td>Sat Apr 25 08:40:18 2020</td>\n",
       "      <td>2020-04-25 06:40:32.170000+00:00</td>\n",
       "      <td>M3X</td>\n",
       "      <td>0</td>\n",
       "      <td>0</td>\n",
       "      <td>78.0</td>\n",
       "      <td>5.5</td>\n",
       "      <td>H</td>\n",
       "    </tr>\n",
       "    <tr>\n",
       "      <th>186</th>\n",
       "      <td>187</td>\n",
       "      <td>Sat Apr 25 08:40:18 2020</td>\n",
       "      <td>2020-04-25 06:40:32.550000+00:00</td>\n",
       "      <td>M7t</td>\n",
       "      <td>0</td>\n",
       "      <td>0</td>\n",
       "      <td>124.0</td>\n",
       "      <td>4.3</td>\n",
       "      <td>H</td>\n",
       "    </tr>\n",
       "    <tr>\n",
       "      <th>193</th>\n",
       "      <td>194</td>\n",
       "      <td>Sat Apr 25 08:40:18 2020</td>\n",
       "      <td>2020-04-25 06:40:18+00:00</td>\n",
       "      <td>M7P</td>\n",
       "      <td>0</td>\n",
       "      <td>None</td>\n",
       "      <td>NaN</td>\n",
       "      <td>NaN</td>\n",
       "      <td>H</td>\n",
       "    </tr>\n",
       "    <tr>\n",
       "      <th>221</th>\n",
       "      <td>222</td>\n",
       "      <td>Sat Apr 25 08:40:24 2020</td>\n",
       "      <td>2020-04-25 06:40:24+00:00</td>\n",
       "      <td>M1c</td>\n",
       "      <td>0</td>\n",
       "      <td>None</td>\n",
       "      <td>NaN</td>\n",
       "      <td>NaN</td>\n",
       "      <td>H</td>\n",
       "    </tr>\n",
       "    <tr>\n",
       "      <th>233</th>\n",
       "      <td>234</td>\n",
       "      <td>Sat Apr 25 08:40:24 2020</td>\n",
       "      <td>2020-04-25 06:40:39.400000+00:00</td>\n",
       "      <td>M1b</td>\n",
       "      <td>0</td>\n",
       "      <td>1</td>\n",
       "      <td>108.0</td>\n",
       "      <td>6.7</td>\n",
       "      <td>H</td>\n",
       "    </tr>\n",
       "    <tr>\n",
       "      <th>234</th>\n",
       "      <td>235</td>\n",
       "      <td>Sat Apr 25 08:40:24 2020</td>\n",
       "      <td>2020-04-25 06:40:40.310000+00:00</td>\n",
       "      <td>M1b</td>\n",
       "      <td>0</td>\n",
       "      <td>1</td>\n",
       "      <td>109.0</td>\n",
       "      <td>3.8</td>\n",
       "      <td>H</td>\n",
       "    </tr>\n",
       "    <tr>\n",
       "      <th>341</th>\n",
       "      <td>342</td>\n",
       "      <td>Sat Apr 25 08:40:24 2020</td>\n",
       "      <td>2020-04-25 06:40:24+00:00</td>\n",
       "      <td>M3x</td>\n",
       "      <td>0</td>\n",
       "      <td>None</td>\n",
       "      <td>NaN</td>\n",
       "      <td>NaN</td>\n",
       "      <td>H</td>\n",
       "    </tr>\n",
       "    <tr>\n",
       "      <th>349</th>\n",
       "      <td>350</td>\n",
       "      <td>Sat Apr 25 08:40:24 2020</td>\n",
       "      <td>2020-04-25 06:40:24+00:00</td>\n",
       "      <td>M7j</td>\n",
       "      <td>0</td>\n",
       "      <td>None</td>\n",
       "      <td>NaN</td>\n",
       "      <td>NaN</td>\n",
       "      <td>H</td>\n",
       "    </tr>\n",
       "    <tr>\n",
       "      <th>362</th>\n",
       "      <td>363</td>\n",
       "      <td>Sat Apr 25 08:40:24 2020</td>\n",
       "      <td>2020-04-25 06:40:24+00:00</td>\n",
       "      <td>M7r</td>\n",
       "      <td>0</td>\n",
       "      <td>None</td>\n",
       "      <td>NaN</td>\n",
       "      <td>NaN</td>\n",
       "      <td>H</td>\n",
       "    </tr>\n",
       "  </tbody>\n",
       "</table>\n",
       "</div>"
      ],
      "text/plain": [
       "      id               horodate_id                              hdt station  \\\n",
       "18    19  Sat Apr 25 08:40:18 2020        2020-04-25 06:40:18+00:00     M1c   \n",
       "25    26  Sat Apr 25 08:40:18 2020 2020-04-25 06:40:29.570000+00:00     M1b   \n",
       "26    27  Sat Apr 25 08:40:18 2020 2020-04-25 06:40:29.800000+00:00     M1b   \n",
       "99   100  Sat Apr 25 08:40:18 2020 2020-04-25 06:40:31.690000+00:00     M1h   \n",
       "100  101  Sat Apr 25 08:40:18 2020 2020-04-25 06:40:34.510000+00:00     M1h   \n",
       "115  116  Sat Apr 25 08:40:18 2020 2020-04-25 06:40:31.960000+00:00     M1B   \n",
       "154  155  Sat Apr 25 08:40:18 2020        2020-04-25 06:40:18+00:00     M3x   \n",
       "165  166  Sat Apr 25 08:40:18 2020 2020-04-25 06:40:31.690000+00:00     M7j   \n",
       "166  167  Sat Apr 25 08:40:18 2020 2020-04-25 06:40:32.600000+00:00     M7j   \n",
       "167  168  Sat Apr 25 08:40:18 2020 2020-04-25 06:40:33.240000+00:00     M7j   \n",
       "177  178  Sat Apr 25 08:40:18 2020 2020-04-25 06:40:33.920000+00:00     M7r   \n",
       "181  182  Sat Apr 25 08:40:18 2020 2020-04-25 06:40:32.170000+00:00     M3X   \n",
       "186  187  Sat Apr 25 08:40:18 2020 2020-04-25 06:40:32.550000+00:00     M7t   \n",
       "193  194  Sat Apr 25 08:40:18 2020        2020-04-25 06:40:18+00:00     M7P   \n",
       "221  222  Sat Apr 25 08:40:24 2020        2020-04-25 06:40:24+00:00     M1c   \n",
       "233  234  Sat Apr 25 08:40:24 2020 2020-04-25 06:40:39.400000+00:00     M1b   \n",
       "234  235  Sat Apr 25 08:40:24 2020 2020-04-25 06:40:40.310000+00:00     M1b   \n",
       "341  342  Sat Apr 25 08:40:24 2020        2020-04-25 06:40:24+00:00     M3x   \n",
       "349  350  Sat Apr 25 08:40:24 2020        2020-04-25 06:40:24+00:00     M7j   \n",
       "362  363  Sat Apr 25 08:40:24 2020        2020-04-25 06:40:24+00:00     M7r   \n",
       "\n",
       "    status  voie  vitesse  longueur statuttr  \n",
       "18       0  None      NaN       NaN        H  \n",
       "25       0     0    115.0       5.4        H  \n",
       "26       0     1    111.0       4.3        H  \n",
       "99       0     0    113.0       3.2        H  \n",
       "100      0     0     84.0       3.1        H  \n",
       "115      0     1     84.0       3.9        H  \n",
       "154      0  None      NaN       NaN        H  \n",
       "165      0     0     85.0      11.5        H  \n",
       "166      0     1    101.0       4.4        H  \n",
       "167      0     0     85.0       5.7        H  \n",
       "177      0     0    100.0       4.0        H  \n",
       "181      0     0     78.0       5.5        H  \n",
       "186      0     0    124.0       4.3        H  \n",
       "193      0  None      NaN       NaN        H  \n",
       "221      0  None      NaN       NaN        H  \n",
       "233      0     1    108.0       6.7        H  \n",
       "234      0     1    109.0       3.8        H  \n",
       "341      0  None      NaN       NaN        H  \n",
       "349      0  None      NaN       NaN        H  \n",
       "362      0  None      NaN       NaN        H  "
      ]
     },
     "execution_count": 6,
     "metadata": {},
     "output_type": "execute_result"
    }
   ],
   "source": [
    "print(hmvl[\"statuttr\"].value_counts())\n",
    "# a priori on garde les statuts B et @\n",
    "# pour H que fait-on ? en principe c'est une erreur interne mais les valeurs ont l'air correctes\n",
    "# de même pour J... et les autres valeurs ne sont pas documentées\n",
    "# par exemple avec le statuttr J il n'y a aucune ligne avec le status 2\n",
    "print(hmvl[(hmvl[\"status\"]==\"2\") & (hmvl[\"statuttr\"]==\"J\")])\n",
    "# -> a priori le Status TR n'apporte pas d'info permettant d'éliminer des mesures\n",
    "hmvl[hmvl[\"statuttr\"]==\"H\"][:20]\n"
   ]
  },
  {
   "cell_type": "markdown",
   "metadata": {},
   "source": [
    "## On peut éliminer les données de status 2"
   ]
  },
  {
   "cell_type": "code",
   "execution_count": 28,
   "metadata": {},
   "outputs": [
    {
     "name": "stdout",
     "output_type": "stream",
     "text": [
      "0    5449199\n",
      "2     609726\n",
      "Name: status, dtype: int64\n"
     ]
    },
    {
     "data": {
      "text/plain": [
       "609726"
      ]
     },
     "execution_count": 28,
     "metadata": {},
     "output_type": "execute_result"
    }
   ],
   "source": [
    "print(hmvl[\"status\"].value_counts())\n",
    "# il reste 20% de données avec le status 2\n",
    "# pour toutes les données avec le status 2 : voie est None, et longueur et vitesse sont Nan\n",
    "hmvl[hmvl[\"status\"]==\"2\"][\"voie\"].isna().sum()"
   ]
  },
  {
   "cell_type": "markdown",
   "metadata": {},
   "source": [
    "#### on peut garder un dataframe status2 pour avoir les stats par station et par jour"
   ]
  },
  {
   "cell_type": "code",
   "execution_count": 85,
   "metadata": {},
   "outputs": [],
   "source": [
    "#pas besoin de garder statuttr: pour status=2: statuttr=NULL\n",
    "# on pourrait stocker en base dans une table le nb de status=2 par jour par station par jour\n",
    "status2=hmvl[hmvl[\"status\"]==\"2\"][[\"hdt\",\"station\"]]"
   ]
  },
  {
   "cell_type": "code",
   "execution_count": 86,
   "metadata": {},
   "outputs": [
    {
     "name": "stderr",
     "output_type": "stream",
     "text": [
      "/home/patgendre/miniconda3/envs/hmvl/lib/python3.8/site-packages/pandas/core/arrays/datetimes.py:1101: UserWarning: Converting to PeriodArray/Index representation will drop timezone information.\n",
      "  warnings.warn(\n"
     ]
    }
   ],
   "source": [
    "status2=status2.assign(jour=pd.to_datetime(status2['hdt']).dt.to_period('D'))"
   ]
  },
  {
   "cell_type": "code",
   "execution_count": 87,
   "metadata": {},
   "outputs": [
    {
     "data": {
      "text/html": [
       "<div>\n",
       "<style scoped>\n",
       "    .dataframe tbody tr th:only-of-type {\n",
       "        vertical-align: middle;\n",
       "    }\n",
       "\n",
       "    .dataframe tbody tr th {\n",
       "        vertical-align: top;\n",
       "    }\n",
       "\n",
       "    .dataframe thead th {\n",
       "        text-align: right;\n",
       "    }\n",
       "</style>\n",
       "<table border=\"1\" class=\"dataframe\">\n",
       "  <thead>\n",
       "    <tr style=\"text-align: right;\">\n",
       "      <th></th>\n",
       "      <th></th>\n",
       "      <th>hdt</th>\n",
       "    </tr>\n",
       "    <tr>\n",
       "      <th>jour</th>\n",
       "      <th>station</th>\n",
       "      <th></th>\n",
       "    </tr>\n",
       "  </thead>\n",
       "  <tbody>\n",
       "    <tr>\n",
       "      <th>2020-04-26</th>\n",
       "      <th>M4h</th>\n",
       "      <td>1</td>\n",
       "    </tr>\n",
       "    <tr>\n",
       "      <th rowspan=\"4\" valign=\"top\">2020-04-27</th>\n",
       "      <th>M3s</th>\n",
       "      <td>1</td>\n",
       "    </tr>\n",
       "    <tr>\n",
       "      <th>M3r</th>\n",
       "      <td>1</td>\n",
       "    </tr>\n",
       "    <tr>\n",
       "      <th>M3p</th>\n",
       "      <td>1</td>\n",
       "    </tr>\n",
       "    <tr>\n",
       "      <th>M3l</th>\n",
       "      <td>1</td>\n",
       "    </tr>\n",
       "    <tr>\n",
       "      <th>...</th>\n",
       "      <th>...</th>\n",
       "      <td>...</td>\n",
       "    </tr>\n",
       "    <tr>\n",
       "      <th rowspan=\"5\" valign=\"top\">2020-04-25</th>\n",
       "      <th>M3m</th>\n",
       "      <td>8700</td>\n",
       "    </tr>\n",
       "    <tr>\n",
       "      <th>M4e</th>\n",
       "      <td>8700</td>\n",
       "    </tr>\n",
       "    <tr>\n",
       "      <th>M3S</th>\n",
       "      <td>8700</td>\n",
       "    </tr>\n",
       "    <tr>\n",
       "      <th>M8Q</th>\n",
       "      <td>8700</td>\n",
       "    </tr>\n",
       "    <tr>\n",
       "      <th>M3q</th>\n",
       "      <td>8700</td>\n",
       "    </tr>\n",
       "  </tbody>\n",
       "</table>\n",
       "<p>366 rows × 1 columns</p>\n",
       "</div>"
      ],
      "text/plain": [
       "                     hdt\n",
       "jour       station      \n",
       "2020-04-26 M4h         1\n",
       "2020-04-27 M3s         1\n",
       "           M3r         1\n",
       "           M3p         1\n",
       "           M3l         1\n",
       "...                  ...\n",
       "2020-04-25 M3m      8700\n",
       "           M4e      8700\n",
       "           M3S      8700\n",
       "           M8Q      8700\n",
       "           M3q      8700\n",
       "\n",
       "[366 rows x 1 columns]"
      ]
     },
     "execution_count": 87,
     "metadata": {},
     "output_type": "execute_result"
    }
   ],
   "source": [
    "status2.groupby(['jour','station']).count().sort_values(by='hdt')"
   ]
  },
  {
   "cell_type": "markdown",
   "metadata": {},
   "source": [
    "### On travaille maintenant avec les mesures status=0"
   ]
  },
  {
   "cell_type": "code",
   "execution_count": 88,
   "metadata": {},
   "outputs": [],
   "source": [
    "hmvl=hmvl[hmvl[\"status\"]==\"0\"][[\"id\",\"hdt\",\"station\",\"voie\",\"vitesse\",\"longueur\",\"statuttr\"]]\n",
    "# 5,4 M de mesures pour 3 jours"
   ]
  },
  {
   "cell_type": "markdown",
   "metadata": {},
   "source": [
    "### On peut éliminer les mesures qui voie=NULL"
   ]
  },
  {
   "cell_type": "code",
   "execution_count": 97,
   "metadata": {},
   "outputs": [
    {
     "name": "stdout",
     "output_type": "stream",
     "text": [
      "1254331\n",
      "1282532\n",
      "1111792\n",
      "id          1111792\n",
      "hdt         1111792\n",
      "station     1111792\n",
      "voie              0\n",
      "vitesse           0\n",
      "longueur          0\n",
      "statuttr    1111792\n",
      "dtype: int64\n"
     ]
    }
   ],
   "source": [
    "print(hmvl[\"longueur\"].isnull().sum())\n",
    "print(hmvl[\"vitesse\"].isnull().sum())\n",
    "print(hmvl[\"voie\"].isnull().sum())\n",
    "print(hmvl[(hmvl[\"voie\"].isnull()) & (hmvl[\"vitesse\"].isnull()) & (hmvl[\"longueur\"].isnull())].count())\n",
    "# pour les données de status 0 (Ok) il y a 20% de mesures vides\n",
    "# quand voie est NULL, vitesse et longueur sont aussi NULL (ce qui est cohérent)\n",
    "# donc on peut supprimer toutes les mesures pour lesquelles voies est nulles"
   ]
  },
  {
   "cell_type": "code",
   "execution_count": 100,
   "metadata": {},
   "outputs": [],
   "source": [
    "sansvoie=hmvl[hmvl[\"voie\"].isna()][[\"hdt\",\"station\",\"statuttr\"]]"
   ]
  },
  {
   "cell_type": "code",
   "execution_count": 112,
   "metadata": {},
   "outputs": [
    {
     "name": "stderr",
     "output_type": "stream",
     "text": [
      "/home/patgendre/miniconda3/envs/hmvl/lib/python3.8/site-packages/pandas/core/arrays/datetimes.py:1101: UserWarning: Converting to PeriodArray/Index representation will drop timezone information.\n",
      "  warnings.warn(\n"
     ]
    }
   ],
   "source": [
    "sansvoie=sansvoie.assign(jour=pd.to_datetime(sansvoie['hdt']).dt.to_period('D'))"
   ]
  },
  {
   "cell_type": "code",
   "execution_count": 123,
   "metadata": {},
   "outputs": [
    {
     "data": {
      "text/html": [
       "<div>\n",
       "<style scoped>\n",
       "    .dataframe tbody tr th:only-of-type {\n",
       "        vertical-align: middle;\n",
       "    }\n",
       "\n",
       "    .dataframe tbody tr th {\n",
       "        vertical-align: top;\n",
       "    }\n",
       "\n",
       "    .dataframe thead th {\n",
       "        text-align: right;\n",
       "    }\n",
       "</style>\n",
       "<table border=\"1\" class=\"dataframe\">\n",
       "  <thead>\n",
       "    <tr style=\"text-align: right;\">\n",
       "      <th></th>\n",
       "      <th>hdt</th>\n",
       "      <th>station</th>\n",
       "      <th>statuttr</th>\n",
       "    </tr>\n",
       "    <tr>\n",
       "      <th>jour</th>\n",
       "      <th></th>\n",
       "      <th></th>\n",
       "      <th></th>\n",
       "    </tr>\n",
       "  </thead>\n",
       "  <tbody>\n",
       "    <tr>\n",
       "      <th>2020-04-25</th>\n",
       "      <td>330408</td>\n",
       "      <td>330408</td>\n",
       "      <td>330408</td>\n",
       "    </tr>\n",
       "    <tr>\n",
       "      <th>2020-04-26</th>\n",
       "      <td>536420</td>\n",
       "      <td>536420</td>\n",
       "      <td>536420</td>\n",
       "    </tr>\n",
       "    <tr>\n",
       "      <th>2020-04-27</th>\n",
       "      <td>244964</td>\n",
       "      <td>244964</td>\n",
       "      <td>244964</td>\n",
       "    </tr>\n",
       "  </tbody>\n",
       "</table>\n",
       "</div>"
      ],
      "text/plain": [
       "               hdt  station  statuttr\n",
       "jour                                 \n",
       "2020-04-25  330408   330408    330408\n",
       "2020-04-26  536420   536420    536420\n",
       "2020-04-27  244964   244964    244964"
      ]
     },
     "execution_count": 123,
     "metadata": {},
     "output_type": "execute_result"
    }
   ],
   "source": [
    "sansvoie.groupby(['jour']).count()\n",
    "# à voir si les mesures vides sont liées au jour, le 26 en a plus (550k) que le 27 (240k) alors que c'est un dimanche"
   ]
  },
  {
   "cell_type": "code",
   "execution_count": 121,
   "metadata": {},
   "outputs": [
    {
     "data": {
      "text/plain": [
       "<matplotlib.axes._subplots.AxesSubplot at 0x7f121bcbee20>"
      ]
     },
     "execution_count": 121,
     "metadata": {},
     "output_type": "execute_result"
    },
    {
     "data": {
      "image/png": "[encoded data removed]",
      "text/plain": [
       "<Figure size 432x288 with 1 Axes>"
      ]
     },
     "metadata": {
      "needs_background": "light"
     },
     "output_type": "display_data"
    }
   ],
   "source": [
    "sansvoie.groupby(['station','jour']).count().sort_values(by='hdt').plot()\n",
    "# comme pour les stations en status=2, certaines stations posent plus de problèmes, \n",
    "# mais beaucoup de stations ont plus de 1000 mesures vides par jour\n",
    "# à jour si les stations sont toutes sur le même axe auquel cas ça pourrait être lié aux transmissions"
   ]
  },
  {
   "cell_type": "markdown",
   "metadata": {},
   "source": [
    "### On travaille maintenant avec les mesures status=0"
   ]
  },
  {
   "cell_type": "code",
   "execution_count": 107,
   "metadata": {},
   "outputs": [],
   "source": [
    "hmvl=hmvl[hmvl[\"voie\"].notna()][[\"id\",\"hdt\",\"station\",\"voie\",\"vitesse\",\"longueur\",\"statuttr\"]]\n",
    "# restent 4,3 M de mesures pour 3 jours"
   ]
  },
  {
   "cell_type": "code",
   "execution_count": 108,
   "metadata": {},
   "outputs": [
    {
     "data": {
      "text/plain": [
       "4337407"
      ]
     },
     "execution_count": 108,
     "metadata": {},
     "output_type": "execute_result"
    }
   ],
   "source": [
    "len(hmvl)"
   ]
  },
  {
   "cell_type": "code",
   "execution_count": 125,
   "metadata": {},
   "outputs": [
    {
     "data": {
      "text/plain": [
       "<matplotlib.axes._subplots.AxesSubplot at 0x7f125a54eac0>"
      ]
     },
     "execution_count": 125,
     "metadata": {},
     "output_type": "execute_result"
    },
    {
     "data": {
      "image/png": "[encoded data removed]",
      "text/plain": [
       "<Figure size 432x288 with 1 Axes>"
      ]
     },
     "metadata": {
      "needs_background": "light"
     },
     "output_type": "display_data"
    }
   ],
   "source": [
    "hmvl[\"station\"].value_counts().plot()\n",
    "hmvl[hmvl[\"vitesse\"].isna()][\"station\"].value_counts().plot()\n",
    "hmvl[hmvl[\"vitesse\"].isna()][\"longueur\"].value_counts().plot()\n",
    "# Il reste quelaques (une dizaine de stations) avec des vitesses ou longueurs vides\n",
    "# là aussi on pourrait calculer un indicateur par station et par jour\n",
    "# et le stocker en base\n"
   ]
  },
  {
   "cell_type": "code",
   "execution_count": null,
   "metadata": {},
   "outputs": [],
   "source": []
  },
  {
   "cell_type": "code",
   "execution_count": null,
   "metadata": {},
   "outputs": [],
   "source": []
  },
  {
   "cell_type": "code",
   "execution_count": 127,
   "metadata": {},
   "outputs": [
    {
     "data": {
      "text/plain": [
       "(Timestamp('2020-04-25 06:31:12.200000+0000', tz='UTC'),\n",
       " Timestamp('2020-04-27 21:02:05.970000+0000', tz='UTC'),\n",
       " Timedelta('2 days 14:30:53.770000'))"
      ]
     },
     "execution_count": 127,
     "metadata": {},
     "output_type": "execute_result"
    }
   ],
   "source": [
    "hmvl[\"hdt\"].min() , hmvl[\"hdt\"].max(), hmvl[\"hdt\"].max()-hmvl[\"hdt\"].min()\n",
    "# les horodates sont OK mais attention on est en UTC donc la journée commence la veille à 22H en heures d'été\n",
    "#hmvl[\"hdt\"].tz_convert('Europe/Paris')"
   ]
  },
  {
   "cell_type": "code",
   "execution_count": 13,
   "metadata": {},
   "outputs": [
    {
     "data": {
      "text/plain": [
       "2020-04-27    2762120\n",
       "2020-04-25    1881000\n",
       "2020-04-26    1583142\n",
       "2020-04-24       1498\n",
       "Name: hdt, dtype: int64"
      ]
     },
     "execution_count": 13,
     "metadata": {},
     "output_type": "execute_result"
    }
   ],
   "source": [
    "hmvl[\"hdt\"].dt.date.value_counts()"
   ]
  },
  {
   "cell_type": "code",
   "execution_count": 14,
   "metadata": {},
   "outputs": [
    {
     "data": {
      "text/plain": [
       "Mon Apr 27    2733253\n",
       "Sat Apr 25    1786506\n",
       "Sun Apr 26    1539166\n",
       "2020-04-25      94292\n",
       "2020-04-26      44629\n",
       "2020-04-27      29914\n",
       "Name: horodate_id, dtype: int64"
      ]
     },
     "execution_count": 14,
     "metadata": {},
     "output_type": "execute_result"
    }
   ],
   "source": [
    "listedates=hmvl[\"horodate_id\"].str[:10]\n",
    "listedates.value_counts()\n",
    "# les dates labocom sont au format AAAA-MM-JJ, les dates RD sont au format Day Mon DD"
   ]
  },
  {
   "cell_type": "code",
   "execution_count": 35,
   "metadata": {},
   "outputs": [
    {
     "data": {
      "text/plain": [
       "0"
      ]
     },
     "execution_count": 35,
     "metadata": {},
     "output_type": "execute_result"
    }
   ],
   "source": [
    "len(hmvl[pd.isna(hmvl[\"status\"])])+len(hmvl[hmvl[\"status\"]==\"0\"])-len(hmvl[\"status\"])"
   ]
  },
  {
   "cell_type": "code",
   "execution_count": 19,
   "metadata": {},
   "outputs": [],
   "source": [
    "hmvl2=hmvl[hmvl[\"status\"]==\"0\"][[\"id\",\"hdt\",\"station\",\"voie\",\"vitesse\",\"longueur\"]]\n",
    "# en fait hmvl2 correspond aux seuls données VRU car pour les Labocom le status est vide (pd.isna est True)"
   ]
  },
  {
   "cell_type": "code",
   "execution_count": 15,
   "metadata": {},
   "outputs": [
    {
     "data": {
      "text/plain": [
       "<matplotlib.axes._subplots.AxesSubplot at 0x7f124df2c880>"
      ]
     },
     "execution_count": 15,
     "metadata": {},
     "output_type": "execute_result"
    },
    {
     "data": {
      "image/png": "[encoded data removed]",
      "text/plain": [
       "<Figure size 432x288 with 1 Axes>"
      ]
     },
     "metadata": {
      "needs_background": "light"
     },
     "output_type": "display_data"
    }
   ],
   "source": [
    "hmvl.boxplot(column=[\"vitesse\"],by=\"station\")\n",
    "# ça semble raisonnable de prendre 280 (voire 240) comme valeur seuil de vitesse"
   ]
  },
  {
   "cell_type": "code",
   "execution_count": 37,
   "metadata": {},
   "outputs": [
    {
     "data": {
      "text/plain": [
       "<matplotlib.axes._subplots.AxesSubplot at 0x7f46daa0d520>"
      ]
     },
     "execution_count": 37,
     "metadata": {},
     "output_type": "execute_result"
    },
    {
     "data": {
      "image/png": "[encoded data removed]",
      "text/plain": [
       "<Figure size 432x288 with 1 Axes>"
      ]
     },
     "metadata": {
      "needs_background": "light"
     },
     "output_type": "display_data"
    }
   ],
   "source": [
    "hmvl.boxplot(column=[\"longueur\"],by=\"station\")\n",
    "# ça semble raisonnable de prendre 25 comme valeur seuil de longueur, \n",
    "# mais il y a peut être valeur plus pertinente pour le métier, à cause des Transports Exceptionnels par exemple?\n",
    "# ou pour voir passer les convois ITER s'ils empruntent le réseau DIRMED?"
   ]
  },
  {
   "cell_type": "code",
   "execution_count": 17,
   "metadata": {},
   "outputs": [
    {
     "name": "stdout",
     "output_type": "stream",
     "text": [
      "0    1767712\n",
      "1    1516742\n",
      "2     746664\n",
      "3     300751\n",
      "4     142378\n",
      "5      27411\n",
      "Name: voie, dtype: int64\n"
     ]
    },
    {
     "data": {
      "text/plain": [
       "1726102"
      ]
     },
     "execution_count": 17,
     "metadata": {},
     "output_type": "execute_result"
    }
   ],
   "source": [
    "print(hmvl['voie'].value_counts())\n",
    "# cette fonction n'affiche pas les valeurs vides mais il y en a (1,7M)\n",
    "# cf. hmvl2['voie'].unique()\n",
    "sum(pd.isna(hmvl['voie']))"
   ]
  },
  {
   "cell_type": "code",
   "execution_count": 18,
   "metadata": {},
   "outputs": [
    {
     "data": {
      "text/plain": [
       "6227760"
      ]
     },
     "execution_count": 18,
     "metadata": {},
     "output_type": "execute_result"
    }
   ],
   "source": [
    "len(hmvl)\n",
    "# 6,2 M de lignes pour 3 jours de hmvl"
   ]
  },
  {
   "cell_type": "code",
   "execution_count": 17,
   "metadata": {},
   "outputs": [
    {
     "data": {
      "text/plain": [
       "908994"
      ]
     },
     "execution_count": 17,
     "metadata": {},
     "output_type": "execute_result"
    }
   ],
   "source": [
    " len(hmvl2)"
   ]
  },
  {
   "cell_type": "code",
   "execution_count": 19,
   "metadata": {},
   "outputs": [
    {
     "data": {
      "text/plain": [
       "(6227760, 9)"
      ]
     },
     "execution_count": 19,
     "metadata": {},
     "output_type": "execute_result"
    }
   ],
   "source": [
    "hmvl.shape"
   ]
  },
  {
   "cell_type": "code",
   "execution_count": 20,
   "metadata": {},
   "outputs": [
    {
     "data": {
      "text/plain": [
       "1726102"
      ]
     },
     "execution_count": 20,
     "metadata": {},
     "output_type": "execute_result"
    }
   ],
   "source": [
    "sum(pd.isna(hmvl['voie']))\n",
    "# 1,7M sur 6,2M mesures n'ont pas de voie dont sont inutilisables"
   ]
  },
  {
   "cell_type": "code",
   "execution_count": 43,
   "metadata": {},
   "outputs": [
    {
     "data": {
      "text/plain": [
       "135"
      ]
     },
     "execution_count": 43,
     "metadata": {},
     "output_type": "execute_result"
    }
   ],
   "source": []
  },
  {
   "cell_type": "code",
   "execution_count": 39,
   "metadata": {},
   "outputs": [],
   "source": []
  },
  {
   "cell_type": "code",
   "execution_count": 40,
   "metadata": {},
   "outputs": [
    {
     "data": {
      "text/plain": [
       "634902"
      ]
     },
     "execution_count": 40,
     "metadata": {},
     "output_type": "execute_result"
    }
   ],
   "source": []
  },
  {
   "cell_type": "code",
   "execution_count": null,
   "metadata": {},
   "outputs": [],
   "source": []
  },
  {
   "cell_type": "code",
   "execution_count": 22,
   "metadata": {},
   "outputs": [
    {
     "data": {
      "text/html": [
       "<div>\n",
       "<style scoped>\n",
       "    .dataframe tbody tr th:only-of-type {\n",
       "        vertical-align: middle;\n",
       "    }\n",
       "\n",
       "    .dataframe tbody tr th {\n",
       "        vertical-align: top;\n",
       "    }\n",
       "\n",
       "    .dataframe thead th {\n",
       "        text-align: right;\n",
       "    }\n",
       "</style>\n",
       "<table border=\"1\" class=\"dataframe\">\n",
       "  <thead>\n",
       "    <tr style=\"text-align: right;\">\n",
       "      <th></th>\n",
       "      <th>id</th>\n",
       "      <th>horodate_id</th>\n",
       "      <th>hdt</th>\n",
       "      <th>station</th>\n",
       "      <th>status</th>\n",
       "      <th>voie</th>\n",
       "      <th>vitesse</th>\n",
       "      <th>longueur</th>\n",
       "      <th>statuttr</th>\n",
       "    </tr>\n",
       "  </thead>\n",
       "  <tbody>\n",
       "    <tr>\n",
       "      <th>149</th>\n",
       "      <td>150</td>\n",
       "      <td>Sat Apr 25 08:40:18 2020</td>\n",
       "      <td>2020-04-25 06:40:18+00:00</td>\n",
       "      <td>M8i</td>\n",
       "      <td>0</td>\n",
       "      <td>None</td>\n",
       "      <td>NaN</td>\n",
       "      <td>NaN</td>\n",
       "      <td>B</td>\n",
       "    </tr>\n",
       "    <tr>\n",
       "      <th>336</th>\n",
       "      <td>337</td>\n",
       "      <td>Sat Apr 25 08:40:24 2020</td>\n",
       "      <td>2020-04-25 06:40:36.300000+00:00</td>\n",
       "      <td>M8i</td>\n",
       "      <td>0</td>\n",
       "      <td>0</td>\n",
       "      <td>81.0</td>\n",
       "      <td>3.6</td>\n",
       "      <td>B</td>\n",
       "    </tr>\n",
       "    <tr>\n",
       "      <th>337</th>\n",
       "      <td>338</td>\n",
       "      <td>Sat Apr 25 08:40:24 2020</td>\n",
       "      <td>2020-04-25 06:40:36.540000+00:00</td>\n",
       "      <td>M8i</td>\n",
       "      <td>0</td>\n",
       "      <td>2</td>\n",
       "      <td>NaN</td>\n",
       "      <td>NaN</td>\n",
       "      <td>B</td>\n",
       "    </tr>\n",
       "    <tr>\n",
       "      <th>522</th>\n",
       "      <td>523</td>\n",
       "      <td>Sat Apr 25 08:40:30 2020</td>\n",
       "      <td>2020-04-25 06:40:30+00:00</td>\n",
       "      <td>M8i</td>\n",
       "      <td>0</td>\n",
       "      <td>None</td>\n",
       "      <td>NaN</td>\n",
       "      <td>NaN</td>\n",
       "      <td>B</td>\n",
       "    </tr>\n",
       "    <tr>\n",
       "      <th>715</th>\n",
       "      <td>716</td>\n",
       "      <td>Sat Apr 25 08:40:36 2020</td>\n",
       "      <td>2020-04-25 06:40:36+00:00</td>\n",
       "      <td>M8i</td>\n",
       "      <td>0</td>\n",
       "      <td>None</td>\n",
       "      <td>NaN</td>\n",
       "      <td>NaN</td>\n",
       "      <td>B</td>\n",
       "    </tr>\n",
       "  </tbody>\n",
       "</table>\n",
       "</div>"
      ],
      "text/plain": [
       "      id               horodate_id                              hdt station  \\\n",
       "149  150  Sat Apr 25 08:40:18 2020        2020-04-25 06:40:18+00:00     M8i   \n",
       "336  337  Sat Apr 25 08:40:24 2020 2020-04-25 06:40:36.300000+00:00     M8i   \n",
       "337  338  Sat Apr 25 08:40:24 2020 2020-04-25 06:40:36.540000+00:00     M8i   \n",
       "522  523  Sat Apr 25 08:40:30 2020        2020-04-25 06:40:30+00:00     M8i   \n",
       "715  716  Sat Apr 25 08:40:36 2020        2020-04-25 06:40:36+00:00     M8i   \n",
       "\n",
       "    status  voie  vitesse  longueur statuttr  \n",
       "149      0  None      NaN       NaN        B  \n",
       "336      0     0     81.0       3.6        B  \n",
       "337      0     2      NaN       NaN        B  \n",
       "522      0  None      NaN       NaN        B  \n",
       "715      0  None      NaN       NaN        B  "
      ]
     },
     "execution_count": 22,
     "metadata": {},
     "output_type": "execute_result"
    }
   ],
   "source": [
    "M8i=hmvl[hmvl[\"station\"]==\"M8i\"]\n",
    "M8i.head(5)"
   ]
  },
  {
   "cell_type": "code",
   "execution_count": 23,
   "metadata": {},
   "outputs": [
    {
     "data": {
      "text/plain": [
       "56638"
      ]
     },
     "execution_count": 23,
     "metadata": {},
     "output_type": "execute_result"
    }
   ],
   "source": [
    "len(M8i[\"hdt\"])\n",
    "# nb de mesures dans la journée"
   ]
  },
  {
   "cell_type": "markdown",
   "metadata": {},
   "source": [
    "### RECHERCHE DES DOUBLONS"
   ]
  },
  {
   "cell_type": "code",
   "execution_count": 24,
   "metadata": {},
   "outputs": [],
   "source": [
    "idu=hmvl.groupby(\"hdt\")[\"id\"].unique()\n",
    "# sur 2,8M mesures, seulement 52092 correspondent à une seule horodate"
   ]
  },
  {
   "cell_type": "code",
   "execution_count": 26,
   "metadata": {},
   "outputs": [
    {
     "data": {
      "text/plain": [
       "hdt\n",
       "2020-04-24 22:00:00+00:00           [1786507, 1804383]\n",
       "2020-04-24 22:00:02.180000+00:00             [1842995]\n",
       "2020-04-24 22:00:04.580000+00:00             [1864417]\n",
       "2020-04-24 22:00:04.780000+00:00             [1864418]\n",
       "2020-04-24 22:00:15.100000+00:00             [1864419]\n",
       "Name: id, dtype: object"
      ]
     },
     "execution_count": 26,
     "metadata": {},
     "output_type": "execute_result"
    }
   ],
   "source": [
    "idu.head(5)"
   ]
  },
  {
   "cell_type": "code",
   "execution_count": 14,
   "metadata": {},
   "outputs": [
    {
     "data": {
      "text/plain": [
       "1    1600029\n",
       "2      64326\n",
       "4         43\n",
       "3         14\n",
       "Name: id, dtype: int64"
      ]
     },
     "execution_count": 14,
     "metadata": {},
     "output_type": "execute_result"
    }
   ],
   "source": [
    "id_hv=hmvl.groupby([\"hdt\",\"station\",\"voie\"])[\"id\"].unique()\n",
    "id_hv.apply(len).value_counts()\n",
    "# sur 1,8M mesures, il y désormais très peu de doublons, qui correspondent aux dates incorrectes, d'ailleurs?\n",
    "# cf. ci-dessous mesures du 26/12 -> il faudrait donc vérifier dans le fichier (RD - pas possible dans le labocom)\n",
    "# que l'horodate dans l'en-tête est bien à la date du jour à importer en base"
   ]
  },
  {
   "cell_type": "code",
   "execution_count": 16,
   "metadata": {},
   "outputs": [],
   "source": [
    "\n",
    "# lecture des logs pour comprendre d'où viennent les répliques\n",
    "conn = psycopg2.connect(\"host='{}' port={} dbname='{}' user={} password={}\".format(host, port, dbname, username, pwd))\n",
    "sql = \"select * from log_imports;\"\n",
    "logs= pd.read_sql_query(sql, conn)\n",
    "conn = None"
   ]
  },
  {
   "cell_type": "code",
   "execution_count": 12,
   "metadata": {},
   "outputs": [],
   "source": [
    "def mesures_répliquées(i):\n",
    "# afficher les mesures pour une ligne de id_hv\n",
    "    for x in id_hv.iloc[i]:\n",
    "        fichier=logs[(logs['firstid']<=x) & (logs['lastid']>=x)].iloc[0]['fichier'][17:]\n",
    "        print (fichier)\n",
    "        print (hmvl2[hmvl2[\"id\"]==x][[\"id\",\"hdt\",\"voie\",\"vitesse\",\"longueur\"]])\n"
   ]
  },
  {
   "cell_type": "code",
   "execution_count": 22,
   "metadata": {},
   "outputs": [
    {
     "name": "stdout",
     "output_type": "stream",
     "text": [
      "ocom/09_MPH_1.csv\n",
      "Empty DataFrame\n",
      "Columns: [id, hdt, voie, vitesse, longueur]\n",
      "Index: []\n"
     ]
    }
   ],
   "source": [
    "mesures_répliquées(565)\n",
    "# après utilisation de duplicates.py pour supprimer les fichiers en doublon :  plus de doublons dans le dataframe"
   ]
  },
  {
   "cell_type": "code",
   "execution_count": null,
   "metadata": {},
   "outputs": [],
   "source": []
  },
  {
   "cell_type": "code",
   "execution_count": 82,
   "metadata": {},
   "outputs": [],
   "source": []
  },
  {
   "cell_type": "code",
   "execution_count": 23,
   "metadata": {},
   "outputs": [
    {
     "data": {
      "text/plain": [
       "hdt                               station  voie\n",
       "2020-04-01 22:00:00.300000+00:00  MPH      2                [3069332]\n",
       "2020-04-01 22:00:00.890000+00:00  MPG      0                [2731256]\n",
       "2020-04-01 22:00:01.230000+00:00  MBS      2       [3033582, 3434455]\n",
       "2020-04-01 22:00:01.380000+00:00  MPB      2                [3222253]\n",
       "2020-04-01 22:00:02.530000+00:00  MPF      0                [3305511]\n",
       "Name: id, dtype: object"
      ]
     },
     "execution_count": 23,
     "metadata": {},
     "output_type": "execute_result"
    }
   ],
   "source": [
    "id_hv.head()"
   ]
  },
  {
   "cell_type": "code",
   "execution_count": 24,
   "metadata": {},
   "outputs": [],
   "source": [
    "sansdouble=hmvl2.groupby([\"hdt\",\"station\",\"voie\"])"
   ]
  },
  {
   "cell_type": "code",
   "execution_count": 25,
   "metadata": {},
   "outputs": [
    {
     "data": {
      "text/plain": [
       "776010"
      ]
     },
     "execution_count": 25,
     "metadata": {},
     "output_type": "execute_result"
    }
   ],
   "source": [
    "len(sansdouble)"
   ]
  },
  {
   "cell_type": "code",
   "execution_count": 26,
   "metadata": {},
   "outputs": [
    {
     "data": {
      "text/plain": [
       "841365"
      ]
     },
     "execution_count": 26,
     "metadata": {},
     "output_type": "execute_result"
    }
   ],
   "source": [
    "len(hmvl2)\n",
    "# il reste des doublons!"
   ]
  },
  {
   "cell_type": "code",
   "execution_count": 28,
   "metadata": {},
   "outputs": [
    {
     "data": {
      "text/plain": [
       "pandas.core.groupby.generic.DataFrameGroupBy"
      ]
     },
     "execution_count": 28,
     "metadata": {},
     "output_type": "execute_result"
    }
   ],
   "source": [
    "type(sansdouble)\n",
    "# DataFrameGroupBy type\n",
    "#sansdouble.groups est un dict de triplets hdt,station,voie"
   ]
  },
  {
   "cell_type": "code",
   "execution_count": 33,
   "metadata": {},
   "outputs": [
    {
     "data": {
      "text/plain": [
       "hdt                               station  voie\n",
       "2020-04-02 12:29:22.840000+00:00  M8k      0       1\n",
       "2020-04-02 13:23:14.640000+00:00  M4m      0       1\n",
       "2020-04-02 13:23:14.740000+00:00  M3i      0       1\n",
       "                                  M5f      3       1\n",
       "2020-04-02 13:23:14.790000+00:00  M7i      0       1\n",
       "                                                  ..\n",
       "2020-04-02 06:02:58.810000+00:00  M8O      0       4\n",
       "2020-04-02 06:10:22.560000+00:00  M8n      1       4\n",
       "2020-04-02 06:24:00.500000+00:00  M7i      0       4\n",
       "2020-04-02 06:16:24.210000+00:00  M3j      4       4\n",
       "2020-04-02 06:12:49.750000+00:00  M8G      0       4\n",
       "Length: 694818, dtype: int64"
      ]
     },
     "execution_count": 33,
     "metadata": {},
     "output_type": "execute_result"
    }
   ],
   "source": [
    "sansdouble.size().sort_values()"
   ]
  },
  {
   "cell_type": "code",
   "execution_count": 35,
   "metadata": {},
   "outputs": [
    {
     "data": {
      "text/html": [
       "<div>\n",
       "<style scoped>\n",
       "    .dataframe tbody tr th:only-of-type {\n",
       "        vertical-align: middle;\n",
       "    }\n",
       "\n",
       "    .dataframe tbody tr th {\n",
       "        vertical-align: top;\n",
       "    }\n",
       "\n",
       "    .dataframe thead th {\n",
       "        text-align: right;\n",
       "    }\n",
       "</style>\n",
       "<table border=\"1\" class=\"dataframe\">\n",
       "  <thead>\n",
       "    <tr style=\"text-align: right;\">\n",
       "      <th></th>\n",
       "      <th>id</th>\n",
       "      <th>hdt</th>\n",
       "      <th>station</th>\n",
       "      <th>voie</th>\n",
       "      <th>vitesse</th>\n",
       "      <th>longueur</th>\n",
       "    </tr>\n",
       "  </thead>\n",
       "  <tbody>\n",
       "    <tr>\n",
       "      <th>1576712</th>\n",
       "      <td>3883723</td>\n",
       "      <td>2020-04-02 06:12:49.750000+00:00</td>\n",
       "      <td>M8G</td>\n",
       "      <td>0</td>\n",
       "      <td>77.0</td>\n",
       "      <td>7.7</td>\n",
       "    </tr>\n",
       "    <tr>\n",
       "      <th>1589568</th>\n",
       "      <td>3896579</td>\n",
       "      <td>2020-04-02 06:12:49.750000+00:00</td>\n",
       "      <td>M8G</td>\n",
       "      <td>0</td>\n",
       "      <td>120.0</td>\n",
       "      <td>5.5</td>\n",
       "    </tr>\n",
       "    <tr>\n",
       "      <th>1700672</th>\n",
       "      <td>4054958</td>\n",
       "      <td>2020-04-02 06:12:49.750000+00:00</td>\n",
       "      <td>M8G</td>\n",
       "      <td>0</td>\n",
       "      <td>77.0</td>\n",
       "      <td>7.7</td>\n",
       "    </tr>\n",
       "    <tr>\n",
       "      <th>1713521</th>\n",
       "      <td>4067807</td>\n",
       "      <td>2020-04-02 06:12:49.750000+00:00</td>\n",
       "      <td>M8G</td>\n",
       "      <td>0</td>\n",
       "      <td>120.0</td>\n",
       "      <td>5.5</td>\n",
       "    </tr>\n",
       "  </tbody>\n",
       "</table>\n",
       "</div>"
      ],
      "text/plain": [
       "              id                              hdt station voie  vitesse  \\\n",
       "1576712  3883723 2020-04-02 06:12:49.750000+00:00     M8G    0     77.0   \n",
       "1589568  3896579 2020-04-02 06:12:49.750000+00:00     M8G    0    120.0   \n",
       "1700672  4054958 2020-04-02 06:12:49.750000+00:00     M8G    0     77.0   \n",
       "1713521  4067807 2020-04-02 06:12:49.750000+00:00     M8G    0    120.0   \n",
       "\n",
       "         longueur  \n",
       "1576712       7.7  \n",
       "1589568       5.5  \n",
       "1700672       7.7  \n",
       "1713521       5.5  "
      ]
     },
     "execution_count": 35,
     "metadata": {},
     "output_type": "execute_result"
    }
   ],
   "source": [
    "sansdouble.get_group(('2020-04-02 06:12:49.750000+00:00','M8G','0'))\n",
    "# on a encore des doublons, exemple 2 fois les mêmes mesures v,l, 2 fois des mesures différentes?"
   ]
  },
  {
   "cell_type": "code",
   "execution_count": 49,
   "metadata": {},
   "outputs": [
    {
     "data": {
      "text/plain": [
       "(1837914, 841365, 776010)"
      ]
     },
     "execution_count": 49,
     "metadata": {},
     "output_type": "execute_result"
    }
   ],
   "source": [
    "len(hmvl),len(hmvl2),len(sansdouble)"
   ]
  },
  {
   "cell_type": "code",
   "execution_count": 41,
   "metadata": {},
   "outputs": [
    {
     "data": {
      "text/plain": [
       "pandas._libs.tslibs.timestamps.Timestamp"
      ]
     },
     "execution_count": 41,
     "metadata": {},
     "output_type": "execute_result"
    }
   ],
   "source": [
    "type(hmvl['hdt'])\n",
    "type(hmvl['hdt'].loc[1])"
   ]
  },
  {
   "cell_type": "code",
   "execution_count": 38,
   "metadata": {},
   "outputs": [
    {
     "data": {
      "text/plain": [
       "pandas.core.frame.DataFrame"
      ]
     },
     "execution_count": 38,
     "metadata": {},
     "output_type": "execute_result"
    }
   ],
   "source": [
    "type(hmvl)"
   ]
  },
  {
   "cell_type": "code",
   "execution_count": 42,
   "metadata": {},
   "outputs": [],
   "source": [
    "hmvl['datetime'] = pd.to_datetime(hmvl['hdt'])\n",
    "# Set the datetime column as the index\n",
    "hmvl.index = hmvl['hdt'] "
   ]
  },
  {
   "cell_type": "code",
   "execution_count": 45,
   "metadata": {},
   "outputs": [],
   "source": [
    "v6=hmvl['vitesse'].resample('6T').mean() \n",
    "qv6=hmvl['vitesse'].resample('6T').count()\n",
    "l6=hmvl['longueur'].resample('6T').mean()\n",
    "ql6=hmvl['longueur'].resample('6T').count()\n",
    "# calcul naïf de l'agrégation 6 minutes\n",
    "# le débit n'est pas le même selon qu'on prend en compte les vitesses non vides ou les longueurs non vides\n",
    "# on pourrait facilement renvoyer ça dans un table t6m"
   ]
  },
  {
   "cell_type": "code",
   "execution_count": 46,
   "metadata": {},
   "outputs": [
    {
     "data": {
      "text/plain": [
       "(hdt\n",
       " 2020-04-01 22:00:00+00:00     94.267624\n",
       " 2020-04-01 22:06:00+00:00     95.419825\n",
       " 2020-04-01 22:12:00+00:00     94.747619\n",
       " 2020-04-01 22:18:00+00:00     95.798387\n",
       " 2020-04-01 22:24:00+00:00     94.212851\n",
       "                                 ...    \n",
       " 2020-04-03 14:54:00+00:00     98.070136\n",
       " 2020-04-03 15:00:00+00:00    100.558753\n",
       " 2020-04-03 15:06:00+00:00    100.552463\n",
       " 2020-04-03 15:12:00+00:00    100.022936\n",
       " 2020-04-03 15:18:00+00:00     98.719298\n",
       " Freq: 6T, Name: vitesse, Length: 414, dtype: float64,\n",
       " hdt\n",
       " 2020-04-01 22:00:00+00:00    766\n",
       " 2020-04-01 22:06:00+00:00    686\n",
       " 2020-04-01 22:12:00+00:00    630\n",
       " 2020-04-01 22:18:00+00:00    744\n",
       " 2020-04-01 22:24:00+00:00    747\n",
       "                             ... \n",
       " 2020-04-03 14:54:00+00:00    442\n",
       " 2020-04-03 15:00:00+00:00    417\n",
       " 2020-04-03 15:06:00+00:00    467\n",
       " 2020-04-03 15:12:00+00:00    436\n",
       " 2020-04-03 15:18:00+00:00    285\n",
       " Freq: 6T, Name: vitesse, Length: 414, dtype: int64,\n",
       " hdt\n",
       " 2020-04-01 22:00:00+00:00    11.230949\n",
       " 2020-04-01 22:06:00+00:00    10.958153\n",
       " 2020-04-01 22:12:00+00:00    10.852524\n",
       " 2020-04-01 22:18:00+00:00    10.940000\n",
       " 2020-04-01 22:24:00+00:00    11.326365\n",
       "                                ...    \n",
       " 2020-04-03 14:54:00+00:00     7.503160\n",
       " 2020-04-03 15:00:00+00:00     7.460911\n",
       " 2020-04-03 15:06:00+00:00     7.133974\n",
       " 2020-04-03 15:12:00+00:00     6.675229\n",
       " 2020-04-03 15:18:00+00:00     6.954895\n",
       " Freq: 6T, Name: longueur, Length: 414, dtype: float64,\n",
       " hdt\n",
       " 2020-04-01 22:00:00+00:00    769\n",
       " 2020-04-01 22:06:00+00:00    693\n",
       " 2020-04-01 22:12:00+00:00    634\n",
       " 2020-04-01 22:18:00+00:00    745\n",
       " 2020-04-01 22:24:00+00:00    751\n",
       "                             ... \n",
       " 2020-04-03 14:54:00+00:00    443\n",
       " 2020-04-03 15:00:00+00:00    417\n",
       " 2020-04-03 15:06:00+00:00    468\n",
       " 2020-04-03 15:12:00+00:00    436\n",
       " 2020-04-03 15:18:00+00:00    286\n",
       " Freq: 6T, Name: longueur, Length: 414, dtype: int64)"
      ]
     },
     "execution_count": 46,
     "metadata": {},
     "output_type": "execute_result"
    }
   ],
   "source": [
    "v6,qv6,l6,ql6"
   ]
  },
  {
   "cell_type": "code",
   "execution_count": 51,
   "metadata": {},
   "outputs": [],
   "source": [
    "# conclusion provisoire : faire une procédure pour chaque jour\n",
    "# 0. vérifier qu'il n'y a pas d'horodate différentes de la date du jour (attention à la timezone de Paris)\n",
    "# 1. re-tester les doublons, il ne devrait plus y en avoir\n",
    "# 2. supprimer les valeurs aberrantes de l et v, et les voies, longueur ou vitesse vides\n",
    "# 3. agréger les données\n",
    "# PS il faut aussi faire un diagnostic sur le taux de mesures valides par station"
   ]
  },
  {
   "cell_type": "code",
   "execution_count": null,
   "metadata": {},
   "outputs": [],
   "source": []
  }
 ],
 "metadata": {
  "kernelspec": {
   "display_name": "Python 3",
   "language": "python",
   "name": "python3"
  },
  "language_info": {
   "codemirror_mode": {
    "name": "ipython",
    "version": 3
   },
   "file_extension": ".py",
   "mimetype": "text/x-python",
   "name": "python",
   "nbconvert_exporter": "python",
   "pygments_lexer": "ipython3",
   "version": "3.8.2"
  }
 },
 "nbformat": 4,
 "nbformat_minor": 4
}
