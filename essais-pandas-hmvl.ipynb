{
 "cells": [
  {
   "cell_type": "code",
   "execution_count": 1,
   "metadata": {},
   "outputs": [],
   "source": [
    "import pandas as pd\n",
    "import matplotlib\n",
    "import psycopg2"
   ]
  },
  {
   "cell_type": "code",
   "execution_count": 2,
   "metadata": {},
   "outputs": [],
   "source": [
    "host=\"localhost\"\n",
    "port=5432\n",
    "dbname=\"hmvl\"\n",
    "username=\"dirmed\"\n",
    "#pwd=\"votremotdepasse\""
   ]
  },
  {
   "cell_type": "code",
   "execution_count": 8,
   "metadata": {},
   "outputs": [],
   "source": [
    "# mise à jour 24/04 : suppression des fichiers en doublon avant l'import en base,\n",
    "# pour les données du 2/4 on passe de 3,4M à 1,8M de lignes\n",
    "# l'import est rapide pour une journée, en tout cas de 3M de lignes (20 minutes)\n",
    "conn = psycopg2.connect(\"host='{}' port={} dbname='{}' user={} password={}\".format(host, port, dbname, username, pwd))\n",
    "sql = \"select * from hmvl;\"\n",
    "hmvl = pd.read_sql_query(sql, conn)\n",
    "conn = None"
   ]
  },
  {
   "cell_type": "code",
   "execution_count": 9,
   "metadata": {},
   "outputs": [],
   "source": [
    "hmvl[\"hdt\"] = pd.to_datetime(hmvl[\"hdt\"],utc=True)"
   ]
  },
  {
   "cell_type": "code",
   "execution_count": 5,
   "metadata": {},
   "outputs": [
    {
     "data": {
      "text/plain": [
       "id                           int64\n",
       "horodate_id                 object\n",
       "hdt            datetime64[ns, UTC]\n",
       "station                     object\n",
       "status                      object\n",
       "voie                        object\n",
       "vitesse                    float64\n",
       "longueur                   float64\n",
       "statuttr                    object\n",
       "dtype: object"
      ]
     },
     "execution_count": 5,
     "metadata": {},
     "output_type": "execute_result"
    }
   ],
   "source": [
    "hmvl.dtypes"
   ]
  },
  {
   "cell_type": "code",
   "execution_count": 5,
   "metadata": {},
   "outputs": [
    {
     "name": "stdout",
     "output_type": "stream",
     "text": [
      "@    959290\n",
      "B    782871\n",
      "H     79165\n",
      "J     63859\n",
      "          2\n",
      "I         2\n",
      "Name: statuttr, dtype: int64\n",
      "Empty DataFrame\n",
      "Columns: [id, horodate_id, hdt, station, status, voie, vitesse, longueur, statuttr]\n",
      "Index: []\n"
     ]
    },
    {
     "data": {
      "text/html": [
       "<div>\n",
       "<style scoped>\n",
       "    .dataframe tbody tr th:only-of-type {\n",
       "        vertical-align: middle;\n",
       "    }\n",
       "\n",
       "    .dataframe tbody tr th {\n",
       "        vertical-align: top;\n",
       "    }\n",
       "\n",
       "    .dataframe thead th {\n",
       "        text-align: right;\n",
       "    }\n",
       "</style>\n",
       "<table border=\"1\" class=\"dataframe\">\n",
       "  <thead>\n",
       "    <tr style=\"text-align: right;\">\n",
       "      <th></th>\n",
       "      <th>id</th>\n",
       "      <th>horodate_id</th>\n",
       "      <th>hdt</th>\n",
       "      <th>station</th>\n",
       "      <th>status</th>\n",
       "      <th>voie</th>\n",
       "      <th>vitesse</th>\n",
       "      <th>longueur</th>\n",
       "      <th>statuttr</th>\n",
       "    </tr>\n",
       "  </thead>\n",
       "  <tbody>\n",
       "    <tr>\n",
       "      <th>13</th>\n",
       "      <td>2239401</td>\n",
       "      <td>Thu Apr  2 14:49:18 2020</td>\n",
       "      <td>2020-04-02 12:49:18+00:00</td>\n",
       "      <td>M1b</td>\n",
       "      <td>0</td>\n",
       "      <td>None</td>\n",
       "      <td>NaN</td>\n",
       "      <td>NaN</td>\n",
       "      <td>H</td>\n",
       "    </tr>\n",
       "    <tr>\n",
       "      <th>26</th>\n",
       "      <td>2239414</td>\n",
       "      <td>Thu Apr  2 14:49:18 2020</td>\n",
       "      <td>2020-04-02 12:49:18+00:00</td>\n",
       "      <td>M1c</td>\n",
       "      <td>0</td>\n",
       "      <td>None</td>\n",
       "      <td>NaN</td>\n",
       "      <td>NaN</td>\n",
       "      <td>H</td>\n",
       "    </tr>\n",
       "    <tr>\n",
       "      <th>89</th>\n",
       "      <td>2239477</td>\n",
       "      <td>Thu Apr  2 14:49:18 2020</td>\n",
       "      <td>2020-04-02 12:49:18+00:00</td>\n",
       "      <td>M7O</td>\n",
       "      <td>0</td>\n",
       "      <td>None</td>\n",
       "      <td>NaN</td>\n",
       "      <td>NaN</td>\n",
       "      <td>H</td>\n",
       "    </tr>\n",
       "    <tr>\n",
       "      <th>98</th>\n",
       "      <td>2239486</td>\n",
       "      <td>Thu Apr  2 14:49:18 2020</td>\n",
       "      <td>2020-04-02 12:49:18+00:00</td>\n",
       "      <td>M1h</td>\n",
       "      <td>0</td>\n",
       "      <td>None</td>\n",
       "      <td>NaN</td>\n",
       "      <td>NaN</td>\n",
       "      <td>H</td>\n",
       "    </tr>\n",
       "    <tr>\n",
       "      <th>111</th>\n",
       "      <td>2239499</td>\n",
       "      <td>Thu Apr  2 14:49:18 2020</td>\n",
       "      <td>2020-04-02 12:49:18+00:00</td>\n",
       "      <td>M1B</td>\n",
       "      <td>0</td>\n",
       "      <td>None</td>\n",
       "      <td>NaN</td>\n",
       "      <td>NaN</td>\n",
       "      <td>H</td>\n",
       "    </tr>\n",
       "    <tr>\n",
       "      <th>166</th>\n",
       "      <td>2239554</td>\n",
       "      <td>Thu Apr  2 14:49:18 2020</td>\n",
       "      <td>2020-04-02 12:49:30.510000+00:00</td>\n",
       "      <td>M3x</td>\n",
       "      <td>0</td>\n",
       "      <td>0</td>\n",
       "      <td>94.0</td>\n",
       "      <td>3.7</td>\n",
       "      <td>H</td>\n",
       "    </tr>\n",
       "    <tr>\n",
       "      <th>167</th>\n",
       "      <td>2239555</td>\n",
       "      <td>Thu Apr  2 14:49:18 2020</td>\n",
       "      <td>2020-04-02 12:49:31.390000+00:00</td>\n",
       "      <td>M3x</td>\n",
       "      <td>0</td>\n",
       "      <td>0</td>\n",
       "      <td>87.0</td>\n",
       "      <td>4.2</td>\n",
       "      <td>H</td>\n",
       "    </tr>\n",
       "    <tr>\n",
       "      <th>168</th>\n",
       "      <td>2239556</td>\n",
       "      <td>Thu Apr  2 14:49:18 2020</td>\n",
       "      <td>2020-04-02 12:49:33.090000+00:00</td>\n",
       "      <td>M3x</td>\n",
       "      <td>0</td>\n",
       "      <td>1</td>\n",
       "      <td>96.0</td>\n",
       "      <td>4.2</td>\n",
       "      <td>H</td>\n",
       "    </tr>\n",
       "    <tr>\n",
       "      <th>169</th>\n",
       "      <td>2239557</td>\n",
       "      <td>Thu Apr  2 14:49:18 2020</td>\n",
       "      <td>2020-04-02 12:49:28.240000+00:00</td>\n",
       "      <td>M7j</td>\n",
       "      <td>0</td>\n",
       "      <td>0</td>\n",
       "      <td>87.0</td>\n",
       "      <td>4.0</td>\n",
       "      <td>H</td>\n",
       "    </tr>\n",
       "    <tr>\n",
       "      <th>170</th>\n",
       "      <td>2239558</td>\n",
       "      <td>Thu Apr  2 14:49:18 2020</td>\n",
       "      <td>2020-04-02 12:49:28.440000+00:00</td>\n",
       "      <td>M7j</td>\n",
       "      <td>0</td>\n",
       "      <td>1</td>\n",
       "      <td>105.0</td>\n",
       "      <td>4.3</td>\n",
       "      <td>H</td>\n",
       "    </tr>\n",
       "    <tr>\n",
       "      <th>197</th>\n",
       "      <td>2239585</td>\n",
       "      <td>Thu Apr  2 14:49:18 2020</td>\n",
       "      <td>2020-04-02 12:49:24.790000+00:00</td>\n",
       "      <td>M7r</td>\n",
       "      <td>0</td>\n",
       "      <td>0</td>\n",
       "      <td>93.0</td>\n",
       "      <td>3.5</td>\n",
       "      <td>H</td>\n",
       "    </tr>\n",
       "    <tr>\n",
       "      <th>198</th>\n",
       "      <td>2239586</td>\n",
       "      <td>Thu Apr  2 14:49:18 2020</td>\n",
       "      <td>2020-04-02 12:49:27.240000+00:00</td>\n",
       "      <td>M7r</td>\n",
       "      <td>0</td>\n",
       "      <td>0</td>\n",
       "      <td>84.0</td>\n",
       "      <td>12.8</td>\n",
       "      <td>H</td>\n",
       "    </tr>\n",
       "    <tr>\n",
       "      <th>205</th>\n",
       "      <td>2239593</td>\n",
       "      <td>Thu Apr  2 14:49:18 2020</td>\n",
       "      <td>2020-04-02 12:49:18+00:00</td>\n",
       "      <td>M7t</td>\n",
       "      <td>0</td>\n",
       "      <td>None</td>\n",
       "      <td>NaN</td>\n",
       "      <td>NaN</td>\n",
       "      <td>H</td>\n",
       "    </tr>\n",
       "    <tr>\n",
       "      <th>207</th>\n",
       "      <td>2239595</td>\n",
       "      <td>Thu Apr  2 14:49:18 2020</td>\n",
       "      <td>2020-04-02 12:49:31.360000+00:00</td>\n",
       "      <td>M3X</td>\n",
       "      <td>0</td>\n",
       "      <td>1</td>\n",
       "      <td>97.0</td>\n",
       "      <td>4.4</td>\n",
       "      <td>H</td>\n",
       "    </tr>\n",
       "    <tr>\n",
       "      <th>230</th>\n",
       "      <td>2239618</td>\n",
       "      <td>Thu Apr  2 14:49:18 2020</td>\n",
       "      <td>2020-04-02 12:49:33.750000+00:00</td>\n",
       "      <td>M7P</td>\n",
       "      <td>0</td>\n",
       "      <td>0</td>\n",
       "      <td>86.0</td>\n",
       "      <td>14.1</td>\n",
       "      <td>H</td>\n",
       "    </tr>\n",
       "    <tr>\n",
       "      <th>270</th>\n",
       "      <td>2239658</td>\n",
       "      <td>Thu Apr  2 14:49:24 2020</td>\n",
       "      <td>2020-04-02 12:49:37.770000+00:00</td>\n",
       "      <td>M1b</td>\n",
       "      <td>0</td>\n",
       "      <td>1</td>\n",
       "      <td>83.0</td>\n",
       "      <td>4.4</td>\n",
       "      <td>H</td>\n",
       "    </tr>\n",
       "    <tr>\n",
       "      <th>271</th>\n",
       "      <td>2239659</td>\n",
       "      <td>Thu Apr  2 14:49:24 2020</td>\n",
       "      <td>2020-04-02 12:49:39.180000+00:00</td>\n",
       "      <td>M1b</td>\n",
       "      <td>0</td>\n",
       "      <td>1</td>\n",
       "      <td>83.0</td>\n",
       "      <td>3.9</td>\n",
       "      <td>H</td>\n",
       "    </tr>\n",
       "    <tr>\n",
       "      <th>272</th>\n",
       "      <td>2239660</td>\n",
       "      <td>Thu Apr  2 14:49:24 2020</td>\n",
       "      <td>2020-04-02 12:49:41.320000+00:00</td>\n",
       "      <td>M1b</td>\n",
       "      <td>0</td>\n",
       "      <td>2</td>\n",
       "      <td>144.0</td>\n",
       "      <td>1.4</td>\n",
       "      <td>H</td>\n",
       "    </tr>\n",
       "    <tr>\n",
       "      <th>273</th>\n",
       "      <td>2239661</td>\n",
       "      <td>Thu Apr  2 14:49:24 2020</td>\n",
       "      <td>2020-04-02 12:49:41.520000+00:00</td>\n",
       "      <td>M1b</td>\n",
       "      <td>0</td>\n",
       "      <td>1</td>\n",
       "      <td>132.0</td>\n",
       "      <td>3.2</td>\n",
       "      <td>H</td>\n",
       "    </tr>\n",
       "    <tr>\n",
       "      <th>290</th>\n",
       "      <td>2239678</td>\n",
       "      <td>Thu Apr  2 14:49:24 2020</td>\n",
       "      <td>2020-04-02 12:49:41.300000+00:00</td>\n",
       "      <td>M1c</td>\n",
       "      <td>0</td>\n",
       "      <td>3</td>\n",
       "      <td>NaN</td>\n",
       "      <td>NaN</td>\n",
       "      <td>H</td>\n",
       "    </tr>\n",
       "  </tbody>\n",
       "</table>\n",
       "</div>"
      ],
      "text/plain": [
       "          id               horodate_id                              hdt  \\\n",
       "13   2239401  Thu Apr  2 14:49:18 2020        2020-04-02 12:49:18+00:00   \n",
       "26   2239414  Thu Apr  2 14:49:18 2020        2020-04-02 12:49:18+00:00   \n",
       "89   2239477  Thu Apr  2 14:49:18 2020        2020-04-02 12:49:18+00:00   \n",
       "98   2239486  Thu Apr  2 14:49:18 2020        2020-04-02 12:49:18+00:00   \n",
       "111  2239499  Thu Apr  2 14:49:18 2020        2020-04-02 12:49:18+00:00   \n",
       "166  2239554  Thu Apr  2 14:49:18 2020 2020-04-02 12:49:30.510000+00:00   \n",
       "167  2239555  Thu Apr  2 14:49:18 2020 2020-04-02 12:49:31.390000+00:00   \n",
       "168  2239556  Thu Apr  2 14:49:18 2020 2020-04-02 12:49:33.090000+00:00   \n",
       "169  2239557  Thu Apr  2 14:49:18 2020 2020-04-02 12:49:28.240000+00:00   \n",
       "170  2239558  Thu Apr  2 14:49:18 2020 2020-04-02 12:49:28.440000+00:00   \n",
       "197  2239585  Thu Apr  2 14:49:18 2020 2020-04-02 12:49:24.790000+00:00   \n",
       "198  2239586  Thu Apr  2 14:49:18 2020 2020-04-02 12:49:27.240000+00:00   \n",
       "205  2239593  Thu Apr  2 14:49:18 2020        2020-04-02 12:49:18+00:00   \n",
       "207  2239595  Thu Apr  2 14:49:18 2020 2020-04-02 12:49:31.360000+00:00   \n",
       "230  2239618  Thu Apr  2 14:49:18 2020 2020-04-02 12:49:33.750000+00:00   \n",
       "270  2239658  Thu Apr  2 14:49:24 2020 2020-04-02 12:49:37.770000+00:00   \n",
       "271  2239659  Thu Apr  2 14:49:24 2020 2020-04-02 12:49:39.180000+00:00   \n",
       "272  2239660  Thu Apr  2 14:49:24 2020 2020-04-02 12:49:41.320000+00:00   \n",
       "273  2239661  Thu Apr  2 14:49:24 2020 2020-04-02 12:49:41.520000+00:00   \n",
       "290  2239678  Thu Apr  2 14:49:24 2020 2020-04-02 12:49:41.300000+00:00   \n",
       "\n",
       "    station status  voie  vitesse  longueur statuttr  \n",
       "13      M1b      0  None      NaN       NaN        H  \n",
       "26      M1c      0  None      NaN       NaN        H  \n",
       "89      M7O      0  None      NaN       NaN        H  \n",
       "98      M1h      0  None      NaN       NaN        H  \n",
       "111     M1B      0  None      NaN       NaN        H  \n",
       "166     M3x      0     0     94.0       3.7        H  \n",
       "167     M3x      0     0     87.0       4.2        H  \n",
       "168     M3x      0     1     96.0       4.2        H  \n",
       "169     M7j      0     0     87.0       4.0        H  \n",
       "170     M7j      0     1    105.0       4.3        H  \n",
       "197     M7r      0     0     93.0       3.5        H  \n",
       "198     M7r      0     0     84.0      12.8        H  \n",
       "205     M7t      0  None      NaN       NaN        H  \n",
       "207     M3X      0     1     97.0       4.4        H  \n",
       "230     M7P      0     0     86.0      14.1        H  \n",
       "270     M1b      0     1     83.0       4.4        H  \n",
       "271     M1b      0     1     83.0       3.9        H  \n",
       "272     M1b      0     2    144.0       1.4        H  \n",
       "273     M1b      0     1    132.0       3.2        H  \n",
       "290     M1c      0     3      NaN       NaN        H  "
      ]
     },
     "execution_count": 5,
     "metadata": {},
     "output_type": "execute_result"
    }
   ],
   "source": [
    "print(hmvl[\"statuttr\"].value_counts())\n",
    "# a priori on garde les statuts B et @\n",
    "# pour H que fait-on ? en principe c'est une erreur interne mais les valeurs ont l'air correctes\n",
    "# de même pour J... et les autres valeurs ne sont pas documentées\n",
    "# par exemple avec le statuttr J il n'y a aucune ligne avec le status 2\n",
    "print(hmvl[(hmvl[\"status\"]==\"2\") & (hmvl[\"statuttr\"]==\"J\")])\n",
    "# -> a priori le Status TR n'apporte pas d'info permettant d'éliminer des mesures\n",
    "hmvl[hmvl[\"statuttr\"]==\"H\"][:20]\n"
   ]
  },
  {
   "cell_type": "code",
   "execution_count": 10,
   "metadata": {},
   "outputs": [
    {
     "data": {
      "text/plain": [
       "0    841365\n",
       "Name: status, dtype: int64"
      ]
     },
     "execution_count": 10,
     "metadata": {},
     "output_type": "execute_result"
    }
   ],
   "source": [
    "hmvl[\"status\"].value_counts()\n",
    "# une fois éliminé les doublons il semble qu'il n'y ait plus de données avec le status 2"
   ]
  },
  {
   "cell_type": "code",
   "execution_count": 8,
   "metadata": {},
   "outputs": [
    {
     "name": "stdout",
     "output_type": "stream",
     "text": [
      "Series([], Name: longueur, dtype: int64)\n",
      "Series([], Name: station, dtype: int64)\n",
      "Series([], Name: station, dtype: int64)\n"
     ]
    }
   ],
   "source": [
    "print(hmvl[hmvl[\"status\"]==\"2\"][\"longueur\"].value_counts())\n",
    "# n'affiche rien:\n",
    "# c'est rassurant, quand le status est 2, il n'y a pasde mesures de vitesse ni de longueur\n",
    "# on peut donc garder les stats de status 2 par station des diagnostics, \n",
    "# et on peut les enlever pour les traitements ultérieurs\n",
    "x=hmvl[hmvl[\"status\"]==\"2\"][\"station\"].value_counts()[0:15]\n",
    "print(x)\n",
    "print(hmvl[\"station\"].value_counts()[x.keys()])\n",
    "# on voit que certaines stations M3S, M8Q... n'ont aucune mesure"
   ]
  },
  {
   "cell_type": "code",
   "execution_count": 9,
   "metadata": {},
   "outputs": [
    {
     "data": {
      "text/plain": [
       "(Timestamp('2020-04-01 13:31:12+0000', tz='UTC'),\n",
       " Timestamp('2020-04-02 21:59:59.340000+0000', tz='UTC'),\n",
       " Timedelta('1 days 08:28:47.340000'))"
      ]
     },
     "execution_count": 9,
     "metadata": {},
     "output_type": "execute_result"
    }
   ],
   "source": [
    "hmvl[\"hdt\"].min() , hmvl[\"hdt\"].max(), hmvl[\"hdt\"].max()-hmvl[\"hdt\"].min()\n",
    "# on a encore des dates anormales, 26/12/19... 21/02/20....\n",
    "# a priori on ne doit garder que le mesures de la date du jour, éventuellement les horodates autour de minuit"
   ]
  },
  {
   "cell_type": "code",
   "execution_count": 11,
   "metadata": {},
   "outputs": [
    {
     "data": {
      "text/plain": [
       "2020-04-02    1760148\n",
       "2020-04-03      57418\n",
       "2020-04-01      20348\n",
       "Name: hdt, dtype: int64"
      ]
     },
     "execution_count": 11,
     "metadata": {},
     "output_type": "execute_result"
    }
   ],
   "source": [
    "hmvl[\"hdt\"].dt.date.value_counts()"
   ]
  },
  {
   "cell_type": "code",
   "execution_count": 11,
   "metadata": {},
   "outputs": [
    {
     "data": {
      "text/plain": [
       "2020-04-02    937665\n",
       "Thu Apr  2    776415\n",
       "Fri Feb 21     80058\n",
       "Wed Apr  1     47275\n",
       "Thu Dec 26      5246\n",
       "Name: horodate_id, dtype: int64"
      ]
     },
     "execution_count": 11,
     "metadata": {},
     "output_type": "execute_result"
    }
   ],
   "source": [
    "listedates=hmvl[\"horodate_id\"].str[:10]\n",
    "listedates.value_counts()"
   ]
  },
  {
   "cell_type": "code",
   "execution_count": 35,
   "metadata": {},
   "outputs": [
    {
     "data": {
      "text/plain": [
       "0"
      ]
     },
     "execution_count": 35,
     "metadata": {},
     "output_type": "execute_result"
    }
   ],
   "source": [
    "len(hmvl[pd.isna(hmvl[\"status\"])])+len(hmvl[hmvl[\"status\"]==\"0\"])-len(hmvl[\"status\"])"
   ]
  },
  {
   "cell_type": "code",
   "execution_count": 19,
   "metadata": {},
   "outputs": [],
   "source": [
    "hmvl2=hmvl[hmvl[\"status\"]==\"0\"][[\"id\",\"hdt\",\"station\",\"voie\",\"vitesse\",\"longueur\"]]\n",
    "# en fait hmvl2 correspond aux seuls données VRU car pour les Labocom le status est vide (pd.isna est True)"
   ]
  },
  {
   "cell_type": "code",
   "execution_count": 36,
   "metadata": {},
   "outputs": [
    {
     "data": {
      "text/plain": [
       "<matplotlib.axes._subplots.AxesSubplot at 0x7f46d34f97f0>"
      ]
     },
     "execution_count": 36,
     "metadata": {},
     "output_type": "execute_result"
    },
    {
     "data": {
      "image/png": "[encoded data removed]",
      "text/plain": [
       "<Figure size 432x288 with 1 Axes>"
      ]
     },
     "metadata": {
      "needs_background": "light"
     },
     "output_type": "display_data"
    }
   ],
   "source": [
    "hmvl.boxplot(column=[\"vitesse\"],by=\"station\")\n",
    "# ça semble raisonnable de prendre 280 (voire 240) comme valeur seuil de vitesse"
   ]
  },
  {
   "cell_type": "code",
   "execution_count": 37,
   "metadata": {},
   "outputs": [
    {
     "data": {
      "text/plain": [
       "<matplotlib.axes._subplots.AxesSubplot at 0x7f46daa0d520>"
      ]
     },
     "execution_count": 37,
     "metadata": {},
     "output_type": "execute_result"
    },
    {
     "data": {
      "image/png": "[encoded data removed]",
      "text/plain": [
       "<Figure size 432x288 with 1 Axes>"
      ]
     },
     "metadata": {
      "needs_background": "light"
     },
     "output_type": "display_data"
    }
   ],
   "source": [
    "hmvl.boxplot(column=[\"longueur\"],by=\"station\")\n",
    "# ça semble raisonnable de prendre 25 comme valeur seuil de longueur, \n",
    "# mais il y a peut être valeur plus pertinente pour le métier, à cause des Transports Exceptionnels par exemple?\n",
    "# ou pour voir passer les convois ITER s'ils empruntent le réseau DIRMED?"
   ]
  },
  {
   "cell_type": "code",
   "execution_count": 38,
   "metadata": {},
   "outputs": [
    {
     "name": "stdout",
     "output_type": "stream",
     "text": [
      "0    686694\n",
      "2    515413\n",
      "1    385004\n",
      "3    118886\n",
      "4     26448\n",
      "5      4998\n",
      "*       227\n",
      "9       118\n",
      "8        46\n",
      "7         6\n",
      "6         2\n",
      "Name: voie, dtype: int64\n"
     ]
    },
    {
     "data": {
      "text/plain": [
       "86320"
      ]
     },
     "execution_count": 38,
     "metadata": {},
     "output_type": "execute_result"
    }
   ],
   "source": [
    "print(hmvl['voie'].value_counts())\n",
    "# cette fonction n'affiche pas les valeurs vides mais il y en a (291838)\n",
    "# cf. hmvl2['voie'].unique()\n",
    "sum(pd.isna(hmvl2['voie']))"
   ]
  },
  {
   "cell_type": "code",
   "execution_count": 16,
   "metadata": {},
   "outputs": [
    {
     "data": {
      "text/plain": [
       "1846659"
      ]
     },
     "execution_count": 16,
     "metadata": {},
     "output_type": "execute_result"
    }
   ],
   "source": [
    "len(hmvl)\n",
    "# 1,8 M de lignes pour hmvl, dont 0,9 VRU et autant labocom? \n",
    "#(peut être parce que les labocom sont sur 24H  et 2 sens?)"
   ]
  },
  {
   "cell_type": "code",
   "execution_count": 17,
   "metadata": {},
   "outputs": [
    {
     "data": {
      "text/plain": [
       "908994"
      ]
     },
     "execution_count": 17,
     "metadata": {},
     "output_type": "execute_result"
    }
   ],
   "source": [
    " len(hmvl2)"
   ]
  },
  {
   "cell_type": "code",
   "execution_count": 39,
   "metadata": {},
   "outputs": [
    {
     "data": {
      "text/plain": [
       "(1846659, 9)"
      ]
     },
     "execution_count": 39,
     "metadata": {},
     "output_type": "execute_result"
    }
   ],
   "source": [
    "hmvl.shape"
   ]
  },
  {
   "cell_type": "code",
   "execution_count": 50,
   "metadata": {},
   "outputs": [
    {
     "data": {
      "text/plain": [
       "109019"
      ]
     },
     "execution_count": 50,
     "metadata": {},
     "output_type": "execute_result"
    }
   ],
   "source": [
    "sum(pd.isna(hmvl['voie']))\n",
    "# 100k sur 1800k mesures n'ont pas de voie dont sont inutilisables?"
   ]
  },
  {
   "cell_type": "code",
   "execution_count": 43,
   "metadata": {},
   "outputs": [
    {
     "data": {
      "text/plain": [
       "135"
      ]
     },
     "execution_count": 43,
     "metadata": {},
     "output_type": "execute_result"
    }
   ],
   "source": []
  },
  {
   "cell_type": "code",
   "execution_count": 39,
   "metadata": {},
   "outputs": [],
   "source": []
  },
  {
   "cell_type": "code",
   "execution_count": 40,
   "metadata": {},
   "outputs": [
    {
     "data": {
      "text/plain": [
       "634902"
      ]
     },
     "execution_count": 40,
     "metadata": {},
     "output_type": "execute_result"
    }
   ],
   "source": []
  },
  {
   "cell_type": "code",
   "execution_count": null,
   "metadata": {},
   "outputs": [],
   "source": []
  },
  {
   "cell_type": "code",
   "execution_count": 45,
   "metadata": {},
   "outputs": [
    {
     "data": {
      "text/html": [
       "<div>\n",
       "<style scoped>\n",
       "    .dataframe tbody tr th:only-of-type {\n",
       "        vertical-align: middle;\n",
       "    }\n",
       "\n",
       "    .dataframe tbody tr th {\n",
       "        vertical-align: top;\n",
       "    }\n",
       "\n",
       "    .dataframe thead th {\n",
       "        text-align: right;\n",
       "    }\n",
       "</style>\n",
       "<table border=\"1\" class=\"dataframe\">\n",
       "  <thead>\n",
       "    <tr style=\"text-align: right;\">\n",
       "      <th></th>\n",
       "      <th>id</th>\n",
       "      <th>hdt</th>\n",
       "      <th>station</th>\n",
       "      <th>voie</th>\n",
       "      <th>vitesse</th>\n",
       "      <th>longueur</th>\n",
       "    </tr>\n",
       "  </thead>\n",
       "  <tbody>\n",
       "    <tr>\n",
       "      <th>176</th>\n",
       "      <td>101555</td>\n",
       "      <td>2020-04-02 12:49:22.140000+00:00</td>\n",
       "      <td>M8i</td>\n",
       "      <td>2</td>\n",
       "      <td>NaN</td>\n",
       "      <td>NaN</td>\n",
       "    </tr>\n",
       "    <tr>\n",
       "      <th>177</th>\n",
       "      <td>101556</td>\n",
       "      <td>2020-04-02 12:49:22.480000+00:00</td>\n",
       "      <td>M8i</td>\n",
       "      <td>0</td>\n",
       "      <td>70.0</td>\n",
       "      <td>4.5</td>\n",
       "    </tr>\n",
       "    <tr>\n",
       "      <th>178</th>\n",
       "      <td>101557</td>\n",
       "      <td>2020-04-02 12:49:22.610000+00:00</td>\n",
       "      <td>M8i</td>\n",
       "      <td>1</td>\n",
       "      <td>82.0</td>\n",
       "      <td>5.4</td>\n",
       "    </tr>\n",
       "    <tr>\n",
       "      <th>179</th>\n",
       "      <td>101558</td>\n",
       "      <td>2020-04-02 12:49:22.640000+00:00</td>\n",
       "      <td>M8i</td>\n",
       "      <td>2</td>\n",
       "      <td>78.0</td>\n",
       "      <td>4.1</td>\n",
       "    </tr>\n",
       "    <tr>\n",
       "      <th>180</th>\n",
       "      <td>101559</td>\n",
       "      <td>2020-04-02 12:49:23.510000+00:00</td>\n",
       "      <td>M8i</td>\n",
       "      <td>1</td>\n",
       "      <td>65.0</td>\n",
       "      <td>4.6</td>\n",
       "    </tr>\n",
       "  </tbody>\n",
       "</table>\n",
       "</div>"
      ],
      "text/plain": [
       "         id                              hdt station voie  vitesse  longueur\n",
       "176  101555 2020-04-02 12:49:22.140000+00:00     M8i    2      NaN       NaN\n",
       "177  101556 2020-04-02 12:49:22.480000+00:00     M8i    0     70.0       4.5\n",
       "178  101557 2020-04-02 12:49:22.610000+00:00     M8i    1     82.0       5.4\n",
       "179  101558 2020-04-02 12:49:22.640000+00:00     M8i    2     78.0       4.1\n",
       "180  101559 2020-04-02 12:49:23.510000+00:00     M8i    1     65.0       4.6"
      ]
     },
     "execution_count": 45,
     "metadata": {},
     "output_type": "execute_result"
    }
   ],
   "source": [
    "M8i=hmvl2[hmvl2[\"station\"]==\"M8i\"]\n",
    "M8i.head(5)"
   ]
  },
  {
   "cell_type": "code",
   "execution_count": 46,
   "metadata": {},
   "outputs": [
    {
     "data": {
      "text/plain": [
       "16066"
      ]
     },
     "execution_count": 46,
     "metadata": {},
     "output_type": "execute_result"
    }
   ],
   "source": [
    "len(M8i[\"hdt\"])\n",
    "# 16066 mesures dans la journée"
   ]
  },
  {
   "cell_type": "code",
   "execution_count": 47,
   "metadata": {},
   "outputs": [],
   "source": [
    "idu=hmvl.groupby(\"hdt\")[\"id\"].unique()\n",
    "# sur 2,8M mesures, seulement 52092 correspondent à une seule horodate"
   ]
  },
  {
   "cell_type": "code",
   "execution_count": 14,
   "metadata": {},
   "outputs": [
    {
     "data": {
      "text/plain": [
       "1    1600029\n",
       "2      64326\n",
       "4         43\n",
       "3         14\n",
       "Name: id, dtype: int64"
      ]
     },
     "execution_count": 14,
     "metadata": {},
     "output_type": "execute_result"
    }
   ],
   "source": [
    "id_hv=hmvl.groupby([\"hdt\",\"station\",\"voie\"])[\"id\"].unique()\n",
    "id_hv.apply(len).value_counts()\n",
    "# sur 1,8M mesures, il y désormais très peu de doublons, qui correspondent aux dates incorrectes, d'ailleurs?\n",
    "# cf. ci-dessous mesures du 26/12 -> il faudrait donc vérifier dans le fichier (RD - pas possible dans le labocom)\n",
    "# que l'horodate dans l'en-tête est bien à la date du jour à importer en base"
   ]
  },
  {
   "cell_type": "code",
   "execution_count": 16,
   "metadata": {},
   "outputs": [],
   "source": [
    "\n",
    "# lecture des logs pour comprendre d'où viennent les répliques\n",
    "conn = psycopg2.connect(\"host='{}' port={} dbname='{}' user={} password={}\".format(host, port, dbname, username, pwd))\n",
    "sql = \"select * from log_imports;\"\n",
    "logs= pd.read_sql_query(sql, conn)\n",
    "conn = None"
   ]
  },
  {
   "cell_type": "code",
   "execution_count": 12,
   "metadata": {},
   "outputs": [],
   "source": [
    "def mesures_répliquées(i):\n",
    "# afficher les mesures pour une ligne de id_hv\n",
    "    for x in id_hv.iloc[i]:\n",
    "        fichier=logs[(logs['firstid']<=x) & (logs['lastid']>=x)].iloc[0]['fichier'][17:]\n",
    "        print (fichier)\n",
    "        print (hmvl2[hmvl2[\"id\"]==x][[\"id\",\"hdt\",\"voie\",\"vitesse\",\"longueur\"]])\n"
   ]
  },
  {
   "cell_type": "code",
   "execution_count": 22,
   "metadata": {},
   "outputs": [
    {
     "name": "stdout",
     "output_type": "stream",
     "text": [
      "ocom/09_MPH_1.csv\n",
      "Empty DataFrame\n",
      "Columns: [id, hdt, voie, vitesse, longueur]\n",
      "Index: []\n"
     ]
    }
   ],
   "source": [
    "mesures_répliquées(565)\n",
    "# après utilisation de duplicates.py pour supprimer les fichiers en doublon :  plus de doublons dans le dataframe"
   ]
  },
  {
   "cell_type": "code",
   "execution_count": null,
   "metadata": {},
   "outputs": [],
   "source": []
  },
  {
   "cell_type": "code",
   "execution_count": 82,
   "metadata": {},
   "outputs": [],
   "source": []
  },
  {
   "cell_type": "code",
   "execution_count": 23,
   "metadata": {},
   "outputs": [
    {
     "data": {
      "text/plain": [
       "hdt                               station  voie\n",
       "2020-04-01 22:00:00.300000+00:00  MPH      2                [3069332]\n",
       "2020-04-01 22:00:00.890000+00:00  MPG      0                [2731256]\n",
       "2020-04-01 22:00:01.230000+00:00  MBS      2       [3033582, 3434455]\n",
       "2020-04-01 22:00:01.380000+00:00  MPB      2                [3222253]\n",
       "2020-04-01 22:00:02.530000+00:00  MPF      0                [3305511]\n",
       "Name: id, dtype: object"
      ]
     },
     "execution_count": 23,
     "metadata": {},
     "output_type": "execute_result"
    }
   ],
   "source": [
    "id_hv.head()"
   ]
  },
  {
   "cell_type": "code",
   "execution_count": 24,
   "metadata": {},
   "outputs": [],
   "source": [
    "sansdouble=hmvl2.groupby([\"hdt\",\"station\",\"voie\"])"
   ]
  },
  {
   "cell_type": "code",
   "execution_count": 25,
   "metadata": {},
   "outputs": [
    {
     "data": {
      "text/plain": [
       "776010"
      ]
     },
     "execution_count": 25,
     "metadata": {},
     "output_type": "execute_result"
    }
   ],
   "source": [
    "len(sansdouble)"
   ]
  },
  {
   "cell_type": "code",
   "execution_count": 26,
   "metadata": {},
   "outputs": [
    {
     "data": {
      "text/plain": [
       "841365"
      ]
     },
     "execution_count": 26,
     "metadata": {},
     "output_type": "execute_result"
    }
   ],
   "source": [
    "len(hmvl2)\n",
    "# il reste des doublons!"
   ]
  },
  {
   "cell_type": "code",
   "execution_count": 28,
   "metadata": {},
   "outputs": [
    {
     "data": {
      "text/plain": [
       "pandas.core.groupby.generic.DataFrameGroupBy"
      ]
     },
     "execution_count": 28,
     "metadata": {},
     "output_type": "execute_result"
    }
   ],
   "source": [
    "type(sansdouble)\n",
    "# DataFrameGroupBy type\n",
    "#sansdouble.groups est un dict de triplets hdt,station,voie"
   ]
  },
  {
   "cell_type": "code",
   "execution_count": 33,
   "metadata": {},
   "outputs": [
    {
     "data": {
      "text/plain": [
       "hdt                               station  voie\n",
       "2020-04-02 12:29:22.840000+00:00  M8k      0       1\n",
       "2020-04-02 13:23:14.640000+00:00  M4m      0       1\n",
       "2020-04-02 13:23:14.740000+00:00  M3i      0       1\n",
       "                                  M5f      3       1\n",
       "2020-04-02 13:23:14.790000+00:00  M7i      0       1\n",
       "                                                  ..\n",
       "2020-04-02 06:02:58.810000+00:00  M8O      0       4\n",
       "2020-04-02 06:10:22.560000+00:00  M8n      1       4\n",
       "2020-04-02 06:24:00.500000+00:00  M7i      0       4\n",
       "2020-04-02 06:16:24.210000+00:00  M3j      4       4\n",
       "2020-04-02 06:12:49.750000+00:00  M8G      0       4\n",
       "Length: 694818, dtype: int64"
      ]
     },
     "execution_count": 33,
     "metadata": {},
     "output_type": "execute_result"
    }
   ],
   "source": [
    "sansdouble.size().sort_values()"
   ]
  },
  {
   "cell_type": "code",
   "execution_count": 35,
   "metadata": {},
   "outputs": [
    {
     "data": {
      "text/html": [
       "<div>\n",
       "<style scoped>\n",
       "    .dataframe tbody tr th:only-of-type {\n",
       "        vertical-align: middle;\n",
       "    }\n",
       "\n",
       "    .dataframe tbody tr th {\n",
       "        vertical-align: top;\n",
       "    }\n",
       "\n",
       "    .dataframe thead th {\n",
       "        text-align: right;\n",
       "    }\n",
       "</style>\n",
       "<table border=\"1\" class=\"dataframe\">\n",
       "  <thead>\n",
       "    <tr style=\"text-align: right;\">\n",
       "      <th></th>\n",
       "      <th>id</th>\n",
       "      <th>hdt</th>\n",
       "      <th>station</th>\n",
       "      <th>voie</th>\n",
       "      <th>vitesse</th>\n",
       "      <th>longueur</th>\n",
       "    </tr>\n",
       "  </thead>\n",
       "  <tbody>\n",
       "    <tr>\n",
       "      <th>1576712</th>\n",
       "      <td>3883723</td>\n",
       "      <td>2020-04-02 06:12:49.750000+00:00</td>\n",
       "      <td>M8G</td>\n",
       "      <td>0</td>\n",
       "      <td>77.0</td>\n",
       "      <td>7.7</td>\n",
       "    </tr>\n",
       "    <tr>\n",
       "      <th>1589568</th>\n",
       "      <td>3896579</td>\n",
       "      <td>2020-04-02 06:12:49.750000+00:00</td>\n",
       "      <td>M8G</td>\n",
       "      <td>0</td>\n",
       "      <td>120.0</td>\n",
       "      <td>5.5</td>\n",
       "    </tr>\n",
       "    <tr>\n",
       "      <th>1700672</th>\n",
       "      <td>4054958</td>\n",
       "      <td>2020-04-02 06:12:49.750000+00:00</td>\n",
       "      <td>M8G</td>\n",
       "      <td>0</td>\n",
       "      <td>77.0</td>\n",
       "      <td>7.7</td>\n",
       "    </tr>\n",
       "    <tr>\n",
       "      <th>1713521</th>\n",
       "      <td>4067807</td>\n",
       "      <td>2020-04-02 06:12:49.750000+00:00</td>\n",
       "      <td>M8G</td>\n",
       "      <td>0</td>\n",
       "      <td>120.0</td>\n",
       "      <td>5.5</td>\n",
       "    </tr>\n",
       "  </tbody>\n",
       "</table>\n",
       "</div>"
      ],
      "text/plain": [
       "              id                              hdt station voie  vitesse  \\\n",
       "1576712  3883723 2020-04-02 06:12:49.750000+00:00     M8G    0     77.0   \n",
       "1589568  3896579 2020-04-02 06:12:49.750000+00:00     M8G    0    120.0   \n",
       "1700672  4054958 2020-04-02 06:12:49.750000+00:00     M8G    0     77.0   \n",
       "1713521  4067807 2020-04-02 06:12:49.750000+00:00     M8G    0    120.0   \n",
       "\n",
       "         longueur  \n",
       "1576712       7.7  \n",
       "1589568       5.5  \n",
       "1700672       7.7  \n",
       "1713521       5.5  "
      ]
     },
     "execution_count": 35,
     "metadata": {},
     "output_type": "execute_result"
    }
   ],
   "source": [
    "sansdouble.get_group(('2020-04-02 06:12:49.750000+00:00','M8G','0'))\n",
    "# on a encore des doublons, exemple 2 fois les mêmes mesures v,l, 2 fois des mesures différentes?"
   ]
  },
  {
   "cell_type": "code",
   "execution_count": 49,
   "metadata": {},
   "outputs": [
    {
     "data": {
      "text/plain": [
       "(1837914, 841365, 776010)"
      ]
     },
     "execution_count": 49,
     "metadata": {},
     "output_type": "execute_result"
    }
   ],
   "source": [
    "len(hmvl),len(hmvl2),len(sansdouble)"
   ]
  },
  {
   "cell_type": "code",
   "execution_count": 41,
   "metadata": {},
   "outputs": [
    {
     "data": {
      "text/plain": [
       "pandas._libs.tslibs.timestamps.Timestamp"
      ]
     },
     "execution_count": 41,
     "metadata": {},
     "output_type": "execute_result"
    }
   ],
   "source": [
    "type(hmvl['hdt'])\n",
    "type(hmvl['hdt'].loc[1])"
   ]
  },
  {
   "cell_type": "code",
   "execution_count": 38,
   "metadata": {},
   "outputs": [
    {
     "data": {
      "text/plain": [
       "pandas.core.frame.DataFrame"
      ]
     },
     "execution_count": 38,
     "metadata": {},
     "output_type": "execute_result"
    }
   ],
   "source": [
    "type(hmvl)"
   ]
  },
  {
   "cell_type": "code",
   "execution_count": 42,
   "metadata": {},
   "outputs": [],
   "source": [
    "hmvl['datetime'] = pd.to_datetime(hmvl['hdt'])\n",
    "# Set the datetime column as the index\n",
    "hmvl.index = hmvl['hdt'] "
   ]
  },
  {
   "cell_type": "code",
   "execution_count": 45,
   "metadata": {},
   "outputs": [],
   "source": [
    "v6=hmvl['vitesse'].resample('6T').mean() \n",
    "qv6=hmvl['vitesse'].resample('6T').count()\n",
    "l6=hmvl['longueur'].resample('6T').mean()\n",
    "ql6=hmvl['longueur'].resample('6T').count()\n",
    "# calcul naïf de l'agrégation 6 minutes\n",
    "# le débit n'est pas le même selon qu'on prend en compte les vitesses non vides ou les longueurs non vides\n",
    "# on pourrait facilement renvoyer ça dans un table t6m"
   ]
  },
  {
   "cell_type": "code",
   "execution_count": 46,
   "metadata": {},
   "outputs": [
    {
     "data": {
      "text/plain": [
       "(hdt\n",
       " 2020-04-01 22:00:00+00:00     94.267624\n",
       " 2020-04-01 22:06:00+00:00     95.419825\n",
       " 2020-04-01 22:12:00+00:00     94.747619\n",
       " 2020-04-01 22:18:00+00:00     95.798387\n",
       " 2020-04-01 22:24:00+00:00     94.212851\n",
       "                                 ...    \n",
       " 2020-04-03 14:54:00+00:00     98.070136\n",
       " 2020-04-03 15:00:00+00:00    100.558753\n",
       " 2020-04-03 15:06:00+00:00    100.552463\n",
       " 2020-04-03 15:12:00+00:00    100.022936\n",
       " 2020-04-03 15:18:00+00:00     98.719298\n",
       " Freq: 6T, Name: vitesse, Length: 414, dtype: float64,\n",
       " hdt\n",
       " 2020-04-01 22:00:00+00:00    766\n",
       " 2020-04-01 22:06:00+00:00    686\n",
       " 2020-04-01 22:12:00+00:00    630\n",
       " 2020-04-01 22:18:00+00:00    744\n",
       " 2020-04-01 22:24:00+00:00    747\n",
       "                             ... \n",
       " 2020-04-03 14:54:00+00:00    442\n",
       " 2020-04-03 15:00:00+00:00    417\n",
       " 2020-04-03 15:06:00+00:00    467\n",
       " 2020-04-03 15:12:00+00:00    436\n",
       " 2020-04-03 15:18:00+00:00    285\n",
       " Freq: 6T, Name: vitesse, Length: 414, dtype: int64,\n",
       " hdt\n",
       " 2020-04-01 22:00:00+00:00    11.230949\n",
       " 2020-04-01 22:06:00+00:00    10.958153\n",
       " 2020-04-01 22:12:00+00:00    10.852524\n",
       " 2020-04-01 22:18:00+00:00    10.940000\n",
       " 2020-04-01 22:24:00+00:00    11.326365\n",
       "                                ...    \n",
       " 2020-04-03 14:54:00+00:00     7.503160\n",
       " 2020-04-03 15:00:00+00:00     7.460911\n",
       " 2020-04-03 15:06:00+00:00     7.133974\n",
       " 2020-04-03 15:12:00+00:00     6.675229\n",
       " 2020-04-03 15:18:00+00:00     6.954895\n",
       " Freq: 6T, Name: longueur, Length: 414, dtype: float64,\n",
       " hdt\n",
       " 2020-04-01 22:00:00+00:00    769\n",
       " 2020-04-01 22:06:00+00:00    693\n",
       " 2020-04-01 22:12:00+00:00    634\n",
       " 2020-04-01 22:18:00+00:00    745\n",
       " 2020-04-01 22:24:00+00:00    751\n",
       "                             ... \n",
       " 2020-04-03 14:54:00+00:00    443\n",
       " 2020-04-03 15:00:00+00:00    417\n",
       " 2020-04-03 15:06:00+00:00    468\n",
       " 2020-04-03 15:12:00+00:00    436\n",
       " 2020-04-03 15:18:00+00:00    286\n",
       " Freq: 6T, Name: longueur, Length: 414, dtype: int64)"
      ]
     },
     "execution_count": 46,
     "metadata": {},
     "output_type": "execute_result"
    }
   ],
   "source": [
    "v6,qv6,l6,ql6"
   ]
  },
  {
   "cell_type": "code",
   "execution_count": 51,
   "metadata": {},
   "outputs": [],
   "source": [
    "# conclusion provisoire : faire une procédure pour chaque jour\n",
    "# 0. vérifier qu'il n'y a pas d'horodate différentes de la date du jour (attention à la timezone de Paris)\n",
    "# 1. re-tester les doublons, il ne devrait plus y en avoir\n",
    "# 2. supprimer les valeurs aberrantes de l et v, et les voies, longueur ou vitesse vides\n",
    "# 3. agréger les données\n",
    "# PS il faut aussi faire un diagnostic sur le taux de mesures valides par station"
   ]
  },
  {
   "cell_type": "code",
   "execution_count": null,
   "metadata": {},
   "outputs": [],
   "source": []
  }
 ],
 "metadata": {
  "kernelspec": {
   "display_name": "Python 3",
   "language": "python",
   "name": "python3"
  },
  "language_info": {
   "codemirror_mode": {
    "name": "ipython",
    "version": 3
   },
   "file_extension": ".py",
   "mimetype": "text/x-python",
   "name": "python",
   "nbconvert_exporter": "python",
   "pygments_lexer": "ipython3",
   "version": "3.8.2"
  }
 },
 "nbformat": 4,
 "nbformat_minor": 4
}
