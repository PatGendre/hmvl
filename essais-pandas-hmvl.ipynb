{
 "cells": [
  {
   "cell_type": "code",
   "execution_count": 2,
   "metadata": {},
   "outputs": [],
   "source": [
    "import pandas as pd\n",
    "import matplotlib\n",
    "import psycopg2\n"
   ]
  },
  {
   "cell_type": "code",
   "execution_count": 51,
   "metadata": {},
   "outputs": [],
   "source": [
    "host=\"localhost\"\n",
    "port=5432\n",
    "dbname=\"hmvl\"\n",
    "username=\"dirmed\"\n",
    "#pwd=\"motdepasse\""
   ]
  },
  {
   "cell_type": "code",
   "execution_count": 50,
   "metadata": {},
   "outputs": [],
   "source": [
    "\n",
    "# l'import est rapide pour une journée, en tout cas de 3M de lignes (40 secondes)\n",
    "conn = psycopg2.connect(\"host='{}' port={} dbname='{}' user={} password={}\".format(host, port, dbname, username, pwd))\n",
    "sql = \"select * from hmvl;\"\n",
    "hmvl = pd.read_sql_query(sql, conn)\n",
    "conn = None"
   ]
  },
  {
   "cell_type": "code",
   "execution_count": 4,
   "metadata": {},
   "outputs": [],
   "source": [
    "hmvl[\"hdt\"] = pd.to_datetime(hmvl[\"hdt\"],utc=True)"
   ]
  },
  {
   "cell_type": "code",
   "execution_count": 6,
   "metadata": {},
   "outputs": [
    {
     "data": {
      "text/plain": [
       "id                           int64\n",
       "horodate_id                 object\n",
       "hdt            datetime64[ns, UTC]\n",
       "station                     object\n",
       "status                      object\n",
       "voie                        object\n",
       "vitesse                    float64\n",
       "longueur                   float64\n",
       "statuttr                    object\n",
       "dtype: object"
      ]
     },
     "execution_count": 6,
     "metadata": {},
     "output_type": "execute_result"
    }
   ],
   "source": [
    "hmvl.dtypes"
   ]
  },
  {
   "cell_type": "code",
   "execution_count": 57,
   "metadata": {},
   "outputs": [
    {
     "name": "stdout",
     "output_type": "stream",
     "text": [
      "B    1508493\n",
      "@     924888\n",
      "H     247139\n",
      "J     190421\n",
      "b        567\n",
      "I         28\n",
      "           6\n",
      "Name: statuttr, dtype: int64\n",
      "Empty DataFrame\n",
      "Columns: [id, horodate_id, hdt, station, status, voie, vitesse, longueur, statuttr]\n",
      "Index: []\n"
     ]
    },
    {
     "data": {
      "text/html": [
       "<div>\n",
       "<style scoped>\n",
       "    .dataframe tbody tr th:only-of-type {\n",
       "        vertical-align: middle;\n",
       "    }\n",
       "\n",
       "    .dataframe tbody tr th {\n",
       "        vertical-align: top;\n",
       "    }\n",
       "\n",
       "    .dataframe thead th {\n",
       "        text-align: right;\n",
       "    }\n",
       "</style>\n",
       "<table border=\"1\" class=\"dataframe\">\n",
       "  <thead>\n",
       "    <tr style=\"text-align: right;\">\n",
       "      <th></th>\n",
       "      <th>id</th>\n",
       "      <th>horodate_id</th>\n",
       "      <th>hdt</th>\n",
       "      <th>station</th>\n",
       "      <th>status</th>\n",
       "      <th>voie</th>\n",
       "      <th>vitesse</th>\n",
       "      <th>longueur</th>\n",
       "      <th>statuttr</th>\n",
       "    </tr>\n",
       "  </thead>\n",
       "  <tbody>\n",
       "    <tr>\n",
       "      <th>47</th>\n",
       "      <td>48</td>\n",
       "      <td>Wed Apr  1 15:47:42 2020</td>\n",
       "      <td>2020-04-01 15:47:42+02:00</td>\n",
       "      <td>M1c</td>\n",
       "      <td>0</td>\n",
       "      <td>None</td>\n",
       "      <td>NaN</td>\n",
       "      <td>NaN</td>\n",
       "      <td>H</td>\n",
       "    </tr>\n",
       "    <tr>\n",
       "      <th>51</th>\n",
       "      <td>52</td>\n",
       "      <td>Wed Apr  1 15:47:42 2020</td>\n",
       "      <td>2020-04-01 15:48:12.680000+02:00</td>\n",
       "      <td>M1b</td>\n",
       "      <td>0</td>\n",
       "      <td>0</td>\n",
       "      <td>91.0</td>\n",
       "      <td>3.9</td>\n",
       "      <td>H</td>\n",
       "    </tr>\n",
       "    <tr>\n",
       "      <th>52</th>\n",
       "      <td>53</td>\n",
       "      <td>Wed Apr  1 15:47:42 2020</td>\n",
       "      <td>2020-04-01 15:48:14.320000+02:00</td>\n",
       "      <td>M1b</td>\n",
       "      <td>0</td>\n",
       "      <td>0</td>\n",
       "      <td>89.0</td>\n",
       "      <td>4.0</td>\n",
       "      <td>H</td>\n",
       "    </tr>\n",
       "    <tr>\n",
       "      <th>53</th>\n",
       "      <td>54</td>\n",
       "      <td>Wed Apr  1 15:47:42 2020</td>\n",
       "      <td>2020-04-01 15:48:15.870000+02:00</td>\n",
       "      <td>M1b</td>\n",
       "      <td>0</td>\n",
       "      <td>0</td>\n",
       "      <td>93.0</td>\n",
       "      <td>4.3</td>\n",
       "      <td>H</td>\n",
       "    </tr>\n",
       "    <tr>\n",
       "      <th>54</th>\n",
       "      <td>55</td>\n",
       "      <td>Wed Apr  1 15:47:42 2020</td>\n",
       "      <td>2020-04-01 15:48:16.040000+02:00</td>\n",
       "      <td>M1b</td>\n",
       "      <td>0</td>\n",
       "      <td>1</td>\n",
       "      <td>91.0</td>\n",
       "      <td>3.3</td>\n",
       "      <td>H</td>\n",
       "    </tr>\n",
       "    <tr>\n",
       "      <th>55</th>\n",
       "      <td>56</td>\n",
       "      <td>Wed Apr  1 15:47:42 2020</td>\n",
       "      <td>2020-04-01 15:48:17.040000+02:00</td>\n",
       "      <td>M1b</td>\n",
       "      <td>0</td>\n",
       "      <td>1</td>\n",
       "      <td>86.0</td>\n",
       "      <td>4.3</td>\n",
       "      <td>H</td>\n",
       "    </tr>\n",
       "    <tr>\n",
       "      <th>56</th>\n",
       "      <td>57</td>\n",
       "      <td>Wed Apr  1 15:47:42 2020</td>\n",
       "      <td>2020-04-01 15:48:17.970000+02:00</td>\n",
       "      <td>M1b</td>\n",
       "      <td>0</td>\n",
       "      <td>1</td>\n",
       "      <td>93.0</td>\n",
       "      <td>4.5</td>\n",
       "      <td>H</td>\n",
       "    </tr>\n",
       "    <tr>\n",
       "      <th>102</th>\n",
       "      <td>103</td>\n",
       "      <td>Wed Apr  1 15:47:42 2020</td>\n",
       "      <td>2020-04-01 15:48:13.690000+02:00</td>\n",
       "      <td>M7O</td>\n",
       "      <td>0</td>\n",
       "      <td>0</td>\n",
       "      <td>123.0</td>\n",
       "      <td>0.7</td>\n",
       "      <td>H</td>\n",
       "    </tr>\n",
       "    <tr>\n",
       "      <th>103</th>\n",
       "      <td>104</td>\n",
       "      <td>Wed Apr  1 15:47:42 2020</td>\n",
       "      <td>2020-04-01 15:48:13.890000+02:00</td>\n",
       "      <td>M7O</td>\n",
       "      <td>0</td>\n",
       "      <td>1</td>\n",
       "      <td>120.0</td>\n",
       "      <td>3.3</td>\n",
       "      <td>H</td>\n",
       "    </tr>\n",
       "    <tr>\n",
       "      <th>104</th>\n",
       "      <td>105</td>\n",
       "      <td>Wed Apr  1 15:47:42 2020</td>\n",
       "      <td>2020-04-01 15:48:17.180000+02:00</td>\n",
       "      <td>M7O</td>\n",
       "      <td>0</td>\n",
       "      <td>1</td>\n",
       "      <td>111.0</td>\n",
       "      <td>5.2</td>\n",
       "      <td>H</td>\n",
       "    </tr>\n",
       "    <tr>\n",
       "      <th>110</th>\n",
       "      <td>111</td>\n",
       "      <td>Wed Apr  1 15:47:42 2020</td>\n",
       "      <td>2020-04-01 15:48:21.600000+02:00</td>\n",
       "      <td>M1h</td>\n",
       "      <td>0</td>\n",
       "      <td>0</td>\n",
       "      <td>83.0</td>\n",
       "      <td>2.8</td>\n",
       "      <td>H</td>\n",
       "    </tr>\n",
       "    <tr>\n",
       "      <th>111</th>\n",
       "      <td>112</td>\n",
       "      <td>Wed Apr  1 15:47:42 2020</td>\n",
       "      <td>2020-04-01 15:48:22.300000+02:00</td>\n",
       "      <td>M1h</td>\n",
       "      <td>0</td>\n",
       "      <td>1</td>\n",
       "      <td>95.0</td>\n",
       "      <td>5.5</td>\n",
       "      <td>H</td>\n",
       "    </tr>\n",
       "    <tr>\n",
       "      <th>115</th>\n",
       "      <td>116</td>\n",
       "      <td>Wed Apr  1 15:47:42 2020</td>\n",
       "      <td>2020-04-01 15:48:21.010000+02:00</td>\n",
       "      <td>M1B</td>\n",
       "      <td>0</td>\n",
       "      <td>1</td>\n",
       "      <td>113.0</td>\n",
       "      <td>4.3</td>\n",
       "      <td>H</td>\n",
       "    </tr>\n",
       "    <tr>\n",
       "      <th>177</th>\n",
       "      <td>178</td>\n",
       "      <td>Wed Apr  1 15:47:42 2020</td>\n",
       "      <td>2020-04-01 15:48:13.920000+02:00</td>\n",
       "      <td>M7j</td>\n",
       "      <td>0</td>\n",
       "      <td>0</td>\n",
       "      <td>135.0</td>\n",
       "      <td>3.9</td>\n",
       "      <td>H</td>\n",
       "    </tr>\n",
       "    <tr>\n",
       "      <th>196</th>\n",
       "      <td>197</td>\n",
       "      <td>Wed Apr  1 15:47:42 2020</td>\n",
       "      <td>2020-04-01 15:48:21.860000+02:00</td>\n",
       "      <td>M7r</td>\n",
       "      <td>0</td>\n",
       "      <td>0</td>\n",
       "      <td>123.0</td>\n",
       "      <td>4.2</td>\n",
       "      <td>H</td>\n",
       "    </tr>\n",
       "    <tr>\n",
       "      <th>200</th>\n",
       "      <td>201</td>\n",
       "      <td>Wed Apr  1 15:47:42 2020</td>\n",
       "      <td>2020-04-01 15:47:42+02:00</td>\n",
       "      <td>M7t</td>\n",
       "      <td>0</td>\n",
       "      <td>None</td>\n",
       "      <td>NaN</td>\n",
       "      <td>NaN</td>\n",
       "      <td>H</td>\n",
       "    </tr>\n",
       "    <tr>\n",
       "      <th>277</th>\n",
       "      <td>278</td>\n",
       "      <td>Wed Apr  1 15:47:48 2020</td>\n",
       "      <td>2020-04-01 15:47:48+02:00</td>\n",
       "      <td>M1c</td>\n",
       "      <td>0</td>\n",
       "      <td>None</td>\n",
       "      <td>NaN</td>\n",
       "      <td>NaN</td>\n",
       "      <td>H</td>\n",
       "    </tr>\n",
       "    <tr>\n",
       "      <th>281</th>\n",
       "      <td>282</td>\n",
       "      <td>Wed Apr  1 15:47:48 2020</td>\n",
       "      <td>2020-04-01 15:48:24.890000+02:00</td>\n",
       "      <td>M1b</td>\n",
       "      <td>0</td>\n",
       "      <td>1</td>\n",
       "      <td>96.0</td>\n",
       "      <td>4.0</td>\n",
       "      <td>H</td>\n",
       "    </tr>\n",
       "    <tr>\n",
       "      <th>282</th>\n",
       "      <td>283</td>\n",
       "      <td>Wed Apr  1 15:47:48 2020</td>\n",
       "      <td>2020-04-01 15:48:26.230000+02:00</td>\n",
       "      <td>M1b</td>\n",
       "      <td>0</td>\n",
       "      <td>0</td>\n",
       "      <td>123.0</td>\n",
       "      <td>4.1</td>\n",
       "      <td>H</td>\n",
       "    </tr>\n",
       "    <tr>\n",
       "      <th>334</th>\n",
       "      <td>335</td>\n",
       "      <td>Wed Apr  1 15:47:48 2020</td>\n",
       "      <td>2020-04-01 15:48:30.930000+02:00</td>\n",
       "      <td>M7O</td>\n",
       "      <td>0</td>\n",
       "      <td>0</td>\n",
       "      <td>99.0</td>\n",
       "      <td>4.3</td>\n",
       "      <td>H</td>\n",
       "    </tr>\n",
       "  </tbody>\n",
       "</table>\n",
       "</div>"
      ],
      "text/plain": [
       "      id               horodate_id                               hdt station  \\\n",
       "47    48  Wed Apr  1 15:47:42 2020         2020-04-01 15:47:42+02:00    M1c    \n",
       "51    52  Wed Apr  1 15:47:42 2020  2020-04-01 15:48:12.680000+02:00    M1b    \n",
       "52    53  Wed Apr  1 15:47:42 2020  2020-04-01 15:48:14.320000+02:00    M1b    \n",
       "53    54  Wed Apr  1 15:47:42 2020  2020-04-01 15:48:15.870000+02:00    M1b    \n",
       "54    55  Wed Apr  1 15:47:42 2020  2020-04-01 15:48:16.040000+02:00    M1b    \n",
       "55    56  Wed Apr  1 15:47:42 2020  2020-04-01 15:48:17.040000+02:00    M1b    \n",
       "56    57  Wed Apr  1 15:47:42 2020  2020-04-01 15:48:17.970000+02:00    M1b    \n",
       "102  103  Wed Apr  1 15:47:42 2020  2020-04-01 15:48:13.690000+02:00    M7O    \n",
       "103  104  Wed Apr  1 15:47:42 2020  2020-04-01 15:48:13.890000+02:00    M7O    \n",
       "104  105  Wed Apr  1 15:47:42 2020  2020-04-01 15:48:17.180000+02:00    M7O    \n",
       "110  111  Wed Apr  1 15:47:42 2020  2020-04-01 15:48:21.600000+02:00    M1h    \n",
       "111  112  Wed Apr  1 15:47:42 2020  2020-04-01 15:48:22.300000+02:00    M1h    \n",
       "115  116  Wed Apr  1 15:47:42 2020  2020-04-01 15:48:21.010000+02:00    M1B    \n",
       "177  178  Wed Apr  1 15:47:42 2020  2020-04-01 15:48:13.920000+02:00    M7j    \n",
       "196  197  Wed Apr  1 15:47:42 2020  2020-04-01 15:48:21.860000+02:00    M7r    \n",
       "200  201  Wed Apr  1 15:47:42 2020         2020-04-01 15:47:42+02:00    M7t    \n",
       "277  278  Wed Apr  1 15:47:48 2020         2020-04-01 15:47:48+02:00    M1c    \n",
       "281  282  Wed Apr  1 15:47:48 2020  2020-04-01 15:48:24.890000+02:00    M1b    \n",
       "282  283  Wed Apr  1 15:47:48 2020  2020-04-01 15:48:26.230000+02:00    M1b    \n",
       "334  335  Wed Apr  1 15:47:48 2020  2020-04-01 15:48:30.930000+02:00    M7O    \n",
       "\n",
       "    status  voie  vitesse  longueur statuttr  \n",
       "47       0  None      NaN       NaN        H  \n",
       "51       0     0     91.0       3.9        H  \n",
       "52       0     0     89.0       4.0        H  \n",
       "53       0     0     93.0       4.3        H  \n",
       "54       0     1     91.0       3.3        H  \n",
       "55       0     1     86.0       4.3        H  \n",
       "56       0     1     93.0       4.5        H  \n",
       "102      0     0    123.0       0.7        H  \n",
       "103      0     1    120.0       3.3        H  \n",
       "104      0     1    111.0       5.2        H  \n",
       "110      0     0     83.0       2.8        H  \n",
       "111      0     1     95.0       5.5        H  \n",
       "115      0     1    113.0       4.3        H  \n",
       "177      0     0    135.0       3.9        H  \n",
       "196      0     0    123.0       4.2        H  \n",
       "200      0  None      NaN       NaN        H  \n",
       "277      0  None      NaN       NaN        H  \n",
       "281      0     1     96.0       4.0        H  \n",
       "282      0     0    123.0       4.1        H  \n",
       "334      0     0     99.0       4.3        H  "
      ]
     },
     "execution_count": 57,
     "metadata": {},
     "output_type": "execute_result"
    }
   ],
   "source": [
    "print(hmvl[\"statuttr\"].value_counts())\n",
    "# a priori on garde les statuts B et @\n",
    "# pour H que fait-on ? en principe c'est une erreur interne mais les valeurs ont l'air correctes\n",
    "# de même pour J... et les autres valeurs ne sont pas documentées\n",
    "# par exemple avec le statuttr J il n'y a aucune ligne avec le status 2\n",
    "print(hmvl[(hmvl[\"status\"]==\"2\") & (hmvl[\"statuttr\"]==\"J\")])\n",
    "# -> a priori le Status TR n'apporte pas d'info permettant d'éliminer des mesures\n",
    "hmvl[hmvl[\"statuttr\"]==\"H\"][:20]\n"
   ]
  },
  {
   "cell_type": "code",
   "execution_count": 8,
   "metadata": {},
   "outputs": [
    {
     "data": {
      "text/plain": [
       "0    2871542\n",
       "2     529113\n",
       "Name: status, dtype: int64"
      ]
     },
     "execution_count": 8,
     "metadata": {},
     "output_type": "execute_result"
    }
   ],
   "source": [
    "hmvl[\"status\"].value_counts()"
   ]
  },
  {
   "cell_type": "code",
   "execution_count": 31,
   "metadata": {},
   "outputs": [
    {
     "name": "stdout",
     "output_type": "stream",
     "text": [
      "Series([], Name: longueur, dtype: int64)\n",
      "M3S     13483\n",
      "M8Q     13483\n",
      "M5r     13483\n",
      "M7p     13483\n",
      "M3e     13461\n",
      "M1e     13269\n",
      "M1E     13269\n",
      "M4e     13245\n",
      "M3m     13245\n",
      "M7q     13203\n",
      "M4i     13203\n",
      "M7Q     13203\n",
      "M3q     13203\n",
      "M5y     13160\n",
      "M4f      6626\n",
      "Name: station, dtype: int64\n",
      "M3S     13483\n",
      "M8Q     13483\n",
      "M5r     13483\n",
      "M7p     13483\n",
      "M3e     13483\n",
      "M1e     13269\n",
      "M1E     13269\n",
      "M4e     15778\n",
      "M3m     16769\n",
      "M7q     13621\n",
      "M4i     13401\n",
      "M7Q     13643\n",
      "M3q     13841\n",
      "M5y     13160\n",
      "M4f     23668\n",
      "Name: station, dtype: int64\n"
     ]
    }
   ],
   "source": [
    "print(hmvl[hmvl[\"status\"]==\"2\"][\"longueur\"].value_counts())\n",
    "# n'affiche rien:\n",
    "# c'est rassurant, quand le status est 2, il n'y a pasde mesures de vitesse ni de longueur\n",
    "# on peut donc garder les stats de status 2 par station des diagnostics, \n",
    "# et on peut les enlever pour les traitements ultérieurs\n",
    "x=hmvl[hmvl[\"status\"]==\"2\"][\"station\"].value_counts()[0:15]\n",
    "print(x)\n",
    "print(hmvl[\"station\"].value_counts()[x.keys()])\n",
    "# on voit que certaines stations M3S, M8Q... n'ont aucune mesure"
   ]
  },
  {
   "cell_type": "code",
   "execution_count": 12,
   "metadata": {},
   "outputs": [
    {
     "data": {
      "text/plain": [
       "(Timestamp('2019-06-28 08:50:18+0000', tz='UTC'),\n",
       " Timestamp('2020-04-02 15:01:59.730000+0000', tz='UTC'),\n",
       " Timedelta('279 days 06:11:41.730000'))"
      ]
     },
     "execution_count": 12,
     "metadata": {},
     "output_type": "execute_result"
    }
   ],
   "source": [
    "hmvl[\"hdt\"].min() , hmvl[\"hdt\"].max(), hmvl[\"hdt\"].max()-hmvl[\"hdt\"].min()\n",
    "# des dates bizarres apparaissent, ni le 1er ni le 2 avril 2020!\n",
    "# a priori on ne doit garder que le mesures de la date du jour, éventuellement les dates autour à cause de minuit"
   ]
  },
  {
   "cell_type": "code",
   "execution_count": 17,
   "metadata": {},
   "outputs": [
    {
     "data": {
      "text/plain": [
       "2020-04-02    2957771\n",
       "2020-04-01     293162\n",
       "2020-02-21      84199\n",
       "2019-06-28      36344\n",
       "2020-01-14      22403\n",
       "2019-12-26       6776\n",
       "Name: hdt, dtype: int64"
      ]
     },
     "execution_count": 17,
     "metadata": {},
     "output_type": "execute_result"
    }
   ],
   "source": [
    "hmvl[\"hdt\"].dt.date.value_counts()"
   ]
  },
  {
   "cell_type": "code",
   "execution_count": 45,
   "metadata": {},
   "outputs": [
    {
     "data": {
      "text/plain": [
       "Thu Apr  2    2957771\n",
       "Wed Apr  1     293162\n",
       "Fri Feb 21      84199\n",
       "Fri Jun 28      36344\n",
       "Tue Jan 14      22403\n",
       "Thu Dec 26       6776\n",
       "Name: horodate_id, dtype: int64"
      ]
     },
     "execution_count": 45,
     "metadata": {},
     "output_type": "execute_result"
    }
   ],
   "source": [
    "listedates=hmvl[\"horodate_id\"].str[:10]\n",
    "listedates.value_counts()"
   ]
  },
  {
   "cell_type": "code",
   "execution_count": 48,
   "metadata": {},
   "outputs": [
    {
     "data": {
      "text/html": [
       "<div>\n",
       "<style scoped>\n",
       "    .dataframe tbody tr th:only-of-type {\n",
       "        vertical-align: middle;\n",
       "    }\n",
       "\n",
       "    .dataframe tbody tr th {\n",
       "        vertical-align: top;\n",
       "    }\n",
       "\n",
       "    .dataframe thead th {\n",
       "        text-align: right;\n",
       "    }\n",
       "</style>\n",
       "<table border=\"1\" class=\"dataframe\">\n",
       "  <thead>\n",
       "    <tr style=\"text-align: right;\">\n",
       "      <th></th>\n",
       "      <th>id</th>\n",
       "      <th>horodate_id</th>\n",
       "      <th>hdt</th>\n",
       "      <th>station</th>\n",
       "      <th>status</th>\n",
       "      <th>voie</th>\n",
       "      <th>vitesse</th>\n",
       "      <th>longueur</th>\n",
       "      <th>statuttr</th>\n",
       "    </tr>\n",
       "  </thead>\n",
       "  <tbody>\n",
       "  </tbody>\n",
       "</table>\n",
       "</div>"
      ],
      "text/plain": [
       "Empty DataFrame\n",
       "Columns: [id, horodate_id, hdt, station, status, voie, vitesse, longueur, statuttr]\n",
       "Index: []"
      ]
     },
     "execution_count": 48,
     "metadata": {},
     "output_type": "execute_result"
    }
   ],
   "source": [
    "hmvl[hmvl[\"horodate_id\"].str[10]==\" Fri Jun 28\"]"
   ]
  },
  {
   "cell_type": "code",
   "execution_count": 66,
   "metadata": {},
   "outputs": [],
   "source": [
    "hmvl2=hmvl[hmvl[\"status\"]==\"0\"][[\"hdt\",\"station\",\"voie\",\"vitesse\",\"longueur\"]]"
   ]
  },
  {
   "cell_type": "code",
   "execution_count": 73,
   "metadata": {},
   "outputs": [
    {
     "data": {
      "text/plain": [
       "<matplotlib.axes._subplots.AxesSubplot at 0x7f7770f036a0>"
      ]
     },
     "execution_count": 73,
     "metadata": {},
     "output_type": "execute_result"
    },
    {
     "data": {
      "image/png": "[encoded data removed]",
      "text/plain": [
       "<Figure size 432x288 with 1 Axes>"
      ]
     },
     "metadata": {
      "needs_background": "light"
     },
     "output_type": "display_data"
    }
   ],
   "source": [
    "hmvl2.boxplot(column=[\"vitesse\"],by=\"station\")\n",
    "# ça semble raisonnable de prendre 280 comme valeur seuil de vitesse"
   ]
  },
  {
   "cell_type": "code",
   "execution_count": 72,
   "metadata": {},
   "outputs": [
    {
     "data": {
      "text/plain": [
       "<matplotlib.axes._subplots.AxesSubplot at 0x7f7798dba190>"
      ]
     },
     "execution_count": 72,
     "metadata": {},
     "output_type": "execute_result"
    },
    {
     "data": {
      "image/png": "[encoded data removed]",
      "text/plain": [
       "<Figure size 432x288 with 1 Axes>"
      ]
     },
     "metadata": {
      "needs_background": "light"
     },
     "output_type": "display_data"
    }
   ],
   "source": [
    "hmvl2.boxplot(column=[\"longueur\"],by=\"station\")\n",
    "# ça semble raisonnable de prendre 25 comme valeur seuil de longueur, \n",
    "# mais il y a peut être valeur plus pertinente pour le métier, à cause des Transports Exceptionnels par exemple?\n",
    "# ou pour voir passer les convois ITER s'ils empruntent le réseau DIRMED?"
   ]
  },
  {
   "cell_type": "code",
   "execution_count": null,
   "metadata": {},
   "outputs": [],
   "source": []
  }
 ],
 "metadata": {
  "kernelspec": {
   "display_name": "Python 3",
   "language": "python",
   "name": "python3"
  },
  "language_info": {
   "codemirror_mode": {
    "name": "ipython",
    "version": 3
   },
   "file_extension": ".py",
   "mimetype": "text/x-python",
   "name": "python",
   "nbconvert_exporter": "python",
   "pygments_lexer": "ipython3",
   "version": "3.8.2"
  }
 },
 "nbformat": 4,
 "nbformat_minor": 4
}
